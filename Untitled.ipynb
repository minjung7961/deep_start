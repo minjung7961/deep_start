{
 "cells": [
  {
   "cell_type": "markdown",
   "id": "1f0a3f93",
   "metadata": {},
   "source": [
    "# 텐서플로우를 이용한 딥러닝 큰틀"
   ]
  },
  {
   "cell_type": "code",
   "execution_count": 1,
   "id": "4bb81ea6",
   "metadata": {},
   "outputs": [
    {
     "name": "stdout",
     "output_type": "stream",
     "text": [
      "Epoch 1/100\n",
      "47/47 [==============================] - 0s 528us/step - loss: 0.8781 - accuracy: 0.7774\n",
      "Epoch 2/100\n",
      "47/47 [==============================] - 0s 433us/step - loss: 0.4637 - accuracy: 0.8707\n",
      "Epoch 3/100\n",
      "47/47 [==============================] - 0s 411us/step - loss: 0.4652 - accuracy: 0.8347\n",
      "Epoch 4/100\n",
      "47/47 [==============================] - 0s 455us/step - loss: 0.5176 - accuracy: 0.8405\n",
      "Epoch 5/100\n",
      "47/47 [==============================] - 0s 412us/step - loss: 0.4461 - accuracy: 0.8570\n",
      "Epoch 6/100\n",
      "47/47 [==============================] - 0s 431us/step - loss: 0.4391 - accuracy: 0.8523\n",
      "Epoch 7/100\n",
      "47/47 [==============================] - 0s 412us/step - loss: 0.4616 - accuracy: 0.8443\n",
      "Epoch 8/100\n",
      "47/47 [==============================] - 0s 390us/step - loss: 0.4523 - accuracy: 0.8447\n",
      "Epoch 9/100\n",
      "47/47 [==============================] - 0s 434us/step - loss: 0.3877 - accuracy: 0.8618\n",
      "Epoch 10/100\n",
      "47/47 [==============================] - 0s 433us/step - loss: 0.3944 - accuracy: 0.8697\n",
      "Epoch 11/100\n",
      "47/47 [==============================] - 0s 426us/step - loss: 0.4379 - accuracy: 0.8480\n",
      "Epoch 12/100\n",
      "47/47 [==============================] - 0s 434us/step - loss: 0.4470 - accuracy: 0.8449\n",
      "Epoch 13/100\n",
      "47/47 [==============================] - 0s 456us/step - loss: 0.4789 - accuracy: 0.8302\n",
      "Epoch 14/100\n",
      "47/47 [==============================] - 0s 455us/step - loss: 0.4402 - accuracy: 0.8438\n",
      "Epoch 15/100\n",
      "47/47 [==============================] - 0s 434us/step - loss: 0.4928 - accuracy: 0.8220\n",
      "Epoch 16/100\n",
      "47/47 [==============================] - 0s 412us/step - loss: 0.4119 - accuracy: 0.8534\n",
      "Epoch 17/100\n",
      "47/47 [==============================] - 0s 414us/step - loss: 0.4383 - accuracy: 0.8564\n",
      "Epoch 18/100\n",
      "47/47 [==============================] - 0s 412us/step - loss: 0.4807 - accuracy: 0.8556\n",
      "Epoch 19/100\n",
      "47/47 [==============================] - 0s 390us/step - loss: 0.4253 - accuracy: 0.8459\n",
      "Epoch 20/100\n",
      "47/47 [==============================] - 0s 412us/step - loss: 0.4403 - accuracy: 0.8561\n",
      "Epoch 21/100\n",
      "47/47 [==============================] - 0s 390us/step - loss: 0.4191 - accuracy: 0.8513\n",
      "Epoch 22/100\n",
      "47/47 [==============================] - 0s 434us/step - loss: 0.4100 - accuracy: 0.8554\n",
      "Epoch 23/100\n",
      "47/47 [==============================] - 0s 390us/step - loss: 0.4205 - accuracy: 0.8538\n",
      "Epoch 24/100\n",
      "47/47 [==============================] - 0s 434us/step - loss: 0.4226 - accuracy: 0.8471\n",
      "Epoch 25/100\n",
      "47/47 [==============================] - 0s 434us/step - loss: 0.4349 - accuracy: 0.8394\n",
      "Epoch 26/100\n",
      "47/47 [==============================] - 0s 385us/step - loss: 0.4526 - accuracy: 0.8552\n",
      "Epoch 27/100\n",
      "47/47 [==============================] - 0s 434us/step - loss: 0.4590 - accuracy: 0.8312\n",
      "Epoch 28/100\n",
      "47/47 [==============================] - 0s 412us/step - loss: 0.4469 - accuracy: 0.8461\n",
      "Epoch 29/100\n",
      "47/47 [==============================] - 0s 467us/step - loss: 0.3775 - accuracy: 0.8803\n",
      "Epoch 30/100\n",
      "47/47 [==============================] - 0s 434us/step - loss: 0.3581 - accuracy: 0.8892\n",
      "Epoch 31/100\n",
      "47/47 [==============================] - 0s 455us/step - loss: 0.4157 - accuracy: 0.8745\n",
      "Epoch 32/100\n",
      "47/47 [==============================] - 0s 455us/step - loss: 0.4037 - accuracy: 0.8639\n",
      "Epoch 33/100\n",
      "47/47 [==============================] - 0s 477us/step - loss: 0.4367 - accuracy: 0.8560\n",
      "Epoch 34/100\n",
      "47/47 [==============================] - 0s 434us/step - loss: 0.3961 - accuracy: 0.8582\n",
      "Epoch 35/100\n",
      "47/47 [==============================] - 0s 390us/step - loss: 0.4047 - accuracy: 0.8514\n",
      "Epoch 36/100\n",
      "47/47 [==============================] - 0s 434us/step - loss: 0.4423 - accuracy: 0.8340\n",
      "Epoch 37/100\n",
      "47/47 [==============================] - 0s 455us/step - loss: 0.4449 - accuracy: 0.8519\n",
      "Epoch 38/100\n",
      "47/47 [==============================] - 0s 456us/step - loss: 0.4314 - accuracy: 0.8452\n",
      "Epoch 39/100\n",
      "47/47 [==============================] - 0s 390us/step - loss: 0.4797 - accuracy: 0.8291\n",
      "Epoch 40/100\n",
      "47/47 [==============================] - 0s 455us/step - loss: 0.4177 - accuracy: 0.8508\n",
      "Epoch 41/100\n",
      "47/47 [==============================] - 0s 436us/step - loss: 0.4472 - accuracy: 0.8508\n",
      "Epoch 42/100\n",
      "47/47 [==============================] - 0s 390us/step - loss: 0.4340 - accuracy: 0.8517\n",
      "Epoch 43/100\n",
      "47/47 [==============================] - 0s 369us/step - loss: 0.3614 - accuracy: 0.8727\n",
      "Epoch 44/100\n",
      "47/47 [==============================] - 0s 455us/step - loss: 0.3523 - accuracy: 0.8783\n",
      "Epoch 45/100\n",
      "47/47 [==============================] - 0s 419us/step - loss: 0.3800 - accuracy: 0.8555\n",
      "Epoch 46/100\n",
      "47/47 [==============================] - 0s 412us/step - loss: 0.4116 - accuracy: 0.8546\n",
      "Epoch 47/100\n",
      "47/47 [==============================] - 0s 455us/step - loss: 0.3496 - accuracy: 0.8812\n",
      "Epoch 48/100\n",
      "47/47 [==============================] - 0s 434us/step - loss: 0.3902 - accuracy: 0.8645\n",
      "Epoch 49/100\n",
      "47/47 [==============================] - 0s 390us/step - loss: 0.4169 - accuracy: 0.8361\n",
      "Epoch 50/100\n",
      "47/47 [==============================] - 0s 412us/step - loss: 0.3604 - accuracy: 0.8783\n",
      "Epoch 51/100\n",
      "47/47 [==============================] - 0s 455us/step - loss: 0.4260 - accuracy: 0.8457\n",
      "Epoch 52/100\n",
      "47/47 [==============================] - 0s 412us/step - loss: 0.4176 - accuracy: 0.8520\n",
      "Epoch 53/100\n",
      "47/47 [==============================] - 0s 434us/step - loss: 0.4213 - accuracy: 0.8481\n",
      "Epoch 54/100\n",
      "47/47 [==============================] - 0s 412us/step - loss: 0.4200 - accuracy: 0.8348\n",
      "Epoch 55/100\n",
      "47/47 [==============================] - 0s 455us/step - loss: 0.4092 - accuracy: 0.8632\n",
      "Epoch 56/100\n",
      "47/47 [==============================] - 0s 408us/step - loss: 0.3982 - accuracy: 0.8476\n",
      "Epoch 57/100\n",
      "47/47 [==============================] - 0s 445us/step - loss: 0.4001 - accuracy: 0.8525\n",
      "Epoch 58/100\n",
      "47/47 [==============================] - 0s 440us/step - loss: 0.3528 - accuracy: 0.8703\n",
      "Epoch 59/100\n",
      "47/47 [==============================] - 0s 416us/step - loss: 0.4201 - accuracy: 0.8475\n",
      "Epoch 60/100\n",
      "47/47 [==============================] - 0s 434us/step - loss: 0.3578 - accuracy: 0.8774\n",
      "Epoch 61/100\n",
      "47/47 [==============================] - 0s 455us/step - loss: 0.3907 - accuracy: 0.8725\n",
      "Epoch 62/100\n",
      "47/47 [==============================] - 0s 390us/step - loss: 0.4215 - accuracy: 0.8389\n",
      "Epoch 63/100\n",
      "47/47 [==============================] - 0s 423us/step - loss: 0.3711 - accuracy: 0.8686\n",
      "Epoch 64/100\n",
      "47/47 [==============================] - 0s 455us/step - loss: 0.4243 - accuracy: 0.8525\n",
      "Epoch 65/100\n",
      "47/47 [==============================] - 0s 453us/step - loss: 0.3775 - accuracy: 0.8639\n",
      "Epoch 66/100\n",
      "47/47 [==============================] - 0s 455us/step - loss: 0.4256 - accuracy: 0.8517\n",
      "Epoch 67/100\n",
      "47/47 [==============================] - 0s 434us/step - loss: 0.3803 - accuracy: 0.8612\n",
      "Epoch 68/100\n",
      "47/47 [==============================] - 0s 412us/step - loss: 0.4071 - accuracy: 0.8624\n",
      "Epoch 69/100\n",
      "47/47 [==============================] - 0s 390us/step - loss: 0.4336 - accuracy: 0.8197\n",
      "Epoch 70/100\n",
      "47/47 [==============================] - 0s 369us/step - loss: 0.4068 - accuracy: 0.8519\n",
      "Epoch 71/100\n",
      "47/47 [==============================] - 0s 369us/step - loss: 0.4412 - accuracy: 0.8194\n",
      "Epoch 72/100\n",
      "47/47 [==============================] - 0s 403us/step - loss: 0.3777 - accuracy: 0.8554\n",
      "Epoch 73/100\n",
      "47/47 [==============================] - 0s 432us/step - loss: 0.4042 - accuracy: 0.8489\n",
      "Epoch 74/100\n",
      "47/47 [==============================] - 0s 403us/step - loss: 0.3783 - accuracy: 0.8595\n",
      "Epoch 75/100\n",
      "47/47 [==============================] - 0s 390us/step - loss: 0.3516 - accuracy: 0.8812\n",
      "Epoch 76/100\n",
      "47/47 [==============================] - 0s 412us/step - loss: 0.3733 - accuracy: 0.8629\n",
      "Epoch 77/100\n",
      "47/47 [==============================] - 0s 434us/step - loss: 0.4473 - accuracy: 0.8247\n",
      "Epoch 78/100\n",
      "47/47 [==============================] - 0s 412us/step - loss: 0.3992 - accuracy: 0.8696\n",
      "Epoch 79/100\n",
      "47/47 [==============================] - 0s 390us/step - loss: 0.4184 - accuracy: 0.8299\n",
      "Epoch 80/100\n",
      "47/47 [==============================] - 0s 421us/step - loss: 0.4250 - accuracy: 0.8335\n",
      "Epoch 81/100\n"
     ]
    },
    {
     "name": "stdout",
     "output_type": "stream",
     "text": [
      "47/47 [==============================] - 0s 412us/step - loss: 0.3712 - accuracy: 0.8793\n",
      "Epoch 82/100\n",
      "47/47 [==============================] - 0s 434us/step - loss: 0.4214 - accuracy: 0.8487\n",
      "Epoch 83/100\n",
      "47/47 [==============================] - 0s 412us/step - loss: 0.4450 - accuracy: 0.8381\n",
      "Epoch 84/100\n",
      "47/47 [==============================] - 0s 390us/step - loss: 0.3537 - accuracy: 0.8840\n",
      "Epoch 85/100\n",
      "47/47 [==============================] - 0s 405us/step - loss: 0.3822 - accuracy: 0.8617\n",
      "Epoch 86/100\n",
      "47/47 [==============================] - 0s 412us/step - loss: 0.3410 - accuracy: 0.8688\n",
      "Epoch 87/100\n",
      "47/47 [==============================] - 0s 433us/step - loss: 0.3933 - accuracy: 0.8567\n",
      "Epoch 88/100\n",
      "47/47 [==============================] - 0s 429us/step - loss: 0.3747 - accuracy: 0.8538\n",
      "Epoch 89/100\n",
      "47/47 [==============================] - 0s 390us/step - loss: 0.3942 - accuracy: 0.8320\n",
      "Epoch 90/100\n",
      "47/47 [==============================] - 0s 443us/step - loss: 0.3722 - accuracy: 0.8768\n",
      "Epoch 91/100\n",
      "47/47 [==============================] - 0s 422us/step - loss: 0.4208 - accuracy: 0.8516\n",
      "Epoch 92/100\n",
      "47/47 [==============================] - 0s 424us/step - loss: 0.4239 - accuracy: 0.8407\n",
      "Epoch 93/100\n",
      "47/47 [==============================] - 0s 455us/step - loss: 0.4079 - accuracy: 0.8362\n",
      "Epoch 94/100\n",
      "47/47 [==============================] - 0s 400us/step - loss: 0.3913 - accuracy: 0.8367\n",
      "Epoch 95/100\n",
      "47/47 [==============================] - 0s 434us/step - loss: 0.4023 - accuracy: 0.8584\n",
      "Epoch 96/100\n",
      "47/47 [==============================] - 0s 437us/step - loss: 0.4342 - accuracy: 0.8596\n",
      "Epoch 97/100\n",
      "47/47 [==============================] - 0s 455us/step - loss: 0.4469 - accuracy: 0.8137\n",
      "Epoch 98/100\n",
      "47/47 [==============================] - 0s 412us/step - loss: 0.3893 - accuracy: 0.8690\n",
      "Epoch 99/100\n",
      "47/47 [==============================] - 0s 436us/step - loss: 0.3737 - accuracy: 0.8620\n",
      "Epoch 100/100\n",
      "47/47 [==============================] - 0s 450us/step - loss: 0.3956 - accuracy: 0.8330\n"
     ]
    },
    {
     "data": {
      "text/plain": [
       "<tensorflow.python.keras.callbacks.History at 0x212ab6b7190>"
      ]
     },
     "execution_count": 1,
     "metadata": {},
     "output_type": "execute_result"
    }
   ],
   "source": [
    "# 딥러닝을 구동하는데 필요한 케라스 함수를 불러옵니다\n",
    "from tensorflow.keras.models import Sequential\n",
    "from tensorflow.keras.layers import Dense\n",
    "\n",
    "#필요한 라이브러릴를 불러옵니다.\n",
    "import numpy as np \n",
    "import tensorflow as tf\n",
    "\n",
    "#실행할 때마다 같은 결과를 출력하기 위해 설정하는 부분입니다.\n",
    "np.random.seed(3)\n",
    "tf.random.set_seed(3)\n",
    "\n",
    "#준비된 수술환자데이터를 불러들입니다.\n",
    "Data_set = np.loadtxt(\"data/ThoraricSurgery.csv\",delimiter=\",\")\n",
    "Data_set.shape\n",
    "\n",
    "# 환자의 기록과 수술 결과를 X와 Y로 구분하여 저장합니다.\n",
    "X = Data_set[:,0:17]\n",
    "Y = Data_set[:, 17]\n",
    "\n",
    "# 딥러닝 구조를 결정합니다(모델을 설정하고 실행하는 부분입니다.)\n",
    "model = Sequential() # -> 하나의 신경망을 만든것임\n",
    "model.add(Dense(30, input_dim=17, activation='relu')) # 30개의 신경망층 을 만들어라 relu는 처리함수\n",
    "model.add(Dense(1, activation='sigmoid'))# 역전파 어케 할꺼냐\n",
    "\n",
    "#딥러닝을 실행합니다\n",
    "model.compile(loss='binary_crossentropy', optimizer='adam', metrics=['accuracy'])\n",
    "model.fit(X,Y, epochs=100, batch_size=10 )"
   ]
  },
  {
   "cell_type": "markdown",
   "id": "e0dea5e2",
   "metadata": {},
   "source": [
    "## 신경망을 이용한 선형회귀 그래프 그려보기"
   ]
  },
  {
   "cell_type": "code",
   "execution_count": 2,
   "id": "5bf6a0c9",
   "metadata": {},
   "outputs": [
    {
     "name": "stdout",
     "output_type": "stream",
     "text": [
      "[4.53658854 4.15105346 4.06915025 3.5012537  3.99718555 3.99407482\n",
      " 4.09578057 3.95260331 4.14765857 4.03773911 3.8068456  4.48649224\n",
      " 4.50560144 4.77417845 4.29641713 4.18010431 4.15800006 3.87776535\n",
      " 4.65651928 4.05158926 4.04649609 4.36041558 4.88805556 4.53332644\n",
      " 4.17527652 4.2886146  4.71018656 4.49455956 4.33216317 4.51390536\n",
      " 4.82653196 5.21594881 4.26997908 4.47539151 4.44228726 3.97779264\n",
      " 4.44648048 4.43655586 5.10101248 4.74434533 4.31703447 5.01812324\n",
      " 4.73733988 4.3413793  4.70542722 4.7279443  4.66245843 4.95363776\n",
      " 4.29034679 4.90459606 5.30898016 5.28096498 5.37768238 5.40114383\n",
      " 5.53169008 4.77003743 5.37937816 4.58746178 4.98496361 4.61158804\n",
      " 5.5204744  5.626252   5.18700675 5.79872517 5.08401391 5.35171772\n",
      " 5.37251688 5.02747509 5.49821815 5.96862821 5.09955591 5.69693721\n",
      " 5.40088413 5.99822487 5.63257369 5.71040261 5.72058718 5.62246471\n",
      " 5.14911015 6.00543857 5.1968395  5.69970966 5.83246433 5.41696803\n",
      " 5.73196118 6.0589074  5.72141188 5.48214649 4.8941229  5.49739257\n",
      " 5.6317216  5.67422052 5.56124738 5.9825353  5.71703471 5.87671144\n",
      " 6.13336972 5.69311759 5.87978742 6.63739455 6.27233597 5.64208976\n",
      " 6.02632897 6.23969741 6.46049357 6.15524868 5.97147862 5.93159578\n",
      " 6.36437287 6.28487289 6.0560609  6.17443428 6.12639688 6.48875408\n",
      " 6.08446908 6.45748213 6.58711398 6.49763359 6.12158734 6.79545754\n",
      " 6.2085965  6.56009133 6.22626087 5.94912873 6.56018739 6.59867336\n",
      " 6.50943103 6.63558437 6.37834106 6.37172537 6.5626383  7.20594887\n",
      " 6.89771069 6.51736931 6.8610813  6.57005844 6.59649011 7.01155405\n",
      " 6.61628995 6.29127946 6.54212194 6.86069542 6.8926737  7.24685681\n",
      " 6.67966462 7.13401259 7.06246339 6.91006974 7.22562754 7.14261055\n",
      " 6.75638283 7.35668106 6.68900581 7.09326151 7.09621064 7.24296861\n",
      " 6.91804835 7.14529588 7.13369339 7.49510641 6.97730599 7.25800456\n",
      " 7.17790926 6.88696792 8.09931615 7.29521721 6.890686   7.77937201\n",
      " 7.05570877 7.50824592 7.67593506 7.24265632 7.32801942 7.31530586\n",
      " 7.45867913 7.03084959 7.16699745 7.51555301 7.88957508 7.7875132\n",
      " 8.13691568 7.84640664 7.50495276 7.64153894 7.0893744  7.43036043\n",
      " 7.43258568 7.839972   7.97324341 7.63088295 7.64254499 7.37522923\n",
      " 7.82096787 7.95384739 8.03323178 7.68478528 8.5362454  8.3183165\n",
      " 7.95132822 7.84184367]\n"
     ]
    },
    {
     "data": {
      "image/png": "[encoded data removed]",
      "text/plain": [
       "<Figure size 432x288 with 1 Axes>"
      ]
     },
     "metadata": {
      "needs_background": "light"
     },
     "output_type": "display_data"
    },
    {
     "name": "stdout",
     "output_type": "stream",
     "text": [
      "200/200 [==============================] - 0s 334us/step - loss: 0.0871 - mse: 0.0871\n",
      "msc [0.08707886934280396, 0.08707886934280396]\n"
     ]
    }
   ],
   "source": [
    "# 딥러닝을 구동하는데 필요한 케라스 함수를 불러옵니다\n",
    "from tensorflow.keras.models import Sequential # 신경망 만드는 함수\n",
    "from tensorflow.keras.layers import Dense\n",
    "\n",
    "#필요한 라이브러릴를 불러옵니다.\n",
    "import numpy as np \n",
    "import tensorflow as tf\n",
    "\n",
    "from matplotlib import pyplot as plt\n",
    "\n",
    "#실행할 때마다 같은 결과를 출력하기 위해 설정하는 부분입니다.\n",
    "X = data = np.linspace(1,2,200) # linespace 는 1차원 함수만드는 코드임 1에서 2사이의 200개의 수 순차순으로 만들어라 \n",
    "# print(X.shape)\n",
    "# print(X)\n",
    "Y = X*4 + np.random.randn(200) * 0.3 # x를 4배로 하고 편차 0.3정도의 가우시안 잡음 추가\n",
    "print(Y)\n",
    "\n",
    "\n",
    "# 딥러닝 구조를 결정합니다(모델을 설정하고 실행하는 부분입니다.)\n",
    "model = Sequential()\n",
    "model.add(Dense(1,input_dim=1, activation='linear')) #맨앞 숫자는 추력 뉴런의 수 input_dim 입력 뉴런의 수\n",
    "\n",
    "#딥러닝을 실행합니다\n",
    "model.compile(optimizer='sgd', loss='mse', metrics=['mse'])\n",
    "model.fit(X , Y , batch_size=1, epochs=30, verbose = 0) # 학습 수행 verbose 는 계산과정 보여줌\n",
    "\n",
    "predict = model.predict(X)\n",
    "\n",
    "plt.plot(data, predict, 'b', data, Y, 'k.')\n",
    "plt.show()\n",
    "\n",
    "# 오차제곱 수행해보자\n",
    "print('msc',model.evaluate(X, Y, batch_size=1))\n",
    "\n",
    "# 예측값이 뭔지 출력해보자"
   ]
  },
  {
   "cell_type": "markdown",
   "id": "ba317ebd",
   "metadata": {},
   "source": [
    "## 임의로 선형을 그어보기"
   ]
  },
  {
   "cell_type": "code",
   "execution_count": 3,
   "id": "0ae3064d",
   "metadata": {},
   "outputs": [
    {
     "name": "stdout",
     "output_type": "stream",
     "text": [
      "x의 평균값 :  5.0\n",
      "y의 평균값 :  90.5\n",
      "분모 :  20.0\n",
      "분자 :  46.0\n",
      "기울기 a = 2.3\n",
      "y 절편 b = 79.0\n"
     ]
    },
    {
     "data": {
      "text/plain": [
       "[<matplotlib.lines.Line2D at 0x212b362beb0>]"
      ]
     },
     "execution_count": 3,
     "metadata": {},
     "output_type": "execute_result"
    },
    {
     "data": {
      "image/png": "[encoded data removed]",
      "text/plain": [
       "<Figure size 432x288 with 1 Axes>"
      ]
     },
     "metadata": {
      "needs_background": "light"
     },
     "output_type": "display_data"
    }
   ],
   "source": [
    "import numpy as np\n",
    "\n",
    "# x값과 y값\n",
    "x = [2,4,6,8]\n",
    "y = [81,93,91,97]\n",
    "\n",
    "# x와 y의 평균값\n",
    "mx = np.mean(x)\n",
    "my = np.mean(y)\n",
    "\n",
    "print('x의 평균값 : ',mx)\n",
    "print('y의 평균값 : ',my)\n",
    "\n",
    "# 기울기 공식의 분모\n",
    "divisor = sum([(mx - i)**2 for i in x])\n",
    "\n",
    "# 기울기 공식의 분자\n",
    "def top(x, mx, y, my):\n",
    "    d = 0\n",
    "    for i in range(len(x)):\n",
    "        d += (x[i] - mx) * (y[i] - my)\n",
    "    return d\n",
    "\n",
    "dividend = top(x, mx, y, my)\n",
    "\n",
    "print('분모 : ', divisor)\n",
    "print('분자 : ', dividend)\n",
    "\n",
    "# 기울기와 y절편 구하기\n",
    "a = dividend / divisor\n",
    "b = my - (mx*a)\n",
    "\n",
    "# 출력으로 확인\n",
    "print(\"기울기 a =\", a)\n",
    "print(\"y 절편 b =\", b)\n",
    "\n",
    "#\n",
    "predict = []\n",
    "for i in x:\n",
    "    predict.append(a*i +b)\n",
    "    \n",
    "\n",
    "# 그래프 그리기\n",
    "plt.scatter(x,y, label = 'data')\n",
    "plt.plot(x, predict,c='r', label = 'linear_line')"
   ]
  },
  {
   "cell_type": "markdown",
   "id": "e88d005c",
   "metadata": {},
   "source": [
    "## MSE 찾아보기"
   ]
  },
  {
   "cell_type": "code",
   "execution_count": 4,
   "id": "bbe1f3ea",
   "metadata": {},
   "outputs": [
    {
     "name": "stdout",
     "output_type": "stream",
     "text": [
      "공부시간 = 2,실제점수 = 81, 예측점수 = 85\n",
      "공부시간 = 4,실제점수 = 93, 예측점수 = 91\n",
      "공부시간 = 6,실제점수 = 91, 예측점수 = 97\n",
      "공부시간 = 8,실제점수 = 97, 예측점수 = 103\n",
      "mse 최종값: 23.0\n"
     ]
    }
   ],
   "source": [
    "import numpy as np\n",
    "\n",
    "#가상의 기울기 a와 y절편 b\n",
    "fake_a_b = [3,79]\n",
    "\n",
    "# x 값과 y값\n",
    "data = [[2,81],[4,93],[6,91],[8,97]]\n",
    "x = [i[0] for i in data]\n",
    "y = [i[1] for i in data]\n",
    "\n",
    "# y = ax + b 에 a,b 값 대입하여 결과를 출력하는 함수\n",
    "def predict(x):\n",
    "    return fake_a_b[0]*x + fake_a_b[1]\n",
    "\n",
    "# MSE 함수\n",
    "def mse(y, y_hat):\n",
    "    return ((y - y_hat)**2).mean() # 평균제곱오차를 계산해주는 함수\n",
    "\n",
    "# MSE 함수를 각 y값에 대입하여 최종 값을 구하는 함수\n",
    "def mse_val(y, predict_result):\n",
    "    return mse(np.array(y), np.array(predict_result))\n",
    "\n",
    "# 예측값이 들어갈 빈 리스트\n",
    "predict_result = []\n",
    "\n",
    "# 모든 x값을 한 번씩 대입하여 predict_result 리스트 완성\n",
    "for i in range(len(x)):\n",
    "    predict_result.append(predict(x[i]))\n",
    "    print(f'공부시간 = {x[i]},실제점수 = {y[i]}, 예측점수 = {predict(x[i])}')\n",
    "    \n",
    "# 최종 mse 출력\n",
    "print('mse 최종값: ' + str(mse_val(predict_result,y)))"
   ]
  },
  {
   "cell_type": "markdown",
   "id": "0b67decf",
   "metadata": {},
   "source": [
    "## mae 찾아보기"
   ]
  },
  {
   "cell_type": "code",
   "execution_count": 5,
   "id": "972aad6b",
   "metadata": {},
   "outputs": [
    {
     "name": "stdout",
     "output_type": "stream",
     "text": [
      "공부시간 = 2,실제점수 = 81, 예측점수 = 85\n",
      "공부시간 = 4,실제점수 = 93, 예측점수 = 91\n",
      "공부시간 = 6,실제점수 = 91, 예측점수 = 97\n",
      "공부시간 = 8,실제점수 = 97, 예측점수 = 103\n",
      "mae 최종값: 23.0\n"
     ]
    }
   ],
   "source": [
    "import numpy as np\n",
    "\n",
    "#가상의 기울기 a와 y절편 b\n",
    "fake_a_b = [3,79]\n",
    "\n",
    "# x 값과 y값\n",
    "data = [[2,81],[4,93],[6,91],[8,97]]\n",
    "x = [i[0] for i in data]\n",
    "y = [i[1] for i in data]\n",
    "\n",
    "# y = ax + b 에 a,b 값 대입하여 결과를 출력하는 함수\n",
    "def predict(x):\n",
    "    return fake_a_b[0]*x + fake_a_b[1]\n",
    "\n",
    "# MSE 함수\n",
    "def mae(y, y_hat):\n",
    "    return (abs(y - y_hat)).mean() # 평균제곱오차를 계산해주는 함수\n",
    "\n",
    "# MSE 함수를 각 y값에 대입하여 최종 값을 구하는 함수\n",
    "def mae_val(y, predict_result):\n",
    "    return mse(np.array(y), np.array(predict_result))\n",
    "\n",
    "# 예측값이 들어갈 빈 리스트\n",
    "predict_result = []\n",
    "\n",
    "# 모든 x값을 한 번씩 대입하여 predict_result 리스트 완성\n",
    "for i in range(len(x)):\n",
    "    predict_result.append(predict(x[i]))\n",
    "    print(f'공부시간 = {x[i]},실제점수 = {y[i]}, 예측점수 = {predict(x[i])}')\n",
    "    \n",
    "# 최종 mse 출력\n",
    "print('mae 최종값: ' + str(mae_val(predict_result,y)))"
   ]
  },
  {
   "cell_type": "markdown",
   "id": "6050ec33",
   "metadata": {},
   "source": [
    "## 오차 수정하기 경사 하강법"
   ]
  },
  {
   "cell_type": "raw",
   "id": "4b3efafc",
   "metadata": {},
   "source": [
    "# y_pred = a * x_data + b # 오차 함수인 y = a*x + b\n",
    "# error = y_data  - y_pred # 실제값 - 예측값 즉 오차를 구하는 식\n",
    "\n",
    "#### 평균 제곱 오차를 a로 미분한 결과\n",
    "a_diff = -(2/ len(x_data)) * sum(x_data * (error))\n",
    "\n",
    "#### 평균 제곱 오차를b로 미분한 결과\n",
    "b_diff = -(2/ len(x_data)) * sum (y_data - y_pred)\n",
    "\n",
    "#### 여기에 학습률을 곱해 기존의 a값과 b값을 업데이트 해줌\n",
    "a = a - lr * a_diff #미분 결과에 학습률을 곱한후 기존의 a값에 업데이트\n",
    "b = b - lr * b_diff #위와같음"
   ]
  },
  {
   "cell_type": "code",
   "execution_count": 6,
   "id": "8a5177bd",
   "metadata": {},
   "outputs": [
    {
     "data": {
      "image/png": "[encoded data removed]",
      "text/plain": [
       "<Figure size 576x360 with 1 Axes>"
      ]
     },
     "metadata": {
      "needs_background": "light"
     },
     "output_type": "display_data"
    }
   ],
   "source": [
    "import numpy as np\n",
    "import pandas as pd\n",
    "import matplotlib.pyplot as plt\n",
    "\n",
    "# 공부 시간 x와 성적 y의 리스트를 만듭니다.\n",
    "data = [[2,81],[4,93],[6,91],[8,97]]\n",
    "x = [i[0] for i in data]\n",
    "y = [i[1] for i in data]\n",
    "\n",
    "#그래프로 나타내 봅시다\n",
    "plt.figure(figsize=(8,5))\n",
    "plt.scatter(x,y)\n",
    "plt.show()"
   ]
  },
  {
   "cell_type": "code",
   "execution_count": 7,
   "id": "ed5b51dd",
   "metadata": {},
   "outputs": [
    {
     "name": "stdout",
     "output_type": "stream",
     "text": [
      "epoch=0, 기울기=27.84, 절편=5.43\n",
      "epoch=100, 기울기=7.073858435872394, 절편=50.51166161138297\n",
      "epoch=200, 기울기=4.095999380762421, 절편=68.28224379060177\n",
      "epoch=300, 기울기=2.9756829100119027, 절편=74.96781336233505\n",
      "epoch=400, 기울기=2.5542024233262106, 절편=77.48302865233052\n",
      "epoch=500, 기울기=2.3956349066513707, 절편=78.42929177728175\n",
      "epoch=600, 기울기=2.3359793398132864, 절편=78.78529068727728\n",
      "epoch=700, 기울기=2.313535987420573, 절편=78.91922301600925\n",
      "epoch=800, 기울기=2.3050924490666174, 절편=78.96961044185792\n",
      "epoch=900, 기울기=2.3019158585694823, 절편=78.98856697541248\n",
      "epoch=1000, 기울기=2.3007207758016315, 절편=78.99569871827002\n",
      "epoch=1100, 기울기=2.300271167070735, 절편=78.99838179089187\n",
      "epoch=1200, 기울기=2.3001020172709508, 절편=78.9993912045567\n",
      "epoch=1300, 기울기=2.300038380484562, 절편=78.99977096168232\n",
      "epoch=1400, 기울기=2.3000144393354365, 절편=78.9999138322214\n",
      "epoch=1500, 기울기=2.3000054323026444, 절편=78.99996758234106\n",
      "epoch=1600, 기울기=2.300002043716771, 절편=78.99998780397235\n",
      "epoch=1700, 기울기=2.3000007688780433, 절편=78.99999541166466\n",
      "epoch=1800, 기울기=2.300000289263884, 절편=78.99999827379686\n",
      "epoch=1900, 기울기=2.3000001088255795, 절편=78.9999993505755\n",
      "epoch=2000, 기울기=2.3000000409418653, 절편=78.99999975567644\n",
      "epoch=2100, 기울기=2.300000015402966, 절편=78.99999990808166\n",
      "epoch=2200, 기울기=2.3000000057948387, 절편=78.99999996541888\n",
      "epoch=2300, 기울기=2.3000000021801132, 절편=78.99999998699\n",
      "epoch=2400, 기울기=2.3000000008201873, 절편=78.99999999510547\n",
      "epoch=2500, 기울기=2.3000000003085623, 절편=78.99999999815863\n",
      "epoch=2600, 기울기=2.300000000116084, 절편=78.99999999930725\n",
      "epoch=2700, 기울기=2.3000000000436582, 절편=78.99999999973946\n",
      "epoch=2800, 기울기=2.3000000000164302, 절편=78.99999999990196\n",
      "epoch=2900, 기울기=2.300000000006176, 절편=78.99999999996314\n",
      "epoch=3000, 기울기=2.300000000002328, 절편=78.99999999998612\n",
      "epoch=3100, 기울기=2.3000000000008787, 절편=78.99999999999477\n",
      "epoch=3200, 기울기=2.3000000000003262, 절편=78.99999999999805\n",
      "epoch=3300, 기울기=2.3000000000001046, 절편=78.99999999999935\n",
      "epoch=3400, 기울기=2.3000000000000913, 절편=78.99999999999946\n",
      "epoch=3500, 기울기=2.30000000000009, 절편=78.99999999999946\n",
      "epoch=3600, 기울기=2.3000000000000886, 절편=78.99999999999946\n",
      "epoch=3700, 기울기=2.3000000000000904, 절편=78.99999999999946\n",
      "epoch=3800, 기울기=2.300000000000089, 절편=78.99999999999946\n",
      "epoch=3900, 기울기=2.300000000000091, 절편=78.99999999999946\n",
      "epoch=4000, 기울기=2.3000000000000895, 절편=78.99999999999946\n"
     ]
    }
   ],
   "source": [
    "# 리스트로 되어 있는 x와 y값을 넘파이 배열로 바꾸어 줍니다.\n",
    "x_data = np.array(x)\n",
    "y_data = np.array(y)\n",
    "\n",
    "# 기울기 a와 절편 b의 값을 초기화 합니다.\n",
    "a = 0\n",
    "b = 0\n",
    "\n",
    "# 학습률을 정합니다.\n",
    "lr = 0.03\n",
    "\n",
    "# 몇 번 반복될지를 설정합니다.\n",
    "epochs = 4001\n",
    "\n",
    "# 경사 하강법을 시작합니다\n",
    "for i  in range(epochs):\n",
    "    y_hat = a * x_data + b # y를 구하는 식을 세웁니다\n",
    "    error = y_data - y_hat # 오차를 구하는 식입니다\n",
    "    a_diff = -(2/len(x_data)) * sum(x_data * (error)) # 오차함수를 a로 미분한 값\n",
    "    b_diff = -(2/len(x_data)) * sum(error) # 오차함수를 b로 미분한 값\n",
    "    a = a - lr * a_diff # 학습률을 곱해 기존의 a값을 업데이트합니다.\n",
    "    b = b - lr * b_diff # 학습률을 곱해 기존의 b값을 업데이트 합니다.\n",
    "    if i % 100 == 0:\n",
    "        print(f'epoch={i}, 기울기={a}, 절편={b}')"
   ]
  },
  {
   "cell_type": "code",
   "execution_count": 8,
   "id": "f3c05795",
   "metadata": {},
   "outputs": [
    {
     "data": {
      "image/png": "[encoded data removed]",
      "text/plain": [
       "<Figure size 432x288 with 1 Axes>"
      ]
     },
     "metadata": {
      "needs_background": "light"
     },
     "output_type": "display_data"
    },
    {
     "name": "stdout",
     "output_type": "stream",
     "text": [
      "2.3000000000000895 78.99999999999946\n"
     ]
    }
   ],
   "source": [
    "y_pred = a * x_data + b\n",
    "plt.scatter(x,y)\n",
    "plt.plot([min(x_data), max(x_data)], [min(y_pred),max(y_pred)],c='r')\n",
    "plt.show()\n",
    "print(a,b)"
   ]
  },
  {
   "cell_type": "markdown",
   "id": "406d66b8",
   "metadata": {},
   "source": [
    "## 2 경사하강법으로 회귀선 찾기"
   ]
  },
  {
   "cell_type": "code",
   "execution_count": 9,
   "id": "05b21455",
   "metadata": {
    "scrolled": true
   },
   "outputs": [
    {
     "data": {
      "text/plain": [
       "<matplotlib.collections.PathCollection at 0x212b488fe80>"
      ]
     },
     "execution_count": 9,
     "metadata": {},
     "output_type": "execute_result"
    },
    {
     "data": {
      "image/png": "[encoded data removed]",
      "text/plain": [
       "<Figure size 432x288 with 1 Axes>"
      ]
     },
     "metadata": {
      "needs_background": "light"
     },
     "output_type": "display_data"
    }
   ],
   "source": [
    "import numpy as np\n",
    "import matplotlib.pyplot as plt\n",
    "%matplotlib inline\n",
    "\n",
    "np.random.seed(0)\n",
    "# y = 4*x + 6 식을 근사 (w1=4, w0=6). random 값은 Noise를 위해 만듦\n",
    "X = 2*np.random.rand(100,1)\n",
    "y = 6 + 4*X + np.random.rand(100,1)\n",
    "\n",
    "# X, y 데이터 셋 scatter plot 으로 시각화\n",
    "plt.scatter(X,y)"
   ]
  },
  {
   "cell_type": "code",
   "execution_count": 10,
   "id": "c8763e74",
   "metadata": {},
   "outputs": [],
   "source": [
    "# w1 과 w0를 업데이트할 w1_update, w2_update를 반환\n",
    "def get_weight_updates(w1, w0, X, y, learning_rate=0.01):\n",
    "    N = len(y)\n",
    "    # 먼저 w1_update, w0_update를 각각 w1, w0의 shape와 동일한 크기를 가진 0값으로 초기화\n",
    "    \n",
    "    w1_update = np.zeros_like(w1)\n",
    "    w0_update = np.zeros_like(w0)\n",
    "    # 예측 배열 계산하고 예측과 실제 값의 차이 계산\n",
    "    y_pred = np.dot(X, w1.T) + w0\n",
    "    diff = y - y_pred\n",
    "    \n",
    "    # w0_update 를 dot 행렬 연산으로 구하기 위해 모두 1값을 가진 행렬 생성\n",
    "    w0_factors = np.ones((N,1))\n",
    "    \n",
    "    # w1과 w0을 업데이트할 w1_update와 w2_update 계산\n",
    "    w1_update = -(2/N) * learning_rate*(np.dot(X.T, diff))\n",
    "    w0_update = -(2/N) * learning_rate*(np.dot(w0_factors.T, diff))\n",
    "    \n",
    "    return w1_update, w0_update"
   ]
  },
  {
   "cell_type": "code",
   "execution_count": 11,
   "id": "afd8dd84",
   "metadata": {},
   "outputs": [],
   "source": [
    "#입력 인자 iters로 주어진 횟수만큼 반복적으로 w1과 w0를 업데이트 적용함\n",
    "def gradient_descent_steps(X, y, iters=10000):\n",
    "    # w0와 w1을 모두 0으로 초기화.\n",
    "    w0 = np.zeros((1,1))\n",
    "    w1 = np.zeros((1,1))\n",
    "    \n",
    "    # 인자로 주어진 iters만큼 반복적으로 get_weight_updates() 호출하여 w1, w0 업데이트 수행\n",
    "    for ind in range(iters):\n",
    "        w1_update, w0_update = get_weight_updates(w1, w0, X, y, learning_rate=0.01)\n",
    "        w1 = w1 - w1_update\n",
    "        w0 = w0 - w0_update\n",
    "        \n",
    "    return w1, w0\n"
   ]
  },
  {
   "cell_type": "code",
   "execution_count": 12,
   "id": "64248cef",
   "metadata": {},
   "outputs": [],
   "source": [
    "# 예측 오차 비용을 계산을 수행하는 함수 생성 및 경사 하강법 수행\n",
    "def get_cost(y, y_pred):\n",
    "    N = len(y)\n",
    "    cost = np.sum(np.square(y-y_pred))/N\n",
    "    return cost\n",
    "\n"
   ]
  },
  {
   "cell_type": "code",
   "execution_count": 13,
   "id": "cb8a59f5",
   "metadata": {},
   "outputs": [
    {
     "name": "stdout",
     "output_type": "stream",
     "text": [
      "diff's shape is (100, 1)\n",
      "w1_update shape : (1, 1) w0_update shape : (1, 1)\n",
      "w1 : [[0.]] w0 : [[0.]]\n",
      "w1: 4.028 w0:6.490479\n",
      "Gradien Descent Total Cost: 0.0775\n"
     ]
    }
   ],
   "source": [
    "w0 = np.zeros((1,1))\n",
    "w1 = np.zeros((1,1))\n",
    "y_pred = np.dot(X, w1.T) + w0\n",
    "diff = y - y_pred\n",
    "print('diff\\'s shape is',diff.shape)\n",
    "w0_factors = np.ones((100,1))\n",
    "w1_update = -(2/100)*0.01*(np.dot(X.T, diff))\n",
    "w0_update = -(2/100)*0.01*(np.dot(w0_factors.T,diff))\n",
    "print('w1_update shape :',w1_update.shape ,'w0_update shape :', w0_update.shape)\n",
    "print('w1 :',w1,'w0 :', w0)\n",
    "\n",
    "w1, w0 = gradient_descent_steps(X, y, iters=1000)\n",
    "print(\"w1:{0: .3f} w0:{1:3f}\".format(w1[0,0], w0[0,0]))\n",
    "y_pred = w1[0,0] *X + w0\n",
    "print('Gradien Descent Total Cost: {0:.4f}'.format(get_cost(y, y_pred)))"
   ]
  },
  {
   "cell_type": "code",
   "execution_count": 14,
   "id": "09a4812c",
   "metadata": {},
   "outputs": [
    {
     "name": "stderr",
     "output_type": "stream",
     "text": [
      "warning: LF will be replaced by CRLF in Untitled.ipynb.\n",
      "The file will have its original line endings in your working directory\n",
      "warning: LF will be replaced by CRLF in 紐⑤뜽�꽕怨꾪븯湲�.ipynb.\n",
      "The file will have its original line endings in your working directory\n",
      "warning: LF will be replaced by CRLF in A Neural Network Playground.html.\n",
      "The file will have its original line endings in your working directory\n",
      "warning: LF will be replaced by CRLF in A Neural Network Playground_files/analytics.js(1).�떎�슫濡쒕뱶.\n",
      "The file will have its original line endings in your working directory\n",
      "warning: LF will be replaced by CRLF in A Neural Network Playground_files/analytics.js.�떎�슫濡쒕뱶.\n",
      "The file will have its original line endings in your working directory\n",
      "warning: LF will be replaced by CRLF in A Neural Network Playground_files/bundle.css.\n",
      "The file will have its original line endings in your working directory\n",
      "warning: LF will be replaced by CRLF in A Neural Network Playground_files/bundle.js.�떎�슫濡쒕뱶.\n",
      "The file will have its original line endings in your working directory\n",
      "warning: LF will be replaced by CRLF in A Neural Network Playground_files/css.\n",
      "The file will have its original line endings in your working directory\n",
      "warning: LF will be replaced by CRLF in A Neural Network Playground_files/lib.js.�떎�슫濡쒕뱶.\n",
      "The file will have its original line endings in your working directory\n",
      "warning: LF will be replaced by CRLF in add.ipynb.\n",
      "The file will have its original line endings in your working directory\n",
      "warning: LF will be replaced by CRLF in �뵦�윭�떇�뒠�넗由ъ뼹.ipynb.\n",
      "The file will have its original line endings in your working directory\n"
     ]
    }
   ],
   "source": [
    "!git add ."
   ]
  },
  {
   "cell_type": "code",
   "execution_count": 15,
   "id": "9765225a",
   "metadata": {},
   "outputs": [],
   "source": [
    "!git config --global core.autocrlf true"
   ]
  },
  {
   "cell_type": "markdown",
   "id": "f8df46c9",
   "metadata": {},
   "source": [
    "## 로지스틱 회귀 실습"
   ]
  },
  {
   "cell_type": "markdown",
   "id": "a6c9d835",
   "metadata": {},
   "source": [
    "### 경사하강법을이용한 a와 b 계수를 찾아보자"
   ]
  },
  {
   "cell_type": "markdown",
   "id": "9af435fb",
   "metadata": {},
   "source": [
    "#### 데이터 세팅"
   ]
  },
  {
   "cell_type": "code",
   "execution_count": 16,
   "id": "3191838c",
   "metadata": {},
   "outputs": [],
   "source": [
    "data = [[2,0], [4,0],[6,0],[8,1],[10,1],[12,1],[14,1]]\n",
    "\n",
    "x_data = [i[0] for i in data] # 공부한 시간 데이터\n",
    "y_data = [i[1] for i in data] # 합격 여부"
   ]
  },
  {
   "cell_type": "markdown",
   "id": "3c46f3b9",
   "metadata": {},
   "source": [
    "##### 출력"
   ]
  },
  {
   "cell_type": "code",
   "execution_count": 17,
   "id": "0e91f611",
   "metadata": {},
   "outputs": [
    {
     "data": {
      "text/plain": [
       "(-0.1, 1.1)"
      ]
     },
     "execution_count": 17,
     "metadata": {},
     "output_type": "execute_result"
    },
    {
     "data": {
      "image/png": "[encoded data removed]",
      "text/plain": [
       "<Figure size 432x288 with 1 Axes>"
      ]
     },
     "metadata": {
      "needs_background": "light"
     },
     "output_type": "display_data"
    }
   ],
   "source": [
    "import matplotlib.pyplot as plt\n",
    "\n",
    "plt.scatter(x_data, y_data)\n",
    "plt.xlim(0,15) # x 범위 설정 (start, end)\n",
    "plt.ylim(-.1,1.1) # y 범위 설정 (start, end)"
   ]
  },
  {
   "cell_type": "markdown",
   "id": "eb4e515c",
   "metadata": {},
   "source": [
    "#### 기울기와 a절편 b의 값을 초기화하고 학습률을 정하자"
   ]
  },
  {
   "cell_type": "code",
   "execution_count": 18,
   "id": "0ddbce0d",
   "metadata": {},
   "outputs": [],
   "source": [
    "a = 0\n",
    "b = 0\n",
    "\n",
    "lr = 0.05 # 학습률"
   ]
  },
  {
   "cell_type": "markdown",
   "id": "25ff4646",
   "metadata": {},
   "source": [
    "####  시그모이드 함수 정의"
   ]
  },
  {
   "cell_type": "code",
   "execution_count": 19,
   "id": "e2e39e41",
   "metadata": {},
   "outputs": [],
   "source": [
    "def sigmoid(x): # sigmoid라는 이름의 함수 정의\n",
    "    return 1/(1 + np.e ** (-x))# 시그모이드 식의 형태 그대로 파이썬으로 옮김"
   ]
  },
  {
   "cell_type": "markdown",
   "id": "882065c5",
   "metadata": {},
   "source": [
    "#### 경사하강법을 이용한 a, b값 구하기"
   ]
  },
  {
   "cell_type": "code",
   "execution_count": 20,
   "id": "05b76914",
   "metadata": {},
   "outputs": [],
   "source": [
    "for i in range(2001):\n",
    "    for x_data, y_data in data:\n",
    "        # a에 대한 편미분, 앞서 정의한 sigmoid 함수 사용\n",
    "        a_diff = x_data*(sigmoid(a*x_data + b) - y_data)\n",
    "        # b에 대한 편미분 , 앞서 정의한 sigmoid 함수 사용\n",
    "        b_diff = sigmoid(a*x_data + b) - y_data\n",
    "        # a를 업데이트 하기 위해 a - diff 에 학습률 lr을 곱한 값을 a 에서 뺌\n",
    "        a = a - lr * a_diff\n",
    "        # b를 업데이트 하기 위해 b - diff 에 학습률 lr을 곱한 값을 b에서 뺌\n",
    "        b = b - lr * b_diff"
   ]
  },
  {
   "cell_type": "markdown",
   "id": "a38457b1",
   "metadata": {},
   "source": [
    "#### 다층 퍼셉트론으로 xor 문제 해결"
   ]
  },
  {
   "cell_type": "code",
   "execution_count": 21,
   "id": "ae15adbe",
   "metadata": {},
   "outputs": [
    {
     "name": "stdout",
     "output_type": "stream",
     "text": [
      "입력한 값 : (0, 0)출력 값: 0\n",
      "입력한 값 : (1, 0)출력 값: 1\n",
      "입력한 값 : (0, 1)출력 값: 1\n",
      "입력한 값 : (1, 1)출력 값: 0\n"
     ]
    }
   ],
   "source": [
    "import numpy as mp\n",
    "\n",
    "w11 = np.array([-2,-2])\n",
    "w12 = np.array([2, 2])\n",
    "w2 = np.array([1, 1])\n",
    "\n",
    "b1 = 3\n",
    "b2 = -1\n",
    "b3 = -1\n",
    "\n",
    "def MLP(x, w, b):\n",
    "    y = np.sum(w*x) + b\n",
    "    if y <= 0:\n",
    "        return 0\n",
    "    else:\n",
    "        return 1\n",
    "    \n",
    "# NAND 게이트\n",
    "def NAND(x1, x2):\n",
    "    return MLP(np.array([x1, x2]), w11, b1)\n",
    "\n",
    "# OR 게이트\n",
    "def OR(x1, x2):\n",
    "    return MLP(np.array([x1, x2]), w12, b2)\n",
    "\n",
    "# AND 게이트\n",
    "def AND(x1, x2):\n",
    "    return MLP(np.array([x1, x2]), w2, b3)\n",
    "\n",
    "# XOR 게이트\n",
    "def XOR(x1, x2):\n",
    "    return AND(NAND(x1, x2), OR(x1, x2))\n",
    "\n",
    "for x in [(0,0), (1, 0), (0, 1), (1, 1)]:\n",
    "    y = XOR(x[0], x[1])\n",
    "    print('입력한 값 : '+str(x)+'출력 값: '+ str(y))"
   ]
  },
  {
   "cell_type": "markdown",
   "id": "6567a7c7",
   "metadata": {},
   "source": [
    "#### 신경망에서 딥러닝으로"
   ]
  },
  {
   "cell_type": "code",
   "execution_count": 22,
   "id": "195749a2",
   "metadata": {},
   "outputs": [
    {
     "ename": "ValueError",
     "evalue": "operands could not be broadcast together with shapes (12,) (10,) ",
     "output_type": "error",
     "traceback": [
      "\u001b[1;31m---------------------------------------------------------------------------\u001b[0m",
      "\u001b[1;31mValueError\u001b[0m                                Traceback (most recent call last)",
      "\u001b[1;32m<ipython-input-22-b96e19599b85>\u001b[0m in \u001b[0;36m<module>\u001b[1;34m\u001b[0m\n\u001b[0;32m     13\u001b[0m     \u001b[1;32mreturn\u001b[0m \u001b[1;33m-\u001b[0m\u001b[0mnp\u001b[0m\u001b[1;33m.\u001b[0m\u001b[0msum\u001b[0m\u001b[1;33m(\u001b[0m\u001b[0mt\u001b[0m\u001b[1;33m*\u001b[0m\u001b[0mnp\u001b[0m\u001b[1;33m.\u001b[0m\u001b[0mlog\u001b[0m\u001b[1;33m(\u001b[0m\u001b[0my\u001b[0m\u001b[1;33m+\u001b[0m\u001b[0mdelta\u001b[0m\u001b[1;33m)\u001b[0m\u001b[1;33m)\u001b[0m\u001b[1;33m\u001b[0m\u001b[1;33m\u001b[0m\u001b[0m\n\u001b[0;32m     14\u001b[0m \u001b[1;33m\u001b[0m\u001b[0m\n\u001b[1;32m---> 15\u001b[1;33m \u001b[0mprint\u001b[0m\u001b[1;33m(\u001b[0m\u001b[0mMSE\u001b[0m\u001b[1;33m(\u001b[0m\u001b[0mt\u001b[0m\u001b[1;33m,\u001b[0m\u001b[0my\u001b[0m\u001b[1;33m)\u001b[0m\u001b[1;33m)\u001b[0m\u001b[1;33m\u001b[0m\u001b[1;33m\u001b[0m\u001b[0m\n\u001b[0m\u001b[0;32m     16\u001b[0m \u001b[0mprint\u001b[0m\u001b[1;33m(\u001b[0m\u001b[0mCEE\u001b[0m\u001b[1;33m(\u001b[0m\u001b[0mt\u001b[0m\u001b[1;33m,\u001b[0m \u001b[0myr\u001b[0m\u001b[1;33m)\u001b[0m\u001b[1;33m)\u001b[0m\u001b[1;33m\u001b[0m\u001b[1;33m\u001b[0m\u001b[0m\n\u001b[0;32m     17\u001b[0m \u001b[0mprint\u001b[0m\u001b[1;33m(\u001b[0m\u001b[0mCEE\u001b[0m\u001b[1;33m(\u001b[0m\u001b[0mt\u001b[0m\u001b[1;33m,\u001b[0m\u001b[0my\u001b[0m\u001b[1;33m)\u001b[0m\u001b[1;33m)\u001b[0m\u001b[1;33m\u001b[0m\u001b[1;33m\u001b[0m\u001b[0m\n",
      "\u001b[1;32m<ipython-input-22-b96e19599b85>\u001b[0m in \u001b[0;36mMSE\u001b[1;34m(y, t)\u001b[0m\n\u001b[0;32m      2\u001b[0m \u001b[1;33m\u001b[0m\u001b[0m\n\u001b[0;32m      3\u001b[0m \u001b[1;32mdef\u001b[0m \u001b[0mMSE\u001b[0m\u001b[1;33m(\u001b[0m\u001b[0my\u001b[0m \u001b[1;33m,\u001b[0m\u001b[0mt\u001b[0m\u001b[1;33m)\u001b[0m\u001b[1;33m:\u001b[0m\u001b[1;33m\u001b[0m\u001b[1;33m\u001b[0m\u001b[0m\n\u001b[1;32m----> 4\u001b[1;33m     \u001b[1;32mreturn\u001b[0m \u001b[1;36m0.5\u001b[0m\u001b[1;33m*\u001b[0m\u001b[0mnp\u001b[0m\u001b[1;33m.\u001b[0m\u001b[0msum\u001b[0m\u001b[1;33m(\u001b[0m\u001b[1;33m(\u001b[0m\u001b[0my\u001b[0m\u001b[1;33m-\u001b[0m\u001b[0mt\u001b[0m\u001b[1;33m)\u001b[0m\u001b[1;33m**\u001b[0m\u001b[1;36m2\u001b[0m\u001b[1;33m)\u001b[0m\u001b[1;33m\u001b[0m\u001b[1;33m\u001b[0m\u001b[0m\n\u001b[0m\u001b[0;32m      5\u001b[0m \u001b[1;33m\u001b[0m\u001b[0m\n\u001b[0;32m      6\u001b[0m \u001b[0mt\u001b[0m \u001b[1;33m=\u001b[0m \u001b[0mnp\u001b[0m\u001b[1;33m.\u001b[0m\u001b[0marray\u001b[0m\u001b[1;33m(\u001b[0m\u001b[1;33m[\u001b[0m\u001b[1;36m0\u001b[0m\u001b[1;33m,\u001b[0m\u001b[1;36m0\u001b[0m\u001b[1;33m,\u001b[0m\u001b[1;36m0\u001b[0m\u001b[1;33m,\u001b[0m\u001b[1;36m0\u001b[0m\u001b[1;33m,\u001b[0m\u001b[1;36m5\u001b[0m\u001b[1;33m,\u001b[0m\u001b[1;36m0\u001b[0m\u001b[1;33m,\u001b[0m\u001b[1;36m5\u001b[0m\u001b[1;33m,\u001b[0m\u001b[1;36m0\u001b[0m\u001b[1;33m,\u001b[0m\u001b[1;36m0\u001b[0m\u001b[1;33m,\u001b[0m\u001b[1;36m0\u001b[0m\u001b[1;33m,\u001b[0m\u001b[1;36m0\u001b[0m\u001b[1;33m,\u001b[0m\u001b[1;36m0\u001b[0m\u001b[1;33m]\u001b[0m\u001b[1;33m)\u001b[0m\u001b[1;33m\u001b[0m\u001b[1;33m\u001b[0m\u001b[0m\n",
      "\u001b[1;31mValueError\u001b[0m: operands could not be broadcast together with shapes (12,) (10,) "
     ]
    }
   ],
   "source": [
    "import numpy as np\n",
    "\n",
    "def MSE(y ,t):\n",
    "    return 0.5*np.sum((y-t)**2)\n",
    "#t랑 y를 길이 조절 잘 하시고\n",
    "t = np.array([0,0,0,0,5,0,5,0,0,0,0,0])\n",
    "yr = np.array([0,0,0,0,5,0,5,0,0,0,0,0])\n",
    "y = np.array([0.01,0.01,0.1,0.3,0.33,0.04,0.02,0.05,0.01,0.1])\n",
    "y_l = np.array([0.3,0.01,0.1,0.1,0.01,0.04,0.02,0.05,0.33,0.01,0.1])\n",
    "\n",
    "def CEE(y, t):\n",
    "    delta = le-10\n",
    "    return -np.sum(t*np.log(y+delta))\n",
    "\n",
    "print(MSE(t,y))\n",
    "print(CEE(t, yr))\n",
    "print(CEE(t,y))\n",
    "print(CEE(t,y_l))"
   ]
  },
  {
   "cell_type": "code",
   "execution_count": 23,
   "id": "77c73775",
   "metadata": {},
   "outputs": [
    {
     "name": "stdout",
     "output_type": "stream",
     "text": [
      "Epoch 1/100\n",
      "500/500 [==============================] - 1s 2ms/step - loss: 0.0966 - accuracy: 0.1978 - mse: 0.0966\n",
      "Epoch 2/100\n",
      "500/500 [==============================] - 1s 2ms/step - loss: 0.0843 - accuracy: 0.4216 - mse: 0.0843\n",
      "Epoch 3/100\n",
      "500/500 [==============================] - 1s 2ms/step - loss: 0.0775 - accuracy: 0.5531 - mse: 0.0775\n",
      "Epoch 4/100\n",
      "500/500 [==============================] - 1s 2ms/step - loss: 0.0701 - accuracy: 0.6447 - mse: 0.0701\n",
      "Epoch 5/100\n",
      "500/500 [==============================] - 1s 2ms/step - loss: 0.0632 - accuracy: 0.7052 - mse: 0.0632\n",
      "Epoch 6/100\n",
      "500/500 [==============================] - 1s 2ms/step - loss: 0.0573 - accuracy: 0.7387 - mse: 0.0573\n",
      "Epoch 7/100\n",
      "500/500 [==============================] - 1s 2ms/step - loss: 0.0526 - accuracy: 0.7630 - mse: 0.0526\n",
      "Epoch 8/100\n",
      "129/500 [======>.......................] - ETA: 0s - loss: 0.0494 - accuracy: 0.7781 - mse: 0.0494"
     ]
    },
    {
     "ename": "KeyboardInterrupt",
     "evalue": "",
     "output_type": "error",
     "traceback": [
      "\u001b[1;31m---------------------------------------------------------------------------\u001b[0m",
      "\u001b[1;31mKeyboardInterrupt\u001b[0m                         Traceback (most recent call last)",
      "\u001b[1;32m<ipython-input-23-4e072dcd9cdc>\u001b[0m in \u001b[0;36m<module>\u001b[1;34m\u001b[0m\n\u001b[0;32m     37\u001b[0m \u001b[0mmodel\u001b[0m\u001b[1;33m.\u001b[0m\u001b[0mcompile\u001b[0m\u001b[1;33m(\u001b[0m\u001b[0mloss\u001b[0m\u001b[1;33m=\u001b[0m\u001b[1;34m\"mean_squared_error\"\u001b[0m\u001b[1;33m,\u001b[0m \u001b[0moptimizer\u001b[0m\u001b[1;33m=\u001b[0m\u001b[0msgd\u001b[0m\u001b[1;33m,\u001b[0m \u001b[0mmetrics\u001b[0m\u001b[1;33m=\u001b[0m\u001b[1;33m[\u001b[0m\u001b[1;34m'accuracy'\u001b[0m\u001b[1;33m,\u001b[0m\u001b[1;34m'mse'\u001b[0m\u001b[1;33m]\u001b[0m\u001b[1;33m)\u001b[0m\u001b[1;33m\u001b[0m\u001b[1;33m\u001b[0m\u001b[0m\n\u001b[0;32m     38\u001b[0m \u001b[1;33m\u001b[0m\u001b[0m\n\u001b[1;32m---> 39\u001b[1;33m \u001b[0mmodel\u001b[0m\u001b[1;33m.\u001b[0m\u001b[0mfit\u001b[0m\u001b[1;33m(\u001b[0m\u001b[0mx_train\u001b[0m\u001b[1;33m,\u001b[0m \u001b[0my_train\u001b[0m\u001b[1;33m,\u001b[0m \u001b[0mbatch_size\u001b[0m\u001b[1;33m=\u001b[0m\u001b[0mbatch_size\u001b[0m\u001b[1;33m,\u001b[0m \u001b[0mepochs\u001b[0m\u001b[1;33m=\u001b[0m\u001b[0mepochs\u001b[0m\u001b[1;33m)\u001b[0m\u001b[1;33m\u001b[0m\u001b[1;33m\u001b[0m\u001b[0m\n\u001b[0m",
      "\u001b[1;32mc:\\users\\ad\\appdata\\local\\programs\\python\\python38\\lib\\site-packages\\tensorflow\\python\\keras\\engine\\training.py\u001b[0m in \u001b[0;36mfit\u001b[1;34m(self, x, y, batch_size, epochs, verbose, callbacks, validation_split, validation_data, shuffle, class_weight, sample_weight, initial_epoch, steps_per_epoch, validation_steps, validation_batch_size, validation_freq, max_queue_size, workers, use_multiprocessing)\u001b[0m\n\u001b[0;32m   1098\u001b[0m                 _r=1):\n\u001b[0;32m   1099\u001b[0m               \u001b[0mcallbacks\u001b[0m\u001b[1;33m.\u001b[0m\u001b[0mon_train_batch_begin\u001b[0m\u001b[1;33m(\u001b[0m\u001b[0mstep\u001b[0m\u001b[1;33m)\u001b[0m\u001b[1;33m\u001b[0m\u001b[1;33m\u001b[0m\u001b[0m\n\u001b[1;32m-> 1100\u001b[1;33m               \u001b[0mtmp_logs\u001b[0m \u001b[1;33m=\u001b[0m \u001b[0mself\u001b[0m\u001b[1;33m.\u001b[0m\u001b[0mtrain_function\u001b[0m\u001b[1;33m(\u001b[0m\u001b[0miterator\u001b[0m\u001b[1;33m)\u001b[0m\u001b[1;33m\u001b[0m\u001b[1;33m\u001b[0m\u001b[0m\n\u001b[0m\u001b[0;32m   1101\u001b[0m               \u001b[1;32mif\u001b[0m \u001b[0mdata_handler\u001b[0m\u001b[1;33m.\u001b[0m\u001b[0mshould_sync\u001b[0m\u001b[1;33m:\u001b[0m\u001b[1;33m\u001b[0m\u001b[1;33m\u001b[0m\u001b[0m\n\u001b[0;32m   1102\u001b[0m                 \u001b[0mcontext\u001b[0m\u001b[1;33m.\u001b[0m\u001b[0masync_wait\u001b[0m\u001b[1;33m(\u001b[0m\u001b[1;33m)\u001b[0m\u001b[1;33m\u001b[0m\u001b[1;33m\u001b[0m\u001b[0m\n",
      "\u001b[1;32mc:\\users\\ad\\appdata\\local\\programs\\python\\python38\\lib\\site-packages\\tensorflow\\python\\eager\\def_function.py\u001b[0m in \u001b[0;36m__call__\u001b[1;34m(self, *args, **kwds)\u001b[0m\n\u001b[0;32m    826\u001b[0m     \u001b[0mtracing_count\u001b[0m \u001b[1;33m=\u001b[0m \u001b[0mself\u001b[0m\u001b[1;33m.\u001b[0m\u001b[0mexperimental_get_tracing_count\u001b[0m\u001b[1;33m(\u001b[0m\u001b[1;33m)\u001b[0m\u001b[1;33m\u001b[0m\u001b[1;33m\u001b[0m\u001b[0m\n\u001b[0;32m    827\u001b[0m     \u001b[1;32mwith\u001b[0m \u001b[0mtrace\u001b[0m\u001b[1;33m.\u001b[0m\u001b[0mTrace\u001b[0m\u001b[1;33m(\u001b[0m\u001b[0mself\u001b[0m\u001b[1;33m.\u001b[0m\u001b[0m_name\u001b[0m\u001b[1;33m)\u001b[0m \u001b[1;32mas\u001b[0m \u001b[0mtm\u001b[0m\u001b[1;33m:\u001b[0m\u001b[1;33m\u001b[0m\u001b[1;33m\u001b[0m\u001b[0m\n\u001b[1;32m--> 828\u001b[1;33m       \u001b[0mresult\u001b[0m \u001b[1;33m=\u001b[0m \u001b[0mself\u001b[0m\u001b[1;33m.\u001b[0m\u001b[0m_call\u001b[0m\u001b[1;33m(\u001b[0m\u001b[1;33m*\u001b[0m\u001b[0margs\u001b[0m\u001b[1;33m,\u001b[0m \u001b[1;33m**\u001b[0m\u001b[0mkwds\u001b[0m\u001b[1;33m)\u001b[0m\u001b[1;33m\u001b[0m\u001b[1;33m\u001b[0m\u001b[0m\n\u001b[0m\u001b[0;32m    829\u001b[0m       \u001b[0mcompiler\u001b[0m \u001b[1;33m=\u001b[0m \u001b[1;34m\"xla\"\u001b[0m \u001b[1;32mif\u001b[0m \u001b[0mself\u001b[0m\u001b[1;33m.\u001b[0m\u001b[0m_experimental_compile\u001b[0m \u001b[1;32melse\u001b[0m \u001b[1;34m\"nonXla\"\u001b[0m\u001b[1;33m\u001b[0m\u001b[1;33m\u001b[0m\u001b[0m\n\u001b[0;32m    830\u001b[0m       \u001b[0mnew_tracing_count\u001b[0m \u001b[1;33m=\u001b[0m \u001b[0mself\u001b[0m\u001b[1;33m.\u001b[0m\u001b[0mexperimental_get_tracing_count\u001b[0m\u001b[1;33m(\u001b[0m\u001b[1;33m)\u001b[0m\u001b[1;33m\u001b[0m\u001b[1;33m\u001b[0m\u001b[0m\n",
      "\u001b[1;32mc:\\users\\ad\\appdata\\local\\programs\\python\\python38\\lib\\site-packages\\tensorflow\\python\\eager\\def_function.py\u001b[0m in \u001b[0;36m_call\u001b[1;34m(self, *args, **kwds)\u001b[0m\n\u001b[0;32m    853\u001b[0m       \u001b[1;31m# In this case we have created variables on the first call, so we run the\u001b[0m\u001b[1;33m\u001b[0m\u001b[1;33m\u001b[0m\u001b[1;33m\u001b[0m\u001b[0m\n\u001b[0;32m    854\u001b[0m       \u001b[1;31m# defunned version which is guaranteed to never create variables.\u001b[0m\u001b[1;33m\u001b[0m\u001b[1;33m\u001b[0m\u001b[1;33m\u001b[0m\u001b[0m\n\u001b[1;32m--> 855\u001b[1;33m       \u001b[1;32mreturn\u001b[0m \u001b[0mself\u001b[0m\u001b[1;33m.\u001b[0m\u001b[0m_stateless_fn\u001b[0m\u001b[1;33m(\u001b[0m\u001b[1;33m*\u001b[0m\u001b[0margs\u001b[0m\u001b[1;33m,\u001b[0m \u001b[1;33m**\u001b[0m\u001b[0mkwds\u001b[0m\u001b[1;33m)\u001b[0m  \u001b[1;31m# pylint: disable=not-callable\u001b[0m\u001b[1;33m\u001b[0m\u001b[1;33m\u001b[0m\u001b[0m\n\u001b[0m\u001b[0;32m    856\u001b[0m     \u001b[1;32melif\u001b[0m \u001b[0mself\u001b[0m\u001b[1;33m.\u001b[0m\u001b[0m_stateful_fn\u001b[0m \u001b[1;32mis\u001b[0m \u001b[1;32mnot\u001b[0m \u001b[1;32mNone\u001b[0m\u001b[1;33m:\u001b[0m\u001b[1;33m\u001b[0m\u001b[1;33m\u001b[0m\u001b[0m\n\u001b[0;32m    857\u001b[0m       \u001b[1;31m# Release the lock early so that multiple threads can perform the call\u001b[0m\u001b[1;33m\u001b[0m\u001b[1;33m\u001b[0m\u001b[1;33m\u001b[0m\u001b[0m\n",
      "\u001b[1;32mc:\\users\\ad\\appdata\\local\\programs\\python\\python38\\lib\\site-packages\\tensorflow\\python\\eager\\function.py\u001b[0m in \u001b[0;36m__call__\u001b[1;34m(self, *args, **kwargs)\u001b[0m\n\u001b[0;32m   2940\u001b[0m       (graph_function,\n\u001b[0;32m   2941\u001b[0m        filtered_flat_args) = self._maybe_define_function(args, kwargs)\n\u001b[1;32m-> 2942\u001b[1;33m     return graph_function._call_flat(\n\u001b[0m\u001b[0;32m   2943\u001b[0m         filtered_flat_args, captured_inputs=graph_function.captured_inputs)  # pylint: disable=protected-access\n\u001b[0;32m   2944\u001b[0m \u001b[1;33m\u001b[0m\u001b[0m\n",
      "\u001b[1;32mc:\\users\\ad\\appdata\\local\\programs\\python\\python38\\lib\\site-packages\\tensorflow\\python\\eager\\function.py\u001b[0m in \u001b[0;36m_call_flat\u001b[1;34m(self, args, captured_inputs, cancellation_manager)\u001b[0m\n\u001b[0;32m   1916\u001b[0m         and executing_eagerly):\n\u001b[0;32m   1917\u001b[0m       \u001b[1;31m# No tape is watching; skip to running the function.\u001b[0m\u001b[1;33m\u001b[0m\u001b[1;33m\u001b[0m\u001b[1;33m\u001b[0m\u001b[0m\n\u001b[1;32m-> 1918\u001b[1;33m       return self._build_call_outputs(self._inference_function.call(\n\u001b[0m\u001b[0;32m   1919\u001b[0m           ctx, args, cancellation_manager=cancellation_manager))\n\u001b[0;32m   1920\u001b[0m     forward_backward = self._select_forward_and_backward_functions(\n",
      "\u001b[1;32mc:\\users\\ad\\appdata\\local\\programs\\python\\python38\\lib\\site-packages\\tensorflow\\python\\eager\\function.py\u001b[0m in \u001b[0;36mcall\u001b[1;34m(self, ctx, args, cancellation_manager)\u001b[0m\n\u001b[0;32m    553\u001b[0m       \u001b[1;32mwith\u001b[0m \u001b[0m_InterpolateFunctionError\u001b[0m\u001b[1;33m(\u001b[0m\u001b[0mself\u001b[0m\u001b[1;33m)\u001b[0m\u001b[1;33m:\u001b[0m\u001b[1;33m\u001b[0m\u001b[1;33m\u001b[0m\u001b[0m\n\u001b[0;32m    554\u001b[0m         \u001b[1;32mif\u001b[0m \u001b[0mcancellation_manager\u001b[0m \u001b[1;32mis\u001b[0m \u001b[1;32mNone\u001b[0m\u001b[1;33m:\u001b[0m\u001b[1;33m\u001b[0m\u001b[1;33m\u001b[0m\u001b[0m\n\u001b[1;32m--> 555\u001b[1;33m           outputs = execute.execute(\n\u001b[0m\u001b[0;32m    556\u001b[0m               \u001b[0mstr\u001b[0m\u001b[1;33m(\u001b[0m\u001b[0mself\u001b[0m\u001b[1;33m.\u001b[0m\u001b[0msignature\u001b[0m\u001b[1;33m.\u001b[0m\u001b[0mname\u001b[0m\u001b[1;33m)\u001b[0m\u001b[1;33m,\u001b[0m\u001b[1;33m\u001b[0m\u001b[1;33m\u001b[0m\u001b[0m\n\u001b[0;32m    557\u001b[0m               \u001b[0mnum_outputs\u001b[0m\u001b[1;33m=\u001b[0m\u001b[0mself\u001b[0m\u001b[1;33m.\u001b[0m\u001b[0m_num_outputs\u001b[0m\u001b[1;33m,\u001b[0m\u001b[1;33m\u001b[0m\u001b[1;33m\u001b[0m\u001b[0m\n",
      "\u001b[1;32mc:\\users\\ad\\appdata\\local\\programs\\python\\python38\\lib\\site-packages\\tensorflow\\python\\eager\\execute.py\u001b[0m in \u001b[0;36mquick_execute\u001b[1;34m(op_name, num_outputs, inputs, attrs, ctx, name)\u001b[0m\n\u001b[0;32m     57\u001b[0m   \u001b[1;32mtry\u001b[0m\u001b[1;33m:\u001b[0m\u001b[1;33m\u001b[0m\u001b[1;33m\u001b[0m\u001b[0m\n\u001b[0;32m     58\u001b[0m     \u001b[0mctx\u001b[0m\u001b[1;33m.\u001b[0m\u001b[0mensure_initialized\u001b[0m\u001b[1;33m(\u001b[0m\u001b[1;33m)\u001b[0m\u001b[1;33m\u001b[0m\u001b[1;33m\u001b[0m\u001b[0m\n\u001b[1;32m---> 59\u001b[1;33m     tensors = pywrap_tfe.TFE_Py_Execute(ctx._handle, device_name, op_name,\n\u001b[0m\u001b[0;32m     60\u001b[0m                                         inputs, attrs, num_outputs)\n\u001b[0;32m     61\u001b[0m   \u001b[1;32mexcept\u001b[0m \u001b[0mcore\u001b[0m\u001b[1;33m.\u001b[0m\u001b[0m_NotOkStatusException\u001b[0m \u001b[1;32mas\u001b[0m \u001b[0me\u001b[0m\u001b[1;33m:\u001b[0m\u001b[1;33m\u001b[0m\u001b[1;33m\u001b[0m\u001b[0m\n",
      "\u001b[1;31mKeyboardInterrupt\u001b[0m: "
     ]
    }
   ],
   "source": [
    "import tensorflow as tf\n",
    "import matplotlib.pyplot as plt\n",
    "\n",
    "\n",
    "batch_size = 120\n",
    "num_classes = 10\n",
    "epochs = 100\n",
    "\n",
    "(x_train, y_train) , (x_test, y_test) = tf.keras.datasets.mnist.load_data()\n",
    "\n",
    "\n",
    "x_train = x_train.reshape(60000, 784)\n",
    "x_test = x_test.reshape(10000, 784)\n",
    "\n",
    "# 데이터 전처리\n",
    "x_train = x_train.astype('float32')\n",
    "x_test = x_test.astype('float32')\n",
    "\n",
    "x_train/= 255\n",
    "x_test /= 255\n",
    "\n",
    "y_train = tf.keras.utils.to_categorical(y_train, num_classes)\n",
    "y_test = tf.keras.utils.to_categorical(y_test, num_classes)\n",
    "\n",
    "# 신경망 구축\n",
    "from tensorflow.keras.models import Sequential\n",
    "from tensorflow.keras.layers import Dense\n",
    "from tensorflow.keras.optimizers import SGD\n",
    "\n",
    "model = Sequential()\n",
    "model.add(Dense(512, activation='sigmoid',input_shape = (784,)))\n",
    "model.add(Dense(num_classes, activation='sigmoid'))\n",
    "\n",
    "sgd = SGD(learning_rate=0.11)\n",
    "\n",
    "\n",
    "model.compile(loss=\"mean_squared_error\", optimizer=sgd, metrics=['accuracy','mse'])\n",
    "\n",
    "model.fit(x_train, y_train, batch_size=batch_size, epochs=epochs)"
   ]
  },
  {
   "cell_type": "code",
   "execution_count": null,
   "id": "fa5ff5c9",
   "metadata": {},
   "outputs": [],
   "source": [
    "score = model.evaluate(x_test, y_test)\n",
    "print(score)"
   ]
  },
  {
   "cell_type": "markdown",
   "id": "04731411",
   "metadata": {},
   "source": [
    "# 데이터 다루기"
   ]
  },
  {
   "cell_type": "code",
   "execution_count": null,
   "id": "1ac5b4b7",
   "metadata": {},
   "outputs": [],
   "source": [
    "import pandas as pd\n",
    "import matplotlib.pyplot as plt\n",
    "import seaborn as sns\n",
    "\n",
    "df = pd.read_csv('data/pima-indians-diabetes.csv', names = ['pregnant','plasma','pressure','thickness','insulin','BMI','pedigree','age','class'])\n",
    "df"
   ]
  },
  {
   "cell_type": "code",
   "execution_count": null,
   "id": "73a38140",
   "metadata": {},
   "outputs": [],
   "source": [
    "df.head(5)"
   ]
  },
  {
   "cell_type": "code",
   "execution_count": null,
   "id": "6b6aa404",
   "metadata": {},
   "outputs": [],
   "source": [
    "df.info()"
   ]
  },
  {
   "cell_type": "code",
   "execution_count": null,
   "id": "bea1a95d",
   "metadata": {},
   "outputs": [],
   "source": [
    "df.describe()"
   ]
  },
  {
   "cell_type": "code",
   "execution_count": null,
   "id": "48afdda2",
   "metadata": {},
   "outputs": [],
   "source": [
    "df[['pregnant', 'insulin']] # 대괄호가 두개임"
   ]
  },
  {
   "cell_type": "code",
   "execution_count": null,
   "id": "62ef95b7",
   "metadata": {},
   "outputs": [],
   "source": [
    "df[['pregnant', 'class']]"
   ]
  },
  {
   "cell_type": "code",
   "execution_count": null,
   "id": "af496b32",
   "metadata": {},
   "outputs": [],
   "source": [
    "df_data = df[['pregnant', 'class']]\n",
    "df_group = df_data.groupby(['pregnant'], as_index=False)\n",
    "df_group"
   ]
  },
  {
   "cell_type": "code",
   "execution_count": null,
   "id": "0c19daa2",
   "metadata": {},
   "outputs": [],
   "source": [
    "df_group.mean().sort_values(by='pregnant', ascending=False)"
   ]
  },
  {
   "cell_type": "code",
   "execution_count": null,
   "id": "4a65545f",
   "metadata": {
    "scrolled": true
   },
   "outputs": [],
   "source": [
    "import pandas as pd\n",
    "import matplotlib.pyplot as plt\n",
    "import seaborn as sns\n",
    "import numpy as np\n",
    "\n",
    "plt.figure(figsize=(16,16))\n",
    "sns.heatmap(df.corr(), linewidths=0.1, vmax=0.5, cmap=plt.cm.gist_heat, linecolor = 'white', annot=True)\n",
    "plt.show()"
   ]
  },
  {
   "cell_type": "markdown",
   "id": "882fa9d6",
   "metadata": {},
   "source": [
    "플라스마랑 상관있음을 확인했다 플라스마를 좀더 자세히 보자"
   ]
  },
  {
   "cell_type": "code",
   "execution_count": null,
   "id": "1431dfb8",
   "metadata": {},
   "outputs": [],
   "source": [
    "grid = sns.FacetGrid(df, col='class')\n",
    "grid.map(plt.hist, 'plasma', bins = 10)\n",
    "plt.show()"
   ]
  },
  {
   "cell_type": "code",
   "execution_count": null,
   "id": "a1e630c9",
   "metadata": {},
   "outputs": [],
   "source": [
    "# 딥러닝을 구동하는 데 필요한 케라스 함수를 불러옵니다.\n",
    "from tensorflow.keras.models import Sequential\n",
    "from tensorflow.keras.layers import Dense\n",
    "\n",
    "from sklearn.model_selection import train_test_split\n",
    "\n",
    "# 필요한 라이브러리를 불러옵니다.\n",
    "import numpy\n",
    "import tensorflow as tf\n",
    "import pandas as pd\n",
    "\n",
    "# seed 값 생성\n",
    "np.random.seed(3)\n",
    "tf.random.set_seed(3)\n",
    "\n",
    "# 모델을 설정합니다.\n",
    "df = pd.read_csv('data/pima-indians-diabetes.csv',names = ['pregnant','plasma','pressure','thickness','insulin','BMI','pedigree','age','class'])\n",
    "\n",
    "# 데이터를 나눕니다.\n",
    "train , test = train_test_split(df, test_size=0.3)\n",
    "\n",
    "# 데이터 전처리\n",
    "train_arr = train.to_numpy()\n",
    "test_arr = test.to_numpy()\n",
    "x_test_arr = test_arr[:,0:8]\n",
    "y_test_arr = test_arr[:,8]\n",
    "x_train_arr = train_arr[:,0:8]\n",
    "y_train_arr = train_arr[:,8]\n",
    "\n",
    "# 모델을 설정합니다.\n",
    "model = Sequential()\n",
    "model.add(Dense(12, input_dim = 8, activation='softmax'))\n",
    "model.add(Dense(8, activation='softmax'))\n",
    "model.add(Dense(1, activation='sigmoid'))\n",
    "\n",
    "# 모델을 컴파일합니다.\n",
    "model.compile(loss='binary_crossentropy', optimizer='adam', metrics=['accuracy'])\n",
    "\n",
    "# 모델을 실행합니다.\n",
    "model.fit(x_train_arr,y_train_arr, epochs=100, batch_size=10)\n"
   ]
  },
  {
   "cell_type": "code",
   "execution_count": null,
   "id": "1dab70d9",
   "metadata": {},
   "outputs": [],
   "source": [
    "# predict 결과\n",
    "p = model.predict(x_test_arr)\n",
    "p"
   ]
  },
  {
   "cell_type": "code",
   "execution_count": null,
   "id": "1e435776",
   "metadata": {},
   "outputs": [],
   "source": [
    "score = model.evaluate(x_test_arr,y_test_arr)\n",
    "print(score)"
   ]
  },
  {
   "cell_type": "code",
   "execution_count": null,
   "id": "9efb5633",
   "metadata": {},
   "outputs": [],
   "source": [
    "score = model.evaluate(x_test_arr,y_test_arr)\n",
    "print(score)"
   ]
  },
  {
   "cell_type": "code",
   "execution_count": null,
   "id": "fb85c8c0",
   "metadata": {},
   "outputs": [],
   "source": [
    "format(p[0][0], 'f')"
   ]
  },
  {
   "cell_type": "code",
   "execution_count": null,
   "id": "02efc233",
   "metadata": {},
   "outputs": [],
   "source": [
    "from tensorflow.keras.models import Sequential\n",
    "from tensorflow.keras.layers import Dense\n",
    "from sklearn.preprocessing import LabelEncoder\n",
    "\n",
    "import pandas as pd\n",
    "import seaborn as sns\n",
    "import matplotlib.pyplot as plt\n",
    "import numpy as np\n",
    "import tensorflow as tf\n",
    "\n",
    "# 실행할 때마다 같은 결과를 출력하기 위해 설정하는 부분입니다.\n",
    "np.random.seed(3)\n",
    "tf.random.set_seed(3)\n",
    "\n",
    "# 데이터 입력\n",
    "df = pd.read_csv('data/iris.csv', names = [\"sepal_length\", \"sepal_width\", \"petal_length\", \"petal_width\", \"species\"])\n",
    "df"
   ]
  },
  {
   "cell_type": "code",
   "execution_count": null,
   "id": "27d7f31f",
   "metadata": {},
   "outputs": [],
   "source": [
    "# 그래프로 확인\n",
    "sns.pairplot(df, hue = 'species')\n",
    "plt.show()"
   ]
  },
  {
   "cell_type": "code",
   "execution_count": null,
   "id": "ebc9e8dc",
   "metadata": {},
   "outputs": [],
   "source": [
    "# 데이터 전처리\n",
    "from sklearn.model_selection import train_test_split\n",
    "\n",
    "# 데이터를 나눕니다.\n",
    "train , test = train_test_split(df, test_size=0.3)\n",
    "\n",
    "# 데이터 분류\n",
    "\n",
    "trainset = train.values\n",
    "testset = test.values\n",
    "\n",
    "x_train = trainset[:,0:4].astype(float)\n",
    "y_train_obj = trainset[:,4]\n",
    "\n",
    "x_test = testset[:,0:4].astype(float)\n",
    "y_test_obj = testset[:,4]\n",
    "\n",
    "# X = dataset[:,0:4].astype(float)\n",
    "# Y_obj = dataset[:,4]\n",
    "\n"
   ]
  },
  {
   "cell_type": "code",
   "execution_count": null,
   "id": "2b46b339",
   "metadata": {},
   "outputs": [],
   "source": [
    "# 문자열을 숫자로 변환\n",
    "e = LabelEncoder()\n",
    "e.fit(y_train_obj)\n",
    "y_train = e.transform(y_train_obj)\n",
    "y_train\n",
    "\n",
    "e.fit(y_test_obj)\n",
    "y_test = e.transform(y_test_obj)\n",
    "y_test"
   ]
  },
  {
   "cell_type": "code",
   "execution_count": null,
   "id": "7420eafa",
   "metadata": {
    "scrolled": true
   },
   "outputs": [],
   "source": [
    "import tensorflow as tf\n",
    "\n",
    "# Y_encoded = tf.keras.utils.to_categorical(Y)\n",
    "# Y_encoded\n",
    "\n",
    "y_train_encoded = tf.keras.utils.to_categorical(Y_train)\n",
    "y_test_encoded = tf.keras.utils.to_categorical(y_test)\n",
    "y_test"
   ]
  },
  {
   "cell_type": "markdown",
   "id": "3e52dda1",
   "metadata": {},
   "source": [
    "one hot encoding"
   ]
  },
  {
   "cell_type": "code",
   "execution_count": null,
   "id": "da17c6e7",
   "metadata": {},
   "outputs": [],
   "source": [
    "import tensorflow as tf\n",
    "from tensorflow.keras.models import Sequential\n",
    "from tensorflow.keras.layers import Dense\n",
    "\n",
    "Te_encoded = tf.keras.utils.to_categorical(y_test)\n",
    "Tr_encoded = tf.keras.utils.to_categorical(y_train)"
   ]
  },
  {
   "cell_type": "code",
   "execution_count": null,
   "id": "8aee1805",
   "metadata": {},
   "outputs": [],
   "source": [
    "# 모델의 설정\n",
    "model = Sequential()\n",
    "model.add(Dense(16, input_dim=4, activation = 'relu'))\n",
    "model.add(Dense(3, activation='softmax'))"
   ]
  },
  {
   "cell_type": "code",
   "execution_count": null,
   "id": "69807802",
   "metadata": {},
   "outputs": [],
   "source": [
    "# 모델 컴파일\n",
    "model.compile(loss='categorical_crossentropy', optimizer='adam', metrics=['accuracy'])\n",
    "\n",
    "# 모델 실행\n",
    "model.fit(X,Y_encoded, epochs=50, batch_size=1)\n",
    "\n",
    "# 결과 출력\n",
    "print('\\n Accuracy: %.4f'%(model.evaluate(x_test,y_test_encoded))[1])"
   ]
  },
  {
   "cell_type": "code",
   "execution_count": null,
   "id": "29bfb234",
   "metadata": {},
   "outputs": [],
   "source": [
    "model.evaluate(X,Y_encoded)[1]"
   ]
  },
  {
   "cell_type": "code",
   "execution_count": null,
   "id": "50dc4ac1",
   "metadata": {},
   "outputs": [],
   "source": [
    "model.evaluate(X,Y_encoded)[1]"
   ]
  },
  {
   "cell_type": "markdown",
   "id": "da711a26",
   "metadata": {},
   "source": [
    "원핫 인코딩이 필요없는 다중분류"
   ]
  },
  {
   "cell_type": "code",
   "execution_count": null,
   "id": "af4c5fe4",
   "metadata": {},
   "outputs": [],
   "source": [
    "from tensorflow.keras.models import Sequential\n",
    "from tensorflow.keras.layers import Dense\n",
    "from sklearn.preprocessing import LabelEncoder\n",
    "import pandas as pd\n",
    "import seaborn as sns\n",
    "import matplotlib.pyplot as plt\n",
    "import numpy as np\n",
    "import tensorflow as tf\n",
    "# 실행할 때마다 같은 결과를 출력하기 위해 설정하는 부분입니다.\n",
    "np.random.seed(3)\n",
    "tf.random.set_seed(3)\n",
    "# 데이터 입력\n",
    "df = pd.read_csv('data/iris.csv', names = [\"sepal_length\", \"sepal_width\", \"petal_length\", \"petal_width\", \"species\"])\n",
    "# 그래프로 확인\n",
    "sns.pairplot(df, hue='species');\n",
    "plt.show()\n",
    "# 데이터 분류\n",
    "dataset = df.values\n",
    "X = dataset[:,0:4].astype(float)\n",
    "Y_obj = dataset[:,4]\n",
    "# 문자열을 숫자로 변환\n",
    "e = LabelEncoder()\n",
    "e.fit(Y_obj)\n",
    "Y = e.transform(Y_obj) #원-핫 인코딩 안한 것\n",
    "Y_encoded = tf.keras.utils.to_categorical(Y) #원-핫 인코딩 한 것\n",
    "print(Y) #일반 라벨\n",
    "print(Y_encoded) #원-핫 인코딩 라벨\n",
    "print(\"모델 1\")\n",
    "# 원-핫 인코딩 필요한 모델의 설정\n",
    "model_1 = Sequential()\n",
    "model_1.add(Dense(16,  input_dim=4, activation='relu'))\n",
    "model_1.add(Dense(3, activation='softmax'))\n",
    "# 모델 컴파일\n",
    "model_1.compile(loss='categorical_crossentropy', #원-핫 인코딩이 필요한 손실 함수\n",
    "            optimizer='adam',\n",
    "            metrics=['accuracy'])\n",
    "print(\"원-핫 인코딩이 필요한 모델\")\n",
    "model_1.summary()\n",
    "# 원-핫 인코딩 필요한 모델 실행\n",
    "model_1.fit(X, Y_encoded, epochs=50, batch_size=1)\n",
    "# 결과 출력\n",
    "print(\"\\n Accuracy: %.4f\" % (model_1.evaluate(X, Y_encoded)[1]))\n",
    "print(\"모델 2\")\n",
    "# 원-핫 인코딩이 필요 없는 모델의 설정\n",
    "model_2 = Sequential()\n",
    "model_2.add(Dense(16,  input_dim=4, activation='relu'))\n",
    "model_2.add(Dense(3, activation='softmax'))\n",
    "# 모델 컴파일\n",
    "model_2.compile(loss='sparse_categorical_crossentropy',\n",
    "            optimizer='adam',\n",
    "            metrics=['accuracy'])\n",
    "print(\"원-핫 인코딩이 필요 없는 모델\")\n",
    "model_2.summary()\n",
    "# 원-핫 인코딩이 필요 없는 모델 실행\n",
    "model_2.fit(X, Y, epochs=50, batch_size=1)\n",
    "# 결과 출력\n",
    "print(\"\\n Accuracy: %.4f\" % (model_2.evaluate(X, Y)[1]))"
   ]
  },
  {
   "cell_type": "code",
   "execution_count": null,
   "id": "fc50cb90",
   "metadata": {},
   "outputs": [],
   "source": [
    "from tensorflow.keras.models import Sequential\n",
    "from tensorflow.keras.layers import Dense\n",
    "from sklearn.preprocessing import LabelEncoder\n",
    "\n",
    "import pandas as pd\n",
    "import numpy\n",
    "import tensorflow as tf\n",
    "\n",
    "# seed 값 설정\n",
    "numpy.random.seed(3)\n",
    "tf.random.set_seed(3)\n",
    "\n",
    "# 데이터 입력\n",
    "df = pd.read_csv('data/sonar.csv', header=None)\n",
    "'''\n",
    "# 데이터 개괄 보기\n",
    "print(df.info())\n",
    "\n",
    "# 데이터의 일부분 미리 보기\n",
    "print(df.head())\n",
    "'''\n",
    "dataset = df.values\n",
    "X = dataset[:,0:60].astype(float)\n",
    "Y_obj = dataset[:,60]\n",
    "\n",
    "# 문자열 변환\n",
    "e = LabelEncoder()\n",
    "e.fit(Y_obj)\n",
    "Y = e.transform(Y_obj)\n",
    "\n",
    "# 모델 설정\n",
    "model = Sequential()\n",
    "model.add(Dense(24,  input_dim=60, activation='relu'))\n",
    "model.add(Dense(10, activation='relu'))\n",
    "model.add(Dense(1, activation='sigmoid'))\n",
    "\n",
    "# 모델 컴파일\n",
    "model.compile(loss='mean_squared_error',\n",
    "            optimizer='adam',\n",
    "            metrics=['accuracy'])\n",
    "\n",
    "# 모델 실행\n",
    "model.fit(X, Y, epochs=200, batch_size=5)\n",
    "\n",
    "# 결과 출력\n",
    "print(\"\\n Accuracy: %.4f\" % (model.evaluate(X, Y)[1]))\n",
    "\n"
   ]
  },
  {
   "cell_type": "code",
   "execution_count": null,
   "id": "f473a357",
   "metadata": {},
   "outputs": [],
   "source": [
    "# 모델 저장\n",
    "model.save('my_model.h5')"
   ]
  },
  {
   "cell_type": "code",
   "execution_count": null,
   "id": "acf2b68e",
   "metadata": {},
   "outputs": [],
   "source": [
    "# 모델 불러오기\n",
    "from tensorflow.keras.models import load_model\n",
    "\n",
    "model = load_model('my_model.h5')"
   ]
  },
  {
   "cell_type": "markdown",
   "id": "9663342f",
   "metadata": {},
   "source": [
    "#### 4딥러닝 튜토리얼"
   ]
  },
  {
   "cell_type": "code",
   "execution_count": null,
   "id": "c4df5765",
   "metadata": {},
   "outputs": [],
   "source": [
    "import numpy as np\n",
    "import pandas as pd\n",
    "import matplotlib.pyplot as ply\n",
    "\n",
    "import warnings\n",
    "warnings.filterwarnings('ignore')\n",
    "\n"
   ]
  },
  {
   "cell_type": "markdown",
   "id": "9e5d4d6a",
   "metadata": {},
   "source": [
    "## overview the data set"
   ]
  },
  {
   "cell_type": "code",
   "execution_count": 24,
   "id": "f28ef123",
   "metadata": {
    "scrolled": true
   },
   "outputs": [
    {
     "data": {
      "text/plain": [
       "(-0.5, 63.5, 63.5, -0.5)"
      ]
     },
     "execution_count": 24,
     "metadata": {},
     "output_type": "execute_result"
    },
    {
     "data": {
      "image/png": "[encoded data removed]",
      "text/plain": [
       "<Figure size 432x288 with 2 Axes>"
      ]
     },
     "metadata": {
      "needs_background": "light"
     },
     "output_type": "display_data"
    }
   ],
   "source": [
    "#data load\n",
    "x_1 = np.load('data/X.npy')\n",
    "y_1 = np.load('data/Y.npy')\n",
    "img_size = 64\n",
    "plt.subplot(1,2,1)\n",
    "plt.imshow(x_1[260].reshape(img_size, img_size))\n",
    "plt.axis('off')\n",
    "plt.subplot(1,2,2)\n",
    "plt.imshow(x_1[900].reshape(img_size,img_size))\n",
    "plt.axis('off')"
   ]
  },
  {
   "cell_type": "code",
   "execution_count": 25,
   "id": "650e89ca",
   "metadata": {},
   "outputs": [
    {
     "name": "stdout",
     "output_type": "stream",
     "text": [
      "(2062, 10)\n",
      "[[1. 0. 0. ... 0. 0. 0.]\n",
      " [1. 0. 0. ... 0. 0. 0.]\n",
      " [1. 0. 0. ... 0. 0. 0.]\n",
      " ...\n",
      " [0. 0. 0. ... 0. 0. 1.]\n",
      " [0. 0. 0. ... 0. 0. 1.]\n",
      " [0. 0. 0. ... 0. 0. 1.]]\n"
     ]
    }
   ],
   "source": [
    "print(y_1.shape)\n",
    "print(y_1)"
   ]
  },
  {
   "cell_type": "code",
   "execution_count": 26,
   "id": "582baf54",
   "metadata": {},
   "outputs": [
    {
     "data": {
      "text/plain": [
       "numpy.float32"
      ]
     },
     "execution_count": 26,
     "metadata": {},
     "output_type": "execute_result"
    }
   ],
   "source": [
    "type(x_1[0][0][0])"
   ]
  },
  {
   "cell_type": "code",
   "execution_count": 27,
   "id": "0cf77778",
   "metadata": {},
   "outputs": [
    {
     "name": "stdout",
     "output_type": "stream",
     "text": [
      "0.46666667\n"
     ]
    }
   ],
   "source": [
    "print(x_1[0][0][0])"
   ]
  },
  {
   "cell_type": "code",
   "execution_count": 28,
   "id": "d41be637",
   "metadata": {},
   "outputs": [
    {
     "data": {
      "text/plain": [
       "(2062, 64, 64)"
      ]
     },
     "execution_count": 28,
     "metadata": {},
     "output_type": "execute_result"
    }
   ],
   "source": [
    "x_1.shape"
   ]
  },
  {
   "cell_type": "code",
   "execution_count": 29,
   "id": "4f6c3134",
   "metadata": {},
   "outputs": [
    {
     "data": {
      "text/plain": [
       "array([[[0.43529412, 0.44705883, 0.4509804 , ..., 0.41568628,\n",
       "         0.40392157, 0.39215687],\n",
       "        [0.44705883, 0.45882353, 0.4627451 , ..., 0.42745098,\n",
       "         0.41960785, 0.40392157],\n",
       "        [0.45490196, 0.46666667, 0.47843137, ..., 0.4392157 ,\n",
       "         0.43529412, 0.42352942],\n",
       "        ...,\n",
       "        [0.58431375, 0.6039216 , 0.62352943, ..., 0.5372549 ,\n",
       "         0.52156866, 0.5058824 ],\n",
       "        [0.5411765 , 0.5568628 , 0.57254905, ..., 0.5254902 ,\n",
       "         0.5137255 , 0.5019608 ],\n",
       "        [0.5176471 , 0.5372549 , 0.5529412 , ..., 0.5176471 ,\n",
       "         0.5058824 , 0.49411765]],\n",
       "\n",
       "       [[0.5137255 , 0.5254902 , 0.53333336, ..., 0.46666667,\n",
       "         0.45882353, 0.4509804 ],\n",
       "        [0.5254902 , 0.5372549 , 0.54509807, ..., 0.4745098 ,\n",
       "         0.47058824, 0.45882353],\n",
       "        [0.53333336, 0.54509807, 0.5529412 , ..., 0.48235294,\n",
       "         0.4745098 , 0.4627451 ],\n",
       "        ...,\n",
       "        [0.47843137, 0.4862745 , 0.4862745 , ..., 0.41568628,\n",
       "         0.40784314, 0.4       ],\n",
       "        [0.46666667, 0.46666667, 0.45882353, ..., 0.40392157,\n",
       "         0.39607844, 0.3882353 ],\n",
       "        [0.4509804 , 0.44705883, 0.4392157 , ..., 0.39607844,\n",
       "         0.3882353 , 0.3764706 ]],\n",
       "\n",
       "       [[0.81960785, 0.827451  , 0.83137256, ..., 0.84313726,\n",
       "         0.83137256, 0.81960785],\n",
       "        [0.827451  , 0.827451  , 0.83137256, ..., 0.84313726,\n",
       "         0.8392157 , 0.827451  ],\n",
       "        [0.827451  , 0.83137256, 0.8352941 , ..., 0.84313726,\n",
       "         0.8392157 , 0.827451  ],\n",
       "        ...,\n",
       "        [0.7607843 , 0.7607843 , 0.7607843 , ..., 0.8117647 ,\n",
       "         0.8117647 , 0.8117647 ],\n",
       "        [0.7607843 , 0.7607843 , 0.7647059 , ..., 0.8117647 ,\n",
       "         0.8117647 , 0.8117647 ],\n",
       "        [0.7607843 , 0.75686276, 0.7607843 , ..., 0.8117647 ,\n",
       "         0.8117647 , 0.8117647 ]],\n",
       "\n",
       "       ...,\n",
       "\n",
       "       [[0.5058824 , 0.5137255 , 0.5176471 , ..., 0.4862745 ,\n",
       "         0.4862745 , 0.47843137],\n",
       "        [0.5137255 , 0.52156866, 0.5254902 , ..., 0.49411765,\n",
       "         0.49019608, 0.48235294],\n",
       "        [0.5176471 , 0.5254902 , 0.5294118 , ..., 0.49803922,\n",
       "         0.49411765, 0.49019608],\n",
       "        ...,\n",
       "        [0.52156866, 0.5294118 , 0.5372549 , ..., 0.47843137,\n",
       "         0.47843137, 0.47058824],\n",
       "        [0.5137255 , 0.52156866, 0.5294118 , ..., 0.47843137,\n",
       "         0.47843137, 0.47058824],\n",
       "        [0.5019608 , 0.50980395, 0.5176471 , ..., 0.47843137,\n",
       "         0.4745098 , 0.46666667]],\n",
       "\n",
       "       [[0.5294118 , 0.54509807, 0.56078434, ..., 0.5137255 ,\n",
       "         0.5019608 , 0.49019608],\n",
       "        [0.5411765 , 0.5529412 , 0.5686275 , ..., 0.5176471 ,\n",
       "         0.50980395, 0.49803922],\n",
       "        [0.54509807, 0.56078434, 0.57254905, ..., 0.52156866,\n",
       "         0.5137255 , 0.5019608 ],\n",
       "        ...,\n",
       "        [0.47058824, 0.48235294, 0.49019608, ..., 0.46666667,\n",
       "         0.45882353, 0.44705883],\n",
       "        [0.46666667, 0.47843137, 0.4862745 , ..., 0.45490196,\n",
       "         0.44705883, 0.4392157 ],\n",
       "        [0.45490196, 0.46666667, 0.47843137, ..., 0.44313726,\n",
       "         0.43529412, 0.42745098]],\n",
       "\n",
       "       [[0.47058824, 0.48235294, 0.49411765, ..., 0.52156866,\n",
       "         0.5176471 , 0.50980395],\n",
       "        [0.48235294, 0.49411765, 0.5058824 , ..., 0.53333336,\n",
       "         0.52156866, 0.50980395],\n",
       "        [0.49019608, 0.49803922, 0.50980395, ..., 0.5411765 ,\n",
       "         0.53333336, 0.52156866],\n",
       "        ...,\n",
       "        [0.5058824 , 0.5176471 , 0.52156866, ..., 0.5176471 ,\n",
       "         0.50980395, 0.5019608 ],\n",
       "        [0.49803922, 0.50980395, 0.5137255 , ..., 0.50980395,\n",
       "         0.5019608 , 0.49411765],\n",
       "        [0.4862745 , 0.49803922, 0.5019608 , ..., 0.5019608 ,\n",
       "         0.49411765, 0.48235294]]], dtype=float32)"
      ]
     },
     "execution_count": 29,
     "metadata": {},
     "output_type": "execute_result"
    }
   ],
   "source": [
    "x_1[204:409]"
   ]
  },
  {
   "cell_type": "markdown",
   "id": "2e2d10d0",
   "metadata": {},
   "source": [
    "#### 데이터 전처리 구간"
   ]
  },
  {
   "cell_type": "code",
   "execution_count": 30,
   "id": "8740f6fb",
   "metadata": {},
   "outputs": [
    {
     "name": "stdout",
     "output_type": "stream",
     "text": [
      "X Shape : (410, 64, 64)\n",
      "Y Shape : (410, 1)\n"
     ]
    }
   ],
   "source": [
    "X = np.concatenate((x_1[204:409] , x_1[822:1027]), axis=0)\n",
    "z = np.zeros(205)\n",
    "o = np.ones(205)\n",
    "\n",
    "Y = np.concatenate((z,o),axis=0).reshape(X.shape[0],1) # 종속변수\n",
    "print(f'X Shape : {X.shape}')\n",
    "print(f'Y Shape : {Y.shape}')"
   ]
  },
  {
   "cell_type": "code",
   "execution_count": 31,
   "id": "67e4de07",
   "metadata": {},
   "outputs": [
    {
     "name": "stdout",
     "output_type": "stream",
     "text": [
      "train_shaple :348 test_shape :62\n"
     ]
    }
   ],
   "source": [
    "# train, test set 만들기\n",
    "from sklearn.model_selection import train_test_split\n",
    "\n",
    "X_train, X_test, Y_train, Y_test = train_test_split(X, Y, test_size = 0.15,)\n",
    "number_of_train = X_train.shape[0]\n",
    "number_of_test = X_test.shape[0]\n",
    "#언젠간 쓰겠지,, 비율은 85% : 15%\n",
    "print(f'train_shaple :{number_of_train} test_shape :{number_of_test}')"
   ]
  },
  {
   "cell_type": "markdown",
   "id": "f04c6d69",
   "metadata": {},
   "source": [
    "### 차원을 변경"
   ]
  },
  {
   "cell_type": "code",
   "execution_count": 32,
   "id": "7b76b231",
   "metadata": {},
   "outputs": [
    {
     "name": "stdout",
     "output_type": "stream",
     "text": [
      "(348, 4096) (62, 4096)\n"
     ]
    }
   ],
   "source": [
    "# 데이터 전처리\n",
    "X_train_flattern = X_train.reshape(number_of_train, X_train.shape[1]*X_train.shape[2])\n",
    "X_test_flattern = X_test.reshape(number_of_test, X_test.shape[1]*X_test.shape[2])\n",
    "\n",
    "print(X_train_flattern.shape, X_test_flattern.shape)"
   ]
  },
  {
   "cell_type": "code",
   "execution_count": 33,
   "id": "6cd23ba5",
   "metadata": {},
   "outputs": [
    {
     "data": {
      "text/plain": [
       "348"
      ]
     },
     "execution_count": 33,
     "metadata": {},
     "output_type": "execute_result"
    }
   ],
   "source": [
    "# 행렬을 전치\n",
    "X_train = X_train_flattern.T\n",
    "X_test = X_test_flattern.T\n",
    "Y_train = Y_train.T\n",
    "Y_test = Y_test.T\n",
    "\n",
    "X_train.shape[1]"
   ]
  },
  {
   "cell_type": "code",
   "execution_count": 34,
   "id": "4220a574",
   "metadata": {},
   "outputs": [
    {
     "data": {
      "text/plain": [
       "4096"
      ]
     },
     "execution_count": 34,
     "metadata": {},
     "output_type": "execute_result"
    }
   ],
   "source": [
    "64*64"
   ]
  },
  {
   "cell_type": "markdown",
   "id": "d05baec5",
   "metadata": {},
   "source": [
    "## logistic regression"
   ]
  },
  {
   "cell_type": "markdown",
   "id": "4f3b4ad5",
   "metadata": {},
   "source": [
    "[image.png](attachment:image.png)"
   ]
  },
  {
   "cell_type": "code",
   "execution_count": 35,
   "id": "9f1ecd4f",
   "metadata": {},
   "outputs": [
    {
     "data": {
      "text/plain": [
       "array([0.01, 0.01, 0.01, ..., 0.01, 0.01, 0.01])"
      ]
     },
     "execution_count": 35,
     "metadata": {},
     "output_type": "execute_result"
    }
   ],
   "source": [
    "def dummy(parameter):\n",
    "    dummy_parameter = parameter + 5\n",
    "    return dummy_parameter\n",
    "\n",
    "result = dummy(3)\n",
    "\n",
    "\n",
    "def initialize_weight_and_bias(dimension):\n",
    "    w = np.full((dimension, 1), 0.01)\n",
    "    b = 0.0\n",
    "    return w,b\n",
    "np.full(4096, 0.01)"
   ]
  },
  {
   "cell_type": "code",
   "execution_count": 36,
   "id": "d56b96a0",
   "metadata": {},
   "outputs": [],
   "source": [
    "def sigmoid(z):\n",
    "    y_head = 1/(1+np.e**(-z))\n",
    "    return y_head"
   ]
  },
  {
   "cell_type": "code",
   "execution_count": 37,
   "id": "9154cd44",
   "metadata": {},
   "outputs": [
    {
     "data": {
      "text/plain": [
       "2.718281828459045"
      ]
     },
     "execution_count": 37,
     "metadata": {},
     "output_type": "execute_result"
    }
   ],
   "source": [
    "np.e"
   ]
  },
  {
   "cell_type": "code",
   "execution_count": 38,
   "id": "7887954a",
   "metadata": {},
   "outputs": [
    {
     "data": {
      "text/plain": [
       "0.9999999999999998"
      ]
     },
     "execution_count": 38,
     "metadata": {},
     "output_type": "execute_result"
    }
   ],
   "source": [
    "sigmoid(36)"
   ]
  },
  {
   "cell_type": "code",
   "execution_count": 39,
   "id": "954d8492",
   "metadata": {},
   "outputs": [],
   "source": [
    "def forward_progation(w, b, x_train, y_train):\n",
    "    z = np.dot(w.T, x_train) + b\n",
    "    y_head = sigmoid(z)\n",
    "    loss = -y_train*np.log(y_head) - (1-y_train)/np.log(1-y_head)\n",
    "    cost = np.sum(loss)/x_train.shape[1]\n",
    "    return cost"
   ]
  },
  {
   "cell_type": "code",
   "execution_count": 40,
   "id": "7f4899c1",
   "metadata": {},
   "outputs": [
    {
     "name": "stdout",
     "output_type": "stream",
     "text": [
      "0.01722538733075813\n"
     ]
    }
   ],
   "source": [
    "w, b = initialize_weight_and_bias(4096)\n",
    "cost = forward_progation(w, b, X_train, Y_train)\n",
    "print(cost)"
   ]
  },
  {
   "cell_type": "markdown",
   "id": "78589b22",
   "metadata": {},
   "source": [
    "## graient descent"
   ]
  },
  {
   "cell_type": "code",
   "execution_count": 41,
   "id": "0eddd3a0",
   "metadata": {},
   "outputs": [],
   "source": [
    "def forward_backward_propagation(w, b, x_train, y_train):\n",
    "    z = np.dot(w.T, x_train) + b\n",
    "    y_head = sigmoid(z)\n",
    "    loss = -y_train*np.log(y_head) - (1-y_train)/np.log(1-y_head)\n",
    "    cost = np.sum(loss)/x_train.shape[1]\n",
    "    print(cost)\n",
    "    # backward propagation\n",
    "    derivate_weight = np.dot(x_train,((y_head-y_train).T))/x_train.shape[1]\n",
    "    derivate_bias = np.sum(y_head - y_train)/x_train.shape[1]\n",
    "    gredients = {\"derivate_weight\":derivate_weight,\"derivate_bias\":derivate_bias}\n",
    "    return cost , gredients"
   ]
  },
  {
   "cell_type": "code",
   "execution_count": 42,
   "id": "24fec7d3",
   "metadata": {},
   "outputs": [
    {
     "name": "stdout",
     "output_type": "stream",
     "text": [
      "0.01722538733075813\n",
      "0.48563218390677526\n"
     ]
    }
   ],
   "source": [
    "w, b = initialize_weight_and_bias(4096)\n",
    "cost, derivate_dict = forward_backward_propagation(w,b,X_train,Y_train)\n",
    "print(derivate_dict[\"derivate_bias\"])"
   ]
  },
  {
   "cell_type": "code",
   "execution_count": 43,
   "id": "928861b3",
   "metadata": {},
   "outputs": [
    {
     "name": "stdout",
     "output_type": "stream",
     "text": [
      "[[0.25687402]\n",
      " [0.26214786]\n",
      " [0.26699347]\n",
      " ...\n",
      " [0.23669146]\n",
      " [0.23336714]\n",
      " [0.22873564]] 0.48563218390677526\n",
      "0.01722538733075813\n"
     ]
    }
   ],
   "source": [
    "# w = derivate_dict[\"derivate_weight\"]\n",
    "# b = derivate_dict[\"derivate_bias\"]\n",
    "w = derivate_dict['derivate_weight']\n",
    "b = derivate_dict['derivate_bias']\n",
    "print(w, b)\n",
    "print(cost)"
   ]
  },
  {
   "cell_type": "code",
   "execution_count": 44,
   "id": "60d7e3f6",
   "metadata": {},
   "outputs": [],
   "source": [
    "# Updating(learning) parameters\n",
    "def update(w, b, x_train, y_train, learning_rate,number_of_iterarion):\n",
    "    cost_list = []\n",
    "    cost_list2 = []\n",
    "    index = []\n",
    "    # updating(learning) parameters is number_of_iterarion times\n",
    "    for i in range(number_of_iterarion):\n",
    "        # make forward and backward propagation and find cost and gradients\n",
    "        cost,gradients = forward_backward_propagation(w,b,x_train,y_train)\n",
    "        cost_list.append(cost)\n",
    "        # lets update\n",
    "        print(gradients['derivate_bias'])\n",
    "        w = w - learning_rate * gradients['derivate_weight']\n",
    "        b = b - learning_rate * gradients['derivate_bias']\n",
    "        if i % 10 == 0:\n",
    "            cost_list2.append(cost)\n",
    "            index.append(i)\n",
    "            print (\"Cost after iteration %i: %f\" %(i, cost))\n",
    "    # we update(learn) parameters weights and bias\n",
    "    parameters = {\"weight\": w,\"bias\": b}\n",
    "    plt.plot(index,cost_list2)\n",
    "    plt.xticks(index,rotation='vertical')\n",
    "    plt.xlabel(\"Number of Iterarion\")\n",
    "    plt.ylabel(\"Cost\")\n",
    "    plt.show()\n",
    "    return parameters, gradients, cost_list"
   ]
  },
  {
   "cell_type": "code",
   "execution_count": 45,
   "id": "5074cbfc",
   "metadata": {},
   "outputs": [
    {
     "name": "stdout",
     "output_type": "stream",
     "text": [
      "0.0\n",
      "0.48563218390804597\n",
      "Cost after iteration 0: 0.000000\n",
      "0.0\n",
      "0.48563218390804597\n",
      "0.0\n",
      "0.48563218390804597\n",
      "0.0\n",
      "0.48563218390804597\n",
      "0.0\n",
      "0.48563218390804597\n",
      "0.0\n",
      "0.48563218390804597\n",
      "0.0\n",
      "0.48563218390804597\n",
      "0.0\n",
      "0.48563218390804597\n",
      "0.0\n",
      "0.48563218390804597\n",
      "0.0\n",
      "0.48563218390804597\n",
      "0.0\n",
      "0.48563218390804597\n",
      "Cost after iteration 10: 0.000000\n",
      "0.0\n",
      "0.48563218390804597\n",
      "0.0\n",
      "0.48563218390804597\n",
      "0.0\n",
      "0.48563218390804597\n",
      "0.0\n",
      "0.48563218390804597\n",
      "0.0\n",
      "0.48563218390804597\n",
      "0.0\n",
      "0.48563218390804597\n",
      "0.0\n",
      "0.48563218390804597\n",
      "0.0\n",
      "0.48563218390804597\n",
      "0.0\n",
      "0.48563218390804597\n",
      "0.0\n",
      "0.48563218390804597\n",
      "Cost after iteration 20: 0.000000\n",
      "0.0\n",
      "0.48563218390804597\n",
      "0.0\n",
      "0.48563218390804597\n"
     ]
    },
    {
     "name": "stderr",
     "output_type": "stream",
     "text": [
      "<ipython-input-41-e359c149db52>:4: RuntimeWarning: divide by zero encountered in log\n",
      "  loss = -y_train*np.log(y_head) - (1-y_train)/np.log(1-y_head)\n"
     ]
    },
    {
     "name": "stdout",
     "output_type": "stream",
     "text": [
      "0.0\n",
      "0.48563218390804597\n",
      "0.0\n",
      "0.48563218390804597\n",
      "0.0\n",
      "0.48563218390804597\n",
      "0.0\n",
      "0.48563218390804597\n",
      "0.0\n",
      "0.48563218390804597\n",
      "0.0\n",
      "0.48563218390804597\n",
      "0.0\n",
      "0.48563218390804597\n",
      "0.0\n",
      "0.48563218390804597\n",
      "Cost after iteration 30: 0.000000\n",
      "0.0\n",
      "0.48563218390804597\n",
      "0.0\n",
      "0.48563218390804597\n",
      "0.0\n",
      "0.48563218390804597\n",
      "0.0\n",
      "0.48563218390804597\n",
      "0.0\n",
      "0.48563218390804597\n",
      "0.0\n",
      "0.48563218390804597\n",
      "0.0\n",
      "0.48563218390804597\n",
      "0.0\n",
      "0.48563218390804597\n",
      "0.0\n",
      "0.48563218390804597\n",
      "0.0\n",
      "0.48563218390804597\n",
      "Cost after iteration 40: 0.000000\n",
      "0.0\n",
      "0.48563218390804597\n",
      "0.0\n",
      "0.48563218390804597\n",
      "0.0\n",
      "0.48563218390804597\n",
      "0.0\n",
      "0.48563218390804597\n",
      "0.0\n",
      "0.48563218390804597\n",
      "0.0\n",
      "0.48563218390804597\n",
      "0.0\n",
      "0.48563218390804597\n",
      "0.0\n",
      "0.48563218390804597\n",
      "0.0\n",
      "0.48563218390804597\n",
      "0.0\n",
      "0.48563218390804597\n",
      "Cost after iteration 50: 0.000000\n",
      "0.0\n",
      "0.48563218390804597\n",
      "0.0\n",
      "0.48563218390804597\n",
      "0.0\n",
      "0.48563218390804597\n",
      "0.0\n",
      "0.48563218390804597\n",
      "0.0\n",
      "0.48563218390804597\n",
      "0.0\n",
      "0.48563218390804597\n",
      "0.0\n",
      "0.48563218390804597\n",
      "0.0\n",
      "0.48563218390804597\n",
      "0.0\n",
      "0.48563218390804597\n",
      "0.0\n",
      "0.48563218390804597\n",
      "Cost after iteration 60: 0.000000\n",
      "0.0\n",
      "0.48563218390804597\n",
      "0.0\n",
      "0.48563218390804597\n",
      "0.0\n",
      "0.48563218390804597\n",
      "0.0\n",
      "0.48563218390804597\n",
      "0.0\n",
      "0.48563218390804597\n",
      "0.0\n",
      "0.48563218390804597\n",
      "0.0\n",
      "0.48563218390804597\n",
      "0.0\n",
      "0.48563218390804597\n",
      "0.0\n",
      "0.48563218390804597\n",
      "0.0\n",
      "0.48563218390804597\n",
      "Cost after iteration 70: 0.000000\n",
      "0.0\n",
      "0.48563218390804597\n",
      "0.0\n",
      "0.48563218390804597\n",
      "0.0\n",
      "0.48563218390804597\n",
      "0.0\n",
      "0.48563218390804597\n",
      "0.0\n",
      "0.48563218390804597\n",
      "0.0\n",
      "0.48563218390804597\n",
      "0.0\n",
      "0.48563218390804597\n",
      "0.0\n",
      "0.48563218390804597\n",
      "0.0\n",
      "0.48563218390804597\n",
      "0.0\n",
      "0.48563218390804597\n",
      "Cost after iteration 80: 0.000000\n",
      "0.0\n",
      "0.48563218390804597\n",
      "0.0\n",
      "0.48563218390804597\n",
      "0.0\n",
      "0.48563218390804597\n",
      "0.0\n",
      "0.48563218390804597\n",
      "0.0\n",
      "0.48563218390804597\n",
      "0.0\n",
      "0.48563218390804597\n",
      "0.0\n",
      "0.48563218390804597\n",
      "0.0\n",
      "0.48563218390804597\n",
      "0.0\n",
      "0.48563218390804597\n",
      "0.0\n",
      "0.48563218390804597\n",
      "Cost after iteration 90: 0.000000\n",
      "0.0\n",
      "0.48563218390804597\n",
      "0.0\n",
      "0.48563218390804597\n",
      "0.0\n",
      "0.48563218390804597\n",
      "0.0\n",
      "0.48563218390804597\n",
      "0.0\n",
      "0.48563218390804597\n",
      "0.0\n",
      "0.48563218390804597\n",
      "0.0\n",
      "0.48563218390804597\n",
      "0.0\n",
      "0.48563218390804597\n",
      "0.0\n",
      "0.48563218390804597\n",
      "0.0\n",
      "0.48563218390804597\n",
      "Cost after iteration 100: 0.000000\n",
      "0.0\n",
      "0.48563218390804597\n",
      "0.0\n",
      "0.48563218390804597\n",
      "0.0\n",
      "0.48563218390804597\n",
      "0.0\n",
      "0.48563218390804597\n",
      "0.0\n",
      "0.48563218390804597\n",
      "6.3805920955468785e-19\n",
      "0.48563218390804597\n",
      "0.011914237297029827\n",
      "0.4856321839080445\n",
      "0.018058286705267577\n",
      "0.4856321839038278\n",
      "0.026612132661731718\n",
      "0.485632168332491\n",
      "0.05059799894538525\n",
      "0.485561184548585\n",
      "Cost after iteration 110: 0.050598\n",
      "0.5426839926340178\n",
      "0.21027306754399355\n",
      "9.62044007430109\n",
      "-0.45522857505237607\n",
      "0.09180414546727375\n",
      "0.48139533498654097\n",
      "13.619641462057032\n",
      "-0.4716094562127311\n",
      "0.09355587072021972\n",
      "0.4811365059280474\n",
      "14.834322340647127\n",
      "-0.47331173449788627\n",
      "0.0947058509914528\n",
      "0.48100527014611144\n",
      "15.71628345289969\n",
      "-0.47358503182671297\n",
      "0.09576348018025378\n",
      "0.48088523980434983\n",
      "16.577148724646158\n",
      "-0.47347750399581306\n",
      "Cost after iteration 120: 16.577149\n",
      "0.09686436687995907\n",
      "0.48074416116273516\n",
      "17.510447854019155\n",
      "-0.4732441302192014\n",
      "0.09804915084673192\n",
      "0.48057141549954174\n",
      "18.55189311708486\n",
      "-0.47295439919032217\n",
      "0.0993319468392451\n",
      "0.4803621462569319\n",
      "19.720994455136818\n",
      "-0.4726265560907313\n",
      "0.10071956608416277\n",
      "0.48011276590956126\n",
      "21.033243775477533\n",
      "-0.4722638673047287\n",
      "0.10221709376263931\n",
      "0.4798196351090746\n",
      "22.50377172011139\n",
      "-0.47186488171136864\n",
      "Cost after iteration 130: 22.503772\n",
      "0.1038295355141408\n",
      "0.47947865252328903\n",
      "24.148423916544232\n",
      "-0.4714263253818996\n",
      "0.10556233257773641\n",
      "0.47908510553476097\n",
      "25.984027442258792\n",
      "-0.47094388725980624\n",
      "0.10742156049197045\n",
      "0.47863359410987216\n",
      "28.028372144521622\n",
      "-0.47041240367708015\n",
      "0.10941404866113728\n",
      "0.47811797455391114\n",
      "30.300054035022264\n",
      "-0.469825872237275\n",
      "0.11154749108245633\n",
      "0.47753130908946656\n",
      "32.818213861379604\n",
      "-0.4691774171708997\n",
      "Cost after iteration 140: 32.818214\n",
      "0.11383057128197945\n",
      "0.4768658187158416\n",
      "35.602170246799375\n",
      "-0.46845924130714195\n",
      "0.1162731119695576\n",
      "0.4761128402601226\n",
      "38.6709382757977\n",
      "-0.4676625759607468\n",
      "0.1188862574039035\n",
      "0.47526278957561346\n",
      "42.04262470313274\n",
      "-0.46677763386990256\n",
      "0.1216826968604817\n",
      "0.4743051330643183\n",
      "45.73369534773608\n",
      "-0.4657935689407281\n",
      "0.12467693888356408\n",
      "0.4732283695032211\n",
      "49.75811727976255\n",
      "-0.46469844629716966\n",
      "Cost after iteration 150: 49.758117\n",
      "0.12788564757711712\n",
      "0.4720200236228348\n",
      "54.126387385417374\n",
      "-0.4634792259194136\n",
      "0.13132805384810825\n",
      "0.47066665204417013\n",
      "58.84446892988108\n",
      "-0.4621217626109883\n",
      "0.1350264561951336\n",
      "0.4691538610806791\n",
      "63.9126676115703\n",
      "-0.460610824019512\n",
      "0.13900682736032657\n",
      "0.46746633467364695\n",
      "69.32448684138353\n",
      "-0.4589301269252437\n",
      "0.14329954507435141\n",
      "0.4655878695413048\n",
      "75.06550720529182\n",
      "-0.45706239010695215\n",
      "Cost after iteration 160: 75.065507\n",
      "0.14794026751903652\n",
      "0.46350141371789505\n",
      "81.11233646628354\n",
      "-0.4549894000391558\n",
      "0.15297097748454191\n",
      "0.46118910426930243\n",
      "87.43167426868536\n",
      "-0.45269208384128473\n",
      "0.15844122414642464\n",
      "0.45863230025824764\n",
      "93.97953144357285\n",
      "-0.4501505827301319\n",
      "0.1644095986711986\n",
      "0.4558116080301578\n",
      "100.70064005536956\n",
      "-0.4473443191241977\n",
      "0.17094549021394673\n",
      "0.4527068974856795\n",
      "107.52808995292835\n",
      "-0.4442520517393158\n",
      "Cost after iteration 170: 107.528090\n",
      "0.17813118293071276\n",
      "0.4492973099523765\n",
      "114.38323264910149\n",
      "-0.44085191543902447\n",
      "0.18606437286949626\n",
      "0.4455612602502652\n",
      "121.17590400941947\n",
      "-0.43712144587392954\n",
      "0.19486120639882185\n",
      "0.44147643724714963\n",
      "127.8050311772543\n",
      "-0.43303759241349543\n",
      "0.20465996961145508\n",
      "0.4370198083607956\n",
      "134.15970187463392\n",
      "-0.42857672579001066\n",
      "0.21562559163668485\n",
      "0.4321676339164775\n",
      "140.1207799774407\n",
      "-0.42371464858984265\n",
      "Cost after iteration 180: 140.120780\n",
      "0.22795516531508875\n",
      "0.42689549695193324\n",
      "145.5631446355874\n",
      "-0.4184266168886244\n",
      "0.24188473833871632\n",
      "0.42117835305717616\n",
      "150.35860747659262\n",
      "-0.4126873800030975\n",
      "0.2576976897581963\n",
      "0.4149906034042233\n",
      "154.3795225950189\n",
      "-0.40647124304935095\n",
      "0.27573508461562\n",
      "0.4083061927475059\n",
      "157.5030491463299\n",
      "-0.3997521546893277\n",
      "0.29640849792335533\n",
      "0.4010987335915254\n",
      "159.61596122150763\n",
      "-0.3925038213359105\n",
      "Cost after iteration 190: 159.615961\n",
      "0.3202159228264088\n",
      "0.3933416588687382\n",
      "160.6198309314961\n",
      "-0.38469985049986044\n",
      "0.347761529826484\n",
      "0.3850084093723299\n",
      "160.43634556876677\n",
      "-0.3763139310951995\n",
      "0.37978022397531724\n",
      "0.3760726697335715\n",
      "159.01246494497335\n",
      "-0.367320068143773\n",
      "0.4171681466318093\n",
      "0.3665086783867832\n",
      "156.32508543972926\n",
      "-0.35769290348288285\n",
      "0.46102046460534074\n",
      "0.3562916525019316\n"
     ]
    },
    {
     "data": {
      "image/png": "[encoded data removed]",
      "text/plain": [
       "<Figure size 432x288 with 1 Axes>"
      ]
     },
     "metadata": {
      "needs_background": "light"
     },
     "output_type": "display_data"
    }
   ],
   "source": [
    "parameters, gradients, cost_list = update(w, b, X_train, Y_train, learning_rate = 0.009, number_of_iterarion = 200)"
   ]
  },
  {
   "cell_type": "code",
   "execution_count": 46,
   "id": "761a9a49",
   "metadata": {},
   "outputs": [],
   "source": [
    "# prediction\n",
    "def predict(w,b,x_test):\n",
    "    # x_test is a input for forward propagation\n",
    "    z = sigmoid(np.dot(w.T,x_test)+b)\n",
    "    Y_prediction = np.zeros((1,x_test.shape[1]))\n",
    "    # if z is bigger than 0.5, our prediction is sign one (y_head=1),\n",
    "    # if z is smaller than 0.5, our prediction is sign zero (y_head=0),\n",
    "    for i in range(z.shape[1]):\n",
    "        if z[0,i]<= 0.5:\n",
    "            Y_prediction[0,i] = 0\n",
    "        else:\n",
    "            Y_prediction[0,i] = 1\n",
    "    return Y_prediction"
   ]
  },
  {
   "cell_type": "code",
   "execution_count": 47,
   "id": "445d4140",
   "metadata": {},
   "outputs": [
    {
     "data": {
      "text/plain": [
       "array([[0., 0., 0., 0., 0., 0., 0., 0., 0., 1., 0., 0., 1., 0., 0., 0.,\n",
       "        1., 0., 0., 0., 0., 0., 0., 0., 0., 0., 0., 0., 0., 0., 0., 0.,\n",
       "        0., 0., 0., 0., 0., 0., 0., 0., 0., 0., 0., 0., 0., 0., 0., 0.,\n",
       "        1., 0., 0., 0., 0., 0., 0., 0., 1., 0., 0., 0., 0., 0.]])"
      ]
     },
     "execution_count": 47,
     "metadata": {},
     "output_type": "execute_result"
    }
   ],
   "source": [
    "predict(parameters[\"weight\"],parameters[\"bias\"],X_test)"
   ]
  },
  {
   "cell_type": "code",
   "execution_count": 48,
   "id": "3107c8b0",
   "metadata": {},
   "outputs": [],
   "source": [
    "def logistic_regression(x_train, y_train, x_test, y_test, learning_rate ,  num_iterations):\n",
    "    # initialize\n",
    "    dimension =  x_train.shape[0]  # that is 4096\n",
    "    w,b = initialize_weight_and_bias(dimension)\n",
    "    # do not change learning rate\n",
    "    parameters, gradients, cost_list = update(w, b, x_train, y_train, learning_rate,num_iterations)\n",
    "    y_prediction_test = predict(parameters[\"weight\"],parameters[\"bias\"],x_test)\n",
    "    y_prediction_train = predict(parameters[\"weight\"],parameters[\"bias\"],x_train)\n",
    "    # Print train/test Errors\n",
    "    print(\"train accuracy: {} %\".format(100 - np.mean(np.abs(y_prediction_train - y_train)) * 100))\n",
    "    print(\"test accuracy: {} %\".format(100 - np.mean(np.abs(y_prediction_test - y_test)) * 100))"
   ]
  },
  {
   "cell_type": "code",
   "execution_count": 49,
   "id": "f56a24b8",
   "metadata": {},
   "outputs": [
    {
     "name": "stdout",
     "output_type": "stream",
     "text": [
      "0.01722538733075813\n",
      "0.48563218390677526\n",
      "Cost after iteration 0: 0.017225\n",
      "0.026125765452755148\n",
      "0.48563217264023983\n",
      "0.05412322481489824\n",
      "0.4855016431707793\n",
      "1.6641509745173744\n",
      "-0.16198528222576553\n",
      "0.21130379790266174\n",
      "0.42216597350747526\n",
      "160.30757787074688\n",
      "-0.5108940309962188\n",
      "0.11317713299521572\n",
      "0.47532021669378927\n",
      "73.314870753449\n",
      "-0.5063763509225617\n",
      "0.09621894647653237\n",
      "0.4806415903499248\n",
      "41.193362583104445\n",
      "-0.4991566161662875\n",
      "0.08792421669609608\n",
      "0.48253842850088197\n",
      "Cost after iteration 10: 0.087924\n",
      "27.82643035851114\n",
      "-0.4900980861752186\n",
      "0.08422999957634564\n",
      "0.4832460824994126\n",
      "22.715430573564355\n",
      "-0.4822813114393413\n",
      "0.08330106948457332\n",
      "0.4834478709028049\n",
      "21.600350758889743\n",
      "-0.47793335093748734\n",
      "0.08373669322979835\n",
      "0.48343640709260116\n",
      "22.32112638178191\n",
      "-0.4761904678184401\n",
      "0.08471402166453774\n",
      "0.4833387204758405\n",
      "23.84205633271419\n",
      "-0.47549739637550725\n",
      "0.08591622343293698\n",
      "0.48319829347487225\n",
      "Cost after iteration 20: 0.085916\n",
      "25.793267680235605\n",
      "-0.47510720972049864\n",
      "0.08725092526786088\n",
      "0.4830259701530322\n",
      "28.085341987246757\n",
      "-0.4747839507322514\n",
      "0.08869657553936332\n",
      "0.4828221648898064\n",
      "30.722187014256026\n",
      "-0.47446166906349274\n",
      "0.09025153994471222\n",
      "0.48258393118022863\n",
      "33.738210576938584\n",
      "-0.47412058834960974\n",
      "0.09191990420327008\n",
      "0.48230690188744946\n",
      "37.18015709618952\n",
      "-0.47375223364851704\n",
      "0.09370779041844708\n",
      "0.4819857496332635\n",
      "Cost after iteration 30: 0.093708\n",
      "41.10218957222508\n",
      "-0.4733503234956753\n",
      "0.09562248597557395\n",
      "0.48161423874348935\n",
      "45.56455705046391\n",
      "-0.4729084204348279\n",
      "0.09767231256418805\n",
      "0.4811851640724365\n",
      "50.633053630796134\n",
      "-0.47241928025655705\n",
      "0.09986669959328721\n",
      "0.4806902576579856\n",
      "56.37843299687287\n",
      "-0.471874612424301\n",
      "0.10221633063443245\n",
      "0.4801200872456815\n",
      "62.87547549209731\n",
      "-0.4712649343337237\n",
      "0.10473333689363094\n",
      "0.4794639564680454\n",
      "Cost after iteration 40: 0.104733\n",
      "70.20154477531396\n",
      "-0.47057944561962456\n",
      "0.10743154035855515\n",
      "0.47870981349434283\n",
      "78.4345116788283\n",
      "-0.46980590943898726\n",
      "0.11032675900362825\n",
      "0.4778441747065196\n",
      "87.64994863939322\n",
      "-0.46893054337551254\n",
      "0.11343719200280597\n",
      "0.4768520699113093\n",
      "97.91753529189556\n",
      "-0.46793792728965694\n",
      "0.11678390793659651\n",
      "0.4757170148533062\n",
      "109.29667318198499\n",
      "-0.466810936993173\n",
      "0.12039146426716661\n",
      "0.4744210148948601\n",
      "Cost after iteration 50: 0.120391\n",
      "121.8313854700008\n",
      "-0.46553071253018263\n",
      "0.12428869193665179\n",
      "0.4729446004928505\n",
      "135.5446690560811\n",
      "-0.46407666802707387\n",
      "0.1285096847407524\n",
      "0.47126689069171906\n",
      "150.43255746351295\n",
      "-0.4624265462441994\n",
      "0.133095039256936\n",
      "0.46936567587498385\n",
      "166.45822348489574\n",
      "-0.46055651513629425\n",
      "0.13809339817048752\n",
      "0.467217506517746\n",
      "183.54648181723027\n",
      "-0.4584412965291986\n",
      "0.14356335922807403\n",
      "0.4647977719228257\n",
      "Cost after iteration 60: 0.143563\n",
      "201.57903344358945\n",
      "-0.4560543098109234\n",
      "0.14957582608728445\n",
      "0.46208075296178697\n",
      "220.39073212973753\n",
      "-0.45336780823794\n",
      "0.15621689920786458\n",
      "0.45903963605709086\n",
      "239.76707515910232\n",
      "-0.4503529839986926\n",
      "0.16359143832182638\n",
      "0.4556464814590506\n",
      "259.44306326686404\n",
      "-0.44698002169171586\n",
      "0.17182747662884573\n",
      "0.451872145910705\n",
      "279.10357247655656\n",
      "-0.4432180880524387\n",
      "0.1810817342398022\n",
      "0.44768616639594283\n",
      "Cost after iteration 70: 0.181082\n",
      "298.3854455537715\n",
      "-0.4390352567291066\n",
      "0.1915465684022382\n",
      "0.44305661649928346\n",
      "316.88162466943044\n",
      "-0.4343983778242347\n",
      "0.20345881612083436\n",
      "0.4379499492968116\n",
      "334.14776431226176\n",
      "-0.4292729099892889\n",
      "0.21711113976037655\n",
      "0.43233084058713794\n",
      "349.7118269107941\n",
      "-0.4236227362666335\n",
      "0.2328666924001633\n",
      "0.426162044009775\n",
      "363.0871211639209\n",
      "-0.41740998327090506\n",
      "0.25117819912030903\n",
      "0.41940426591698815\n",
      "Cost after iteration 80: 0.251178\n",
      "373.78906354980336\n",
      "-0.41059485795343215\n",
      "0.2726129352021235\n",
      "0.41201606416890835\n",
      "381.3556252036894\n",
      "-0.40313550998428577\n",
      "0.2978856172221616\n",
      "0.4039537738820706\n",
      "385.3709990070418\n",
      "-0.3949879252722356\n",
      "0.32790196726198756\n",
      "0.3951714687004917\n",
      "385.4915402558009\n",
      "-0.3861058634344736\n",
      "0.363816735183255\n",
      "0.38562098398211575\n",
      "381.4725641033476\n",
      "-0.3764408761597113\n",
      "0.4071113410899216\n",
      "0.375252064753799\n",
      "Cost after iteration 90: 0.407111\n",
      "373.1941794510359\n",
      "-0.3659424909730337\n",
      "0.45969807038675886\n",
      "0.36401276211233224\n",
      "360.6840299585689\n",
      "-0.35455872021407403\n",
      "0.5240598529347916\n",
      "0.35185029038347243\n",
      "344.1345970831441\n",
      "-0.3422371584164637\n",
      "0.6034367612785619\n",
      "0.33871267324135984\n",
      "323.9125876457773\n",
      "-0.32892705767162483\n",
      "0.7020715804141094\n",
      "0.3245516426596972\n",
      "300.5578938770027\n",
      "-0.31458290599967026\n",
      "0.8255251245842612\n",
      "0.309327387349814\n",
      "Cost after iteration 100: 0.825525\n",
      "274.7697387700172\n",
      "-0.29917014344772896\n",
      "0.9810634311824574\n",
      "0.29301581919004704\n",
      "247.3780163445345\n",
      "-0.2826736522482503\n",
      "1.178096729839421\n",
      "0.27561891077661355\n",
      "219.29868811327205\n",
      "-0.2651093881652551\n",
      "1.4286047537831492\n",
      "0.25717814143005535\n",
      "191.47373421934552\n",
      "-0.24653874957017355\n",
      "1.747406590949524\n",
      "0.23778994635152603\n",
      "164.79908660154413\n",
      "-0.22708386775399367\n",
      "2.1520305964373114\n",
      "0.21762031454240308\n",
      "Cost after iteration 110: 2.152031\n",
      "140.04847293992438\n",
      "-0.20694023391570357\n",
      "2.661845360682933\n",
      "0.1969139598810846\n",
      "117.80613479784542\n",
      "-0.18638190497421037\n",
      "3.2960998979482827\n",
      "0.17599303457775264\n",
      "98.42375014119216\n",
      "-0.16575507142475202\n",
      "4.07068441861959\n",
      "0.1552420856043879\n",
      "82.01287081760697\n",
      "-0.14545810657753155\n",
      "4.993832104953396\n",
      "0.13507930724198036\n",
      "68.4737857898863\n",
      "-0.12590912464937387\n",
      "6.061623698119722\n",
      "0.1159175526970111\n",
      "Cost after iteration 120: 6.061624\n",
      "57.55046593569591\n",
      "-0.10750483045576657\n",
      "7.254826028695767\n",
      "0.09812141426771501\n",
      "48.89549530489676\n",
      "-0.09057770752461697\n",
      "8.53878599185961\n",
      "0.08196913855257021\n",
      "42.13010759087921\n",
      "-0.07536164519377325\n",
      "9.867260819257737\n",
      "0.06762873073624143\n",
      "36.88974549365753\n",
      "-0.061975416506298626\n",
      "11.189350525197671\n",
      "0.0551539266213589\n",
      "32.85176999730865\n",
      "-0.05042723108956717\n",
      "12.457237185968925\n",
      "0.04449867192743871\n",
      "Cost after iteration 130: 12.457237\n",
      "29.747082406024717\n",
      "-0.040635655292911015\n",
      "13.632301446432425\n",
      "0.03554285510771911\n",
      "27.360312260087515\n",
      "-0.03245790173204977\n",
      "14.68829130391912\n",
      "0.02812063390831698\n",
      "25.52368310572322\n",
      "-0.025717313636233013\n",
      "15.611591100707422\n",
      "0.022045122898884325\n",
      "24.10853897641079\n",
      "-0.020225394221961405\n",
      "16.39948162354662\n",
      "0.01712674127309337\n",
      "23.016934702424418\n",
      "-0.01579712277735548\n",
      "17.05745317120773\n",
      "0.013185162859054949\n",
      "Cost after iteration 140: 17.057453\n",
      "22.174394522835254\n",
      "-0.012260307852132378\n",
      "17.596398202590848\n",
      "0.01005608294111518\n",
      "21.524136686564074\n",
      "-0.009460448744146921\n",
      "18.03016601915957\n",
      "0.007594296089104254\n",
      "21.02266406686305\n",
      "-0.007262554212689238\n",
      "18.37367522290883\n",
      "0.005674378710183618\n",
      "20.636476777693023\n",
      "-0.005551061700694575\n",
      "18.6415971486718\n",
      "0.0041899349863589895\n",
      "20.339646731420817\n",
      "-0.004228662121909813\n"
     ]
    },
    {
     "data": {
      "image/png": "[encoded data removed]",
      "text/plain": [
       "<Figure size 432x288 with 1 Axes>"
      ]
     },
     "metadata": {
      "needs_background": "light"
     },
     "output_type": "display_data"
    },
    {
     "name": "stdout",
     "output_type": "stream",
     "text": [
      "train accuracy: 92.816091954023 %\n",
      "test accuracy: 96.7741935483871 %\n"
     ]
    }
   ],
   "source": [
    "logistic_regression(X_train, Y_train, X_test, Y_test,learning_rate = 0.01, num_iterations = 150)"
   ]
  },
  {
   "cell_type": "code",
   "execution_count": 50,
   "id": "fed2fd95",
   "metadata": {},
   "outputs": [],
   "source": [
    "# sklearn 이용\n",
    "from sklearn import linear_model\n",
    "logreg = linear_model.LogisticRegression(random_state=42, max_iter=150)"
   ]
  },
  {
   "cell_type": "code",
   "execution_count": 51,
   "id": "b4e7d379",
   "metadata": {},
   "outputs": [
    {
     "name": "stderr",
     "output_type": "stream",
     "text": [
      "c:\\users\\ad\\appdata\\local\\programs\\python\\python38\\lib\\site-packages\\sklearn\\utils\\validation.py:63: DataConversionWarning: A column-vector y was passed when a 1d array was expected. Please change the shape of y to (n_samples, ), for example using ravel().\n",
      "  return f(*args, **kwargs)\n",
      "c:\\users\\ad\\appdata\\local\\programs\\python\\python38\\lib\\site-packages\\sklearn\\linear_model\\_logistic.py:763: ConvergenceWarning: lbfgs failed to converge (status=1):\n",
      "STOP: TOTAL NO. of ITERATIONS REACHED LIMIT.\n",
      "\n",
      "Increase the number of iterations (max_iter) or scale the data as shown in:\n",
      "    https://scikit-learn.org/stable/modules/preprocessing.html\n",
      "Please also refer to the documentation for alternative solver options:\n",
      "    https://scikit-learn.org/stable/modules/linear_model.html#logistic-regression\n",
      "  n_iter_i = _check_optimize_result(\n"
     ]
    },
    {
     "name": "stdout",
     "output_type": "stream",
     "text": [
      "test accuracy: 0.967741935483871 \n"
     ]
    },
    {
     "name": "stderr",
     "output_type": "stream",
     "text": [
      "c:\\users\\ad\\appdata\\local\\programs\\python\\python38\\lib\\site-packages\\sklearn\\utils\\validation.py:63: DataConversionWarning: A column-vector y was passed when a 1d array was expected. Please change the shape of y to (n_samples, ), for example using ravel().\n",
      "  return f(*args, **kwargs)\n",
      "c:\\users\\ad\\appdata\\local\\programs\\python\\python38\\lib\\site-packages\\sklearn\\linear_model\\_logistic.py:763: ConvergenceWarning: lbfgs failed to converge (status=1):\n",
      "STOP: TOTAL NO. of ITERATIONS REACHED LIMIT.\n",
      "\n",
      "Increase the number of iterations (max_iter) or scale the data as shown in:\n",
      "    https://scikit-learn.org/stable/modules/preprocessing.html\n",
      "Please also refer to the documentation for alternative solver options:\n",
      "    https://scikit-learn.org/stable/modules/linear_model.html#logistic-regression\n",
      "  n_iter_i = _check_optimize_result(\n"
     ]
    },
    {
     "name": "stdout",
     "output_type": "stream",
     "text": [
      "train accuracy: 1.0 \n"
     ]
    }
   ],
   "source": [
    "print(\"test accuracy: {} \".format(logreg.fit(X_train.T, Y_train.T).score(X_test.T, Y_test.T)))\n",
    "print(\"train accuracy: {} \".format(logreg.fit(X_train.T, Y_train.T).score(X_train.T, Y_train.T)))"
   ]
  },
  {
   "cell_type": "code",
   "execution_count": 52,
   "id": "05706e66",
   "metadata": {},
   "outputs": [],
   "source": [
    "# intialize parameters and layer sizes\n",
    "def initialize_parameters_and_layer_sizes_NN(x_train, y_train):\n",
    "    parameters = {\"weight1\": np.random.randn(3,x_train.shape[0]) * 0.1,\n",
    "                  \"bias1\": np.zeros((3,1)),\n",
    "                  \"weight2\": np.random.randn(y_train.shape[0],3) * 0.1,\n",
    "                  \"bias2\": np.zeros((y_train.shape[0],1))}\n",
    "    return parameters"
   ]
  },
  {
   "cell_type": "code",
   "execution_count": 53,
   "id": "06a8512b",
   "metadata": {},
   "outputs": [],
   "source": [
    "def forward_propagation_NN(x_train, parameters):\n",
    "    Z1 = np.dot(parameters[\"weight1\"],x_train) +parameters[\"bias1\"]\n",
    "    A1 = np.tanh(Z1)\n",
    "    Z2 = np.dot(parameters[\"weight2\"],A1) + parameters[\"bias2\"]\n",
    "    A2 = sigmoid(Z2)\n",
    "    cache = {\"Z1\": Z1,\n",
    "             \"A1\": A1,\n",
    "             \"Z2\": Z2,\n",
    "             \"A2\": A2}\n",
    "    return A2, cache\n"
   ]
  },
  {
   "cell_type": "code",
   "execution_count": 54,
   "id": "4663261d",
   "metadata": {},
   "outputs": [],
   "source": [
    "# Compute cost\n",
    "def compute_cost_NN(A2, Y, parameters):\n",
    "    logprobs = np.multiply(np.log(A2),Y)\n",
    "    cost = -np.sum(logprobs)/Y.shape[1]\n",
    "    return cost"
   ]
  },
  {
   "cell_type": "code",
   "execution_count": 55,
   "id": "d919b1bb",
   "metadata": {},
   "outputs": [],
   "source": [
    "# Backward Propagation\n",
    "def backward_propagation_NN(parameters, cache, X, Y):\n",
    "    dZ2 = cache[\"A2\"]-Y\n",
    "    dW2 = np.dot(dZ2,cache[\"A1\"].T)/X.shape[1]\n",
    "    db2 = np.sum(dZ2,axis =1,keepdims=True)/X.shape[1]\n",
    "    dZ1 = np.dot(parameters[\"weight2\"].T,dZ2)*(1 - np.power(cache[\"A1\"], 2))\n",
    "    dW1 = np.dot(dZ1,X.T)/X.shape[1]\n",
    "    db1 = np.sum(dZ1,axis =1,keepdims=True)/X.shape[1]\n",
    "    grads = {\"dweight1\": dW1,\n",
    "             \"dbias1\": db1,\n",
    "             \"dweight2\": dW2,\n",
    "             \"dbias2\": db2}\n",
    "    return grads"
   ]
  },
  {
   "cell_type": "code",
   "execution_count": 56,
   "id": "5b4d3d77",
   "metadata": {},
   "outputs": [],
   "source": [
    "# update parameters\n",
    "def update_parameters_NN(parameters, grads, learning_rate = 0.01):\n",
    "    parameters = {\"weight1\": parameters[\"weight1\"]-learning_rate*grads[\"dweight1\"],\n",
    "                  \"bias1\": parameters[\"bias1\"]-learning_rate*grads[\"dbias1\"],\n",
    "                  \"weight2\": parameters[\"weight2\"]-learning_rate*grads[\"dweight2\"],\n",
    "                  \"bias2\": parameters[\"bias2\"]-learning_rate*grads[\"dbias2\"]}\n",
    "    return parameters"
   ]
  },
  {
   "cell_type": "code",
   "execution_count": 57,
   "id": "d6834668",
   "metadata": {},
   "outputs": [],
   "source": [
    "# prediction\n",
    "def predict_NN(parameters,x_test):\n",
    "    # x_test is a input for forward propagation\n",
    "    A2, cache = forward_propagation_NN(x_test,parameters)\n",
    "    Y_prediction = np.zeros((1,x_test.shape[1]))\n",
    "    # if z is bigger than 0.5, our prediction is sign one (y_head=1),\n",
    "    # if z is smaller than 0.5, our prediction is sign zero (y_head=0),\n",
    "    for i in range(A2.shape[1]):\n",
    "        if A2[0,i]<= 0.5:\n",
    "            Y_prediction[0,i] = 0\n",
    "        else:\n",
    "            Y_prediction[0,i] = 1\n",
    "    return Y_prediction"
   ]
  },
  {
   "cell_type": "code",
   "execution_count": 58,
   "id": "af2bfa56",
   "metadata": {},
   "outputs": [],
   "source": [
    "# 2 - Layer neural network\n",
    "def two_layer_neural_network(x_train, y_train,x_test,y_test, num_iterations):\n",
    "    cost_list = []\n",
    "    index_list = []\n",
    "    #initialize parameters and layer sizes\n",
    "    parameters = initialize_parameters_and_layer_sizes_NN(x_train, y_train)\n",
    "    for i in range(0, num_iterations):\n",
    "         # forward propagation\n",
    "        A2, cache = forward_propagation_NN(x_train,parameters)\n",
    "        # compute cost\n",
    "        cost = compute_cost_NN(A2, y_train, parameters)\n",
    "         # backward propagation\n",
    "        grads = backward_propagation_NN(parameters, cache, x_train, y_train)\n",
    "         # update parameters\n",
    "        parameters = update_parameters_NN(parameters, grads)\n",
    "        if i % 100 == 0:\n",
    "            cost_list.append(cost)\n",
    "            index_list.append(i)\n",
    "            print (\"Cost after iteration %i: %f\" %(i, cost))\n",
    "    plt.plot(index_list,cost_list)\n",
    "    plt.xticks(index_list,rotation='vertical')\n",
    "    plt.xlabel(\"Number of Iterarion\")\n",
    "    plt.ylabel(\"Cost\")\n",
    "    plt.show()\n",
    "    # predict\n",
    "    y_prediction_test = predict_NN(parameters,x_test)\n",
    "    y_prediction_train = predict_NN(parameters,x_train)\n",
    "    # Print train/test Errors\n",
    "    print(\"train accuracy: {} %\".format(100 - np.mean(np.abs(y_prediction_train - y_train)) * 100))\n",
    "    print(\"test accuracy: {} %\".format(100 - np.mean(np.abs(y_prediction_test - y_test)) * 100))\n",
    "    return parameters\n"
   ]
  },
  {
   "cell_type": "code",
   "execution_count": 59,
   "id": "cc19d04d",
   "metadata": {
    "scrolled": false
   },
   "outputs": [
    {
     "name": "stdout",
     "output_type": "stream",
     "text": [
      "Cost after iteration 0: 0.370034\n",
      "Cost after iteration 100: 0.352342\n",
      "Cost after iteration 200: 0.345830\n",
      "Cost after iteration 300: 0.343414\n",
      "Cost after iteration 400: 0.342509\n",
      "Cost after iteration 500: 0.342163\n",
      "Cost after iteration 600: 0.342024\n",
      "Cost after iteration 700: 0.341960\n",
      "Cost after iteration 800: 0.341923\n",
      "Cost after iteration 900: 0.341891\n",
      "Cost after iteration 1000: 0.341857\n",
      "Cost after iteration 1100: 0.341815\n",
      "Cost after iteration 1200: 0.341785\n",
      "Cost after iteration 1300: 0.341947\n",
      "Cost after iteration 1400: 0.342942\n",
      "Cost after iteration 1500: 0.309423\n",
      "Cost after iteration 1600: 0.277399\n",
      "Cost after iteration 1700: 0.233976\n",
      "Cost after iteration 1800: 0.192498\n",
      "Cost after iteration 1900: 0.158171\n",
      "Cost after iteration 2000: 0.131329\n",
      "Cost after iteration 2100: 0.110428\n",
      "Cost after iteration 2200: 0.093959\n",
      "Cost after iteration 2300: 0.080994\n",
      "Cost after iteration 2400: 0.070816\n"
     ]
    },
    {
     "data": {
      "image/png": "[encoded data removed]",
      "text/plain": [
       "<Figure size 432x288 with 1 Axes>"
      ]
     },
     "metadata": {
      "needs_background": "light"
     },
     "output_type": "display_data"
    },
    {
     "name": "stdout",
     "output_type": "stream",
     "text": [
      "train accuracy: 97.98850574712644 %\n",
      "test accuracy: 98.38709677419355 %\n"
     ]
    }
   ],
   "source": [
    "parameters = two_layer_neural_network(X_train, Y_train,X_test,Y_test, num_iterations=2500)"
   ]
  },
  {
   "cell_type": "code",
   "execution_count": 60,
   "id": "887b7827",
   "metadata": {},
   "outputs": [],
   "source": [
    "X_train, X_test, Y_train, Y_test = X_train.T, X_test.T, Y_train.T, Y_test.T"
   ]
  },
  {
   "cell_type": "code",
   "execution_count": 61,
   "id": "8324c2cd",
   "metadata": {},
   "outputs": [
    {
     "name": "stdout",
     "output_type": "stream",
     "text": [
      "Epoch 1/100\n",
      "Epoch 1/100\n",
      "Epoch 1/100\n",
      "Accuracy mean: nan\n",
      "Accuracy variance: nan\n"
     ]
    },
    {
     "name": "stderr",
     "output_type": "stream",
     "text": [
      "c:\\users\\ad\\appdata\\local\\programs\\python\\python38\\lib\\site-packages\\sklearn\\model_selection\\_validation.py:610: FitFailedWarning: Estimator fit failed. The score on this train-test partition for these parameters will be set to nan. Details: \n",
      "Traceback (most recent call last):\n",
      "  File \"c:\\users\\ad\\appdata\\local\\programs\\python\\python38\\lib\\site-packages\\sklearn\\model_selection\\_validation.py\", line 593, in _fit_and_score\n",
      "    estimator.fit(X_train, y_train, **fit_params)\n",
      "  File \"c:\\users\\ad\\appdata\\local\\programs\\python\\python38\\lib\\site-packages\\tensorflow\\python\\keras\\wrappers\\scikit_learn.py\", line 223, in fit\n",
      "    return super(KerasClassifier, self).fit(x, y, **kwargs)\n",
      "  File \"c:\\users\\ad\\appdata\\local\\programs\\python\\python38\\lib\\site-packages\\tensorflow\\python\\keras\\wrappers\\scikit_learn.py\", line 166, in fit\n",
      "    history = self.model.fit(x, y, **fit_args)\n",
      "  File \"c:\\users\\ad\\appdata\\local\\programs\\python\\python38\\lib\\site-packages\\tensorflow\\python\\keras\\engine\\training.py\", line 1100, in fit\n",
      "    tmp_logs = self.train_function(iterator)\n",
      "  File \"c:\\users\\ad\\appdata\\local\\programs\\python\\python38\\lib\\site-packages\\tensorflow\\python\\eager\\def_function.py\", line 828, in __call__\n",
      "    result = self._call(*args, **kwds)\n",
      "  File \"c:\\users\\ad\\appdata\\local\\programs\\python\\python38\\lib\\site-packages\\tensorflow\\python\\eager\\def_function.py\", line 871, in _call\n",
      "    self._initialize(args, kwds, add_initializers_to=initializers)\n",
      "  File \"c:\\users\\ad\\appdata\\local\\programs\\python\\python38\\lib\\site-packages\\tensorflow\\python\\eager\\def_function.py\", line 725, in _initialize\n",
      "    self._stateful_fn._get_concrete_function_internal_garbage_collected(  # pylint: disable=protected-access\n",
      "  File \"c:\\users\\ad\\appdata\\local\\programs\\python\\python38\\lib\\site-packages\\tensorflow\\python\\eager\\function.py\", line 2969, in _get_concrete_function_internal_garbage_collected\n",
      "    graph_function, _ = self._maybe_define_function(args, kwargs)\n",
      "  File \"c:\\users\\ad\\appdata\\local\\programs\\python\\python38\\lib\\site-packages\\tensorflow\\python\\eager\\function.py\", line 3361, in _maybe_define_function\n",
      "    graph_function = self._create_graph_function(args, kwargs)\n",
      "  File \"c:\\users\\ad\\appdata\\local\\programs\\python\\python38\\lib\\site-packages\\tensorflow\\python\\eager\\function.py\", line 3196, in _create_graph_function\n",
      "    func_graph_module.func_graph_from_py_func(\n",
      "  File \"c:\\users\\ad\\appdata\\local\\programs\\python\\python38\\lib\\site-packages\\tensorflow\\python\\framework\\func_graph.py\", line 990, in func_graph_from_py_func\n",
      "    func_outputs = python_func(*func_args, **func_kwargs)\n",
      "  File \"c:\\users\\ad\\appdata\\local\\programs\\python\\python38\\lib\\site-packages\\tensorflow\\python\\eager\\def_function.py\", line 634, in wrapped_fn\n",
      "    out = weak_wrapped_fn().__wrapped__(*args, **kwds)\n",
      "  File \"c:\\users\\ad\\appdata\\local\\programs\\python\\python38\\lib\\site-packages\\tensorflow\\python\\framework\\func_graph.py\", line 977, in wrapper\n",
      "    raise e.ag_error_metadata.to_exception(e)\n",
      "ValueError: in user code:\n",
      "\n",
      "    c:\\users\\ad\\appdata\\local\\programs\\python\\python38\\lib\\site-packages\\tensorflow\\python\\keras\\engine\\training.py:805 train_function  *\n",
      "        return step_function(self, iterator)\n",
      "    c:\\users\\ad\\appdata\\local\\programs\\python\\python38\\lib\\site-packages\\tensorflow\\python\\keras\\engine\\training.py:795 step_function  **\n",
      "        outputs = model.distribute_strategy.run(run_step, args=(data,))\n",
      "    c:\\users\\ad\\appdata\\local\\programs\\python\\python38\\lib\\site-packages\\tensorflow\\python\\distribute\\distribute_lib.py:1259 run\n",
      "        return self._extended.call_for_each_replica(fn, args=args, kwargs=kwargs)\n",
      "    c:\\users\\ad\\appdata\\local\\programs\\python\\python38\\lib\\site-packages\\tensorflow\\python\\distribute\\distribute_lib.py:2730 call_for_each_replica\n",
      "        return self._call_for_each_replica(fn, args, kwargs)\n",
      "    c:\\users\\ad\\appdata\\local\\programs\\python\\python38\\lib\\site-packages\\tensorflow\\python\\distribute\\distribute_lib.py:3417 _call_for_each_replica\n",
      "        return fn(*args, **kwargs)\n",
      "    c:\\users\\ad\\appdata\\local\\programs\\python\\python38\\lib\\site-packages\\tensorflow\\python\\keras\\engine\\training.py:788 run_step  **\n",
      "        outputs = model.train_step(data)\n",
      "    c:\\users\\ad\\appdata\\local\\programs\\python\\python38\\lib\\site-packages\\tensorflow\\python\\keras\\engine\\training.py:754 train_step\n",
      "        y_pred = self(x, training=True)\n",
      "    c:\\users\\ad\\appdata\\local\\programs\\python\\python38\\lib\\site-packages\\tensorflow\\python\\keras\\engine\\base_layer.py:998 __call__\n",
      "        input_spec.assert_input_compatibility(self.input_spec, inputs, self.name)\n",
      "    c:\\users\\ad\\appdata\\local\\programs\\python\\python38\\lib\\site-packages\\tensorflow\\python\\keras\\engine\\input_spec.py:255 assert_input_compatibility\n",
      "        raise ValueError(\n",
      "\n",
      "    ValueError: Input 0 of layer sequential_3 is incompatible with the layer: expected axis -1 of input shape to have value 784 but received input with shape (None, 4096)\n",
      "\n",
      "\n",
      "  warnings.warn(\"Estimator fit failed. The score on this train-test\"\n",
      "c:\\users\\ad\\appdata\\local\\programs\\python\\python38\\lib\\site-packages\\sklearn\\model_selection\\_validation.py:610: FitFailedWarning: Estimator fit failed. The score on this train-test partition for these parameters will be set to nan. Details: \n",
      "Traceback (most recent call last):\n",
      "  File \"c:\\users\\ad\\appdata\\local\\programs\\python\\python38\\lib\\site-packages\\sklearn\\model_selection\\_validation.py\", line 593, in _fit_and_score\n",
      "    estimator.fit(X_train, y_train, **fit_params)\n",
      "  File \"c:\\users\\ad\\appdata\\local\\programs\\python\\python38\\lib\\site-packages\\tensorflow\\python\\keras\\wrappers\\scikit_learn.py\", line 223, in fit\n",
      "    return super(KerasClassifier, self).fit(x, y, **kwargs)\n",
      "  File \"c:\\users\\ad\\appdata\\local\\programs\\python\\python38\\lib\\site-packages\\tensorflow\\python\\keras\\wrappers\\scikit_learn.py\", line 166, in fit\n",
      "    history = self.model.fit(x, y, **fit_args)\n",
      "  File \"c:\\users\\ad\\appdata\\local\\programs\\python\\python38\\lib\\site-packages\\tensorflow\\python\\keras\\engine\\training.py\", line 1100, in fit\n",
      "    tmp_logs = self.train_function(iterator)\n",
      "  File \"c:\\users\\ad\\appdata\\local\\programs\\python\\python38\\lib\\site-packages\\tensorflow\\python\\eager\\def_function.py\", line 828, in __call__\n",
      "    result = self._call(*args, **kwds)\n",
      "  File \"c:\\users\\ad\\appdata\\local\\programs\\python\\python38\\lib\\site-packages\\tensorflow\\python\\eager\\def_function.py\", line 871, in _call\n",
      "    self._initialize(args, kwds, add_initializers_to=initializers)\n",
      "  File \"c:\\users\\ad\\appdata\\local\\programs\\python\\python38\\lib\\site-packages\\tensorflow\\python\\eager\\def_function.py\", line 725, in _initialize\n",
      "    self._stateful_fn._get_concrete_function_internal_garbage_collected(  # pylint: disable=protected-access\n",
      "  File \"c:\\users\\ad\\appdata\\local\\programs\\python\\python38\\lib\\site-packages\\tensorflow\\python\\eager\\function.py\", line 2969, in _get_concrete_function_internal_garbage_collected\n",
      "    graph_function, _ = self._maybe_define_function(args, kwargs)\n",
      "  File \"c:\\users\\ad\\appdata\\local\\programs\\python\\python38\\lib\\site-packages\\tensorflow\\python\\eager\\function.py\", line 3361, in _maybe_define_function\n",
      "    graph_function = self._create_graph_function(args, kwargs)\n",
      "  File \"c:\\users\\ad\\appdata\\local\\programs\\python\\python38\\lib\\site-packages\\tensorflow\\python\\eager\\function.py\", line 3196, in _create_graph_function\n",
      "    func_graph_module.func_graph_from_py_func(\n",
      "  File \"c:\\users\\ad\\appdata\\local\\programs\\python\\python38\\lib\\site-packages\\tensorflow\\python\\framework\\func_graph.py\", line 990, in func_graph_from_py_func\n",
      "    func_outputs = python_func(*func_args, **func_kwargs)\n",
      "  File \"c:\\users\\ad\\appdata\\local\\programs\\python\\python38\\lib\\site-packages\\tensorflow\\python\\eager\\def_function.py\", line 634, in wrapped_fn\n",
      "    out = weak_wrapped_fn().__wrapped__(*args, **kwds)\n",
      "  File \"c:\\users\\ad\\appdata\\local\\programs\\python\\python38\\lib\\site-packages\\tensorflow\\python\\framework\\func_graph.py\", line 977, in wrapper\n",
      "    raise e.ag_error_metadata.to_exception(e)\n",
      "ValueError: in user code:\n",
      "\n",
      "    c:\\users\\ad\\appdata\\local\\programs\\python\\python38\\lib\\site-packages\\tensorflow\\python\\keras\\engine\\training.py:805 train_function  *\n",
      "        return step_function(self, iterator)\n",
      "    c:\\users\\ad\\appdata\\local\\programs\\python\\python38\\lib\\site-packages\\tensorflow\\python\\keras\\engine\\training.py:795 step_function  **\n",
      "        outputs = model.distribute_strategy.run(run_step, args=(data,))\n",
      "    c:\\users\\ad\\appdata\\local\\programs\\python\\python38\\lib\\site-packages\\tensorflow\\python\\distribute\\distribute_lib.py:1259 run\n",
      "        return self._extended.call_for_each_replica(fn, args=args, kwargs=kwargs)\n",
      "    c:\\users\\ad\\appdata\\local\\programs\\python\\python38\\lib\\site-packages\\tensorflow\\python\\distribute\\distribute_lib.py:2730 call_for_each_replica\n",
      "        return self._call_for_each_replica(fn, args, kwargs)\n",
      "    c:\\users\\ad\\appdata\\local\\programs\\python\\python38\\lib\\site-packages\\tensorflow\\python\\distribute\\distribute_lib.py:3417 _call_for_each_replica\n",
      "        return fn(*args, **kwargs)\n",
      "    c:\\users\\ad\\appdata\\local\\programs\\python\\python38\\lib\\site-packages\\tensorflow\\python\\keras\\engine\\training.py:788 run_step  **\n",
      "        outputs = model.train_step(data)\n",
      "    c:\\users\\ad\\appdata\\local\\programs\\python\\python38\\lib\\site-packages\\tensorflow\\python\\keras\\engine\\training.py:754 train_step\n",
      "        y_pred = self(x, training=True)\n",
      "    c:\\users\\ad\\appdata\\local\\programs\\python\\python38\\lib\\site-packages\\tensorflow\\python\\keras\\engine\\base_layer.py:998 __call__\n",
      "        input_spec.assert_input_compatibility(self.input_spec, inputs, self.name)\n",
      "    c:\\users\\ad\\appdata\\local\\programs\\python\\python38\\lib\\site-packages\\tensorflow\\python\\keras\\engine\\input_spec.py:255 assert_input_compatibility\n",
      "        raise ValueError(\n",
      "\n",
      "    ValueError: Input 0 of layer sequential_4 is incompatible with the layer: expected axis -1 of input shape to have value 784 but received input with shape (None, 4096)\n",
      "\n",
      "\n",
      "  warnings.warn(\"Estimator fit failed. The score on this train-test\"\n",
      "c:\\users\\ad\\appdata\\local\\programs\\python\\python38\\lib\\site-packages\\sklearn\\model_selection\\_validation.py:610: FitFailedWarning: Estimator fit failed. The score on this train-test partition for these parameters will be set to nan. Details: \n",
      "Traceback (most recent call last):\n",
      "  File \"c:\\users\\ad\\appdata\\local\\programs\\python\\python38\\lib\\site-packages\\sklearn\\model_selection\\_validation.py\", line 593, in _fit_and_score\n",
      "    estimator.fit(X_train, y_train, **fit_params)\n",
      "  File \"c:\\users\\ad\\appdata\\local\\programs\\python\\python38\\lib\\site-packages\\tensorflow\\python\\keras\\wrappers\\scikit_learn.py\", line 223, in fit\n",
      "    return super(KerasClassifier, self).fit(x, y, **kwargs)\n",
      "  File \"c:\\users\\ad\\appdata\\local\\programs\\python\\python38\\lib\\site-packages\\tensorflow\\python\\keras\\wrappers\\scikit_learn.py\", line 166, in fit\n",
      "    history = self.model.fit(x, y, **fit_args)\n",
      "  File \"c:\\users\\ad\\appdata\\local\\programs\\python\\python38\\lib\\site-packages\\tensorflow\\python\\keras\\engine\\training.py\", line 1100, in fit\n",
      "    tmp_logs = self.train_function(iterator)\n",
      "  File \"c:\\users\\ad\\appdata\\local\\programs\\python\\python38\\lib\\site-packages\\tensorflow\\python\\eager\\def_function.py\", line 828, in __call__\n",
      "    result = self._call(*args, **kwds)\n",
      "  File \"c:\\users\\ad\\appdata\\local\\programs\\python\\python38\\lib\\site-packages\\tensorflow\\python\\eager\\def_function.py\", line 871, in _call\n",
      "    self._initialize(args, kwds, add_initializers_to=initializers)\n",
      "  File \"c:\\users\\ad\\appdata\\local\\programs\\python\\python38\\lib\\site-packages\\tensorflow\\python\\eager\\def_function.py\", line 725, in _initialize\n",
      "    self._stateful_fn._get_concrete_function_internal_garbage_collected(  # pylint: disable=protected-access\n",
      "  File \"c:\\users\\ad\\appdata\\local\\programs\\python\\python38\\lib\\site-packages\\tensorflow\\python\\eager\\function.py\", line 2969, in _get_concrete_function_internal_garbage_collected\n",
      "    graph_function, _ = self._maybe_define_function(args, kwargs)\n",
      "  File \"c:\\users\\ad\\appdata\\local\\programs\\python\\python38\\lib\\site-packages\\tensorflow\\python\\eager\\function.py\", line 3361, in _maybe_define_function\n",
      "    graph_function = self._create_graph_function(args, kwargs)\n",
      "  File \"c:\\users\\ad\\appdata\\local\\programs\\python\\python38\\lib\\site-packages\\tensorflow\\python\\eager\\function.py\", line 3196, in _create_graph_function\n",
      "    func_graph_module.func_graph_from_py_func(\n",
      "  File \"c:\\users\\ad\\appdata\\local\\programs\\python\\python38\\lib\\site-packages\\tensorflow\\python\\framework\\func_graph.py\", line 990, in func_graph_from_py_func\n",
      "    func_outputs = python_func(*func_args, **func_kwargs)\n",
      "  File \"c:\\users\\ad\\appdata\\local\\programs\\python\\python38\\lib\\site-packages\\tensorflow\\python\\eager\\def_function.py\", line 634, in wrapped_fn\n",
      "    out = weak_wrapped_fn().__wrapped__(*args, **kwds)\n",
      "  File \"c:\\users\\ad\\appdata\\local\\programs\\python\\python38\\lib\\site-packages\\tensorflow\\python\\framework\\func_graph.py\", line 977, in wrapper\n",
      "    raise e.ag_error_metadata.to_exception(e)\n",
      "ValueError: in user code:\n",
      "\n",
      "    c:\\users\\ad\\appdata\\local\\programs\\python\\python38\\lib\\site-packages\\tensorflow\\python\\keras\\engine\\training.py:805 train_function  *\n",
      "        return step_function(self, iterator)\n",
      "    c:\\users\\ad\\appdata\\local\\programs\\python\\python38\\lib\\site-packages\\tensorflow\\python\\keras\\engine\\training.py:795 step_function  **\n",
      "        outputs = model.distribute_strategy.run(run_step, args=(data,))\n",
      "    c:\\users\\ad\\appdata\\local\\programs\\python\\python38\\lib\\site-packages\\tensorflow\\python\\distribute\\distribute_lib.py:1259 run\n",
      "        return self._extended.call_for_each_replica(fn, args=args, kwargs=kwargs)\n",
      "    c:\\users\\ad\\appdata\\local\\programs\\python\\python38\\lib\\site-packages\\tensorflow\\python\\distribute\\distribute_lib.py:2730 call_for_each_replica\n",
      "        return self._call_for_each_replica(fn, args, kwargs)\n",
      "    c:\\users\\ad\\appdata\\local\\programs\\python\\python38\\lib\\site-packages\\tensorflow\\python\\distribute\\distribute_lib.py:3417 _call_for_each_replica\n",
      "        return fn(*args, **kwargs)\n",
      "    c:\\users\\ad\\appdata\\local\\programs\\python\\python38\\lib\\site-packages\\tensorflow\\python\\keras\\engine\\training.py:788 run_step  **\n",
      "        outputs = model.train_step(data)\n",
      "    c:\\users\\ad\\appdata\\local\\programs\\python\\python38\\lib\\site-packages\\tensorflow\\python\\keras\\engine\\training.py:754 train_step\n",
      "        y_pred = self(x, training=True)\n",
      "    c:\\users\\ad\\appdata\\local\\programs\\python\\python38\\lib\\site-packages\\tensorflow\\python\\keras\\engine\\base_layer.py:998 __call__\n",
      "        input_spec.assert_input_compatibility(self.input_spec, inputs, self.name)\n",
      "    c:\\users\\ad\\appdata\\local\\programs\\python\\python38\\lib\\site-packages\\tensorflow\\python\\keras\\engine\\input_spec.py:255 assert_input_compatibility\n",
      "        raise ValueError(\n",
      "\n",
      "    ValueError: Input 0 of layer sequential_5 is incompatible with the layer: expected axis -1 of input shape to have value 784 but received input with shape (None, 4096)\n",
      "\n",
      "\n",
      "  warnings.warn(\"Estimator fit failed. The score on this train-test\"\n"
     ]
    }
   ],
   "source": [
    "# Evaluating the ANN\n",
    "from tensorflow.keras.wrappers.scikit_learn import KerasClassifier\n",
    "from sklearn.model_selection import cross_val_score\n",
    "from tensorflow.keras.models import Sequential # initialize neural network library\n",
    "from tensorflow.keras.layers import Dense # build our layers library\n",
    "def build_classifier():\n",
    "    classifier = Sequential() # initialize neural network\n",
    "    classifier.add(Dense(units = 8, kernel_initializer = 'uniform', activation = 'relu', input_dim = x_train.shape[1]))\n",
    "    classifier.add(Dense(units = 4, kernel_initializer = 'uniform', activation = 'relu'))\n",
    "    classifier.add(Dense(units = 1, kernel_initializer = 'uniform', activation = 'sigmoid'))\n",
    "    classifier.compile(optimizer = 'adam', loss = 'binary_crossentropy', metrics = ['accuracy'])\n",
    "    return classifier\n",
    "classifier = KerasClassifier(build_fn = build_classifier, epochs = 100)\n",
    "accuracies = cross_val_score(estimator = classifier, X = X_train, y = Y_train, cv = 3)\n",
    "mean = accuracies.mean()\n",
    "variance = accuracies.std()\n",
    "print(\"Accuracy mean: \"+ str(mean))\n",
    "print(\"Accuracy variance: \"+ str(variance))"
   ]
  },
  {
   "cell_type": "code",
   "execution_count": null,
   "id": "20a14d5c",
   "metadata": {},
   "outputs": [],
   "source": []
  }
 ],
 "metadata": {
  "kernelspec": {
   "display_name": "Python 3",
   "language": "python",
   "name": "python3"
  },
  "language_info": {
   "codemirror_mode": {
    "name": "ipython",
    "version": 3
   },
   "file_extension": ".py",
   "mimetype": "text/x-python",
   "name": "python",
   "nbconvert_exporter": "python",
   "pygments_lexer": "ipython3",
   "version": "3.8.9"
  }
 },
 "nbformat": 4,
 "nbformat_minor": 5
}
