{
 "cells": [
  {
   "cell_type": "markdown",
   "id": "1f0a3f93",
   "metadata": {},
   "source": [
    "# 텐서플로우를 이용한 딥러닝 큰틀"
   ]
  },
  {
   "cell_type": "code",
   "execution_count": 11,
   "id": "4bb81ea6",
   "metadata": {},
   "outputs": [
    {
     "name": "stdout",
     "output_type": "stream",
     "text": [
      "Epoch 1/100\n",
      "47/47 [==============================] - 0s 543us/step - loss: 0.8781 - accuracy: 0.7774\n",
      "Epoch 2/100\n",
      "47/47 [==============================] - 0s 412us/step - loss: 0.4637 - accuracy: 0.8707\n",
      "Epoch 3/100\n",
      "47/47 [==============================] - 0s 443us/step - loss: 0.4652 - accuracy: 0.8347\n",
      "Epoch 4/100\n",
      "47/47 [==============================] - 0s 406us/step - loss: 0.5176 - accuracy: 0.8405\n",
      "Epoch 5/100\n",
      "47/47 [==============================] - 0s 434us/step - loss: 0.4461 - accuracy: 0.8570\n",
      "Epoch 6/100\n",
      "47/47 [==============================] - 0s 464us/step - loss: 0.4391 - accuracy: 0.8523\n",
      "Epoch 7/100\n",
      "47/47 [==============================] - 0s 455us/step - loss: 0.4616 - accuracy: 0.8443\n",
      "Epoch 8/100\n",
      "47/47 [==============================] - 0s 432us/step - loss: 0.4523 - accuracy: 0.8447\n",
      "Epoch 9/100\n",
      "47/47 [==============================] - 0s 417us/step - loss: 0.3877 - accuracy: 0.8618\n",
      "Epoch 10/100\n",
      "47/47 [==============================] - 0s 457us/step - loss: 0.3944 - accuracy: 0.8697\n",
      "Epoch 11/100\n",
      "47/47 [==============================] - 0s 481us/step - loss: 0.4379 - accuracy: 0.8480\n",
      "Epoch 12/100\n",
      "47/47 [==============================] - 0s 461us/step - loss: 0.4470 - accuracy: 0.8449\n",
      "Epoch 13/100\n",
      "47/47 [==============================] - 0s 445us/step - loss: 0.4789 - accuracy: 0.8302\n",
      "Epoch 14/100\n",
      "47/47 [==============================] - 0s 458us/step - loss: 0.4402 - accuracy: 0.8438\n",
      "Epoch 15/100\n",
      "47/47 [==============================] - 0s 434us/step - loss: 0.4928 - accuracy: 0.8220\n",
      "Epoch 16/100\n",
      "47/47 [==============================] - 0s 455us/step - loss: 0.4119 - accuracy: 0.8534\n",
      "Epoch 17/100\n",
      "47/47 [==============================] - 0s 431us/step - loss: 0.4383 - accuracy: 0.8564\n",
      "Epoch 18/100\n",
      "47/47 [==============================] - 0s 455us/step - loss: 0.4807 - accuracy: 0.8556\n",
      "Epoch 19/100\n",
      "47/47 [==============================] - 0s 445us/step - loss: 0.4253 - accuracy: 0.8459\n",
      "Epoch 20/100\n",
      "47/47 [==============================] - 0s 414us/step - loss: 0.4403 - accuracy: 0.8561\n",
      "Epoch 21/100\n",
      "47/47 [==============================] - 0s 434us/step - loss: 0.4191 - accuracy: 0.8513\n",
      "Epoch 22/100\n",
      "47/47 [==============================] - 0s 455us/step - loss: 0.4100 - accuracy: 0.8554\n",
      "Epoch 23/100\n",
      "47/47 [==============================] - 0s 455us/step - loss: 0.4205 - accuracy: 0.8538\n",
      "Epoch 24/100\n",
      "47/47 [==============================] - 0s 430us/step - loss: 0.4226 - accuracy: 0.8471\n",
      "Epoch 25/100\n",
      "47/47 [==============================] - 0s 434us/step - loss: 0.4349 - accuracy: 0.8394\n",
      "Epoch 26/100\n",
      "47/47 [==============================] - 0s 433us/step - loss: 0.4526 - accuracy: 0.8552\n",
      "Epoch 27/100\n",
      "47/47 [==============================] - 0s 454us/step - loss: 0.4590 - accuracy: 0.8312\n",
      "Epoch 28/100\n",
      "47/47 [==============================] - 0s 412us/step - loss: 0.4469 - accuracy: 0.8461\n",
      "Epoch 29/100\n",
      "47/47 [==============================] - 0s 455us/step - loss: 0.3775 - accuracy: 0.8803\n",
      "Epoch 30/100\n",
      "47/47 [==============================] - 0s 417us/step - loss: 0.3581 - accuracy: 0.8892\n",
      "Epoch 31/100\n",
      "47/47 [==============================] - 0s 416us/step - loss: 0.4157 - accuracy: 0.8745\n",
      "Epoch 32/100\n",
      "47/47 [==============================] - 0s 455us/step - loss: 0.4037 - accuracy: 0.8639\n",
      "Epoch 33/100\n",
      "47/47 [==============================] - 0s 455us/step - loss: 0.4367 - accuracy: 0.8560\n",
      "Epoch 34/100\n",
      "47/47 [==============================] - 0s 446us/step - loss: 0.3961 - accuracy: 0.8582\n",
      "Epoch 35/100\n",
      "47/47 [==============================] - 0s 445us/step - loss: 0.4047 - accuracy: 0.8514\n",
      "Epoch 36/100\n",
      "47/47 [==============================] - 0s 455us/step - loss: 0.4423 - accuracy: 0.8340\n",
      "Epoch 37/100\n",
      "47/47 [==============================] - 0s 433us/step - loss: 0.4449 - accuracy: 0.8519\n",
      "Epoch 38/100\n",
      "47/47 [==============================] - 0s 412us/step - loss: 0.4314 - accuracy: 0.8452\n",
      "Epoch 39/100\n",
      "47/47 [==============================] - 0s 420us/step - loss: 0.4797 - accuracy: 0.8291\n",
      "Epoch 40/100\n",
      "47/47 [==============================] - 0s 434us/step - loss: 0.4177 - accuracy: 0.8508\n",
      "Epoch 41/100\n",
      "47/47 [==============================] - 0s 444us/step - loss: 0.4472 - accuracy: 0.8508\n",
      "Epoch 42/100\n",
      "47/47 [==============================] - 0s 451us/step - loss: 0.4340 - accuracy: 0.8517\n",
      "Epoch 43/100\n",
      "47/47 [==============================] - 0s 390us/step - loss: 0.3614 - accuracy: 0.8727\n",
      "Epoch 44/100\n",
      "47/47 [==============================] - 0s 390us/step - loss: 0.3523 - accuracy: 0.8783\n",
      "Epoch 45/100\n",
      "47/47 [==============================] - 0s 434us/step - loss: 0.3800 - accuracy: 0.8555\n",
      "Epoch 46/100\n",
      "47/47 [==============================] - 0s 453us/step - loss: 0.4116 - accuracy: 0.8546\n",
      "Epoch 47/100\n",
      "47/47 [==============================] - 0s 434us/step - loss: 0.3496 - accuracy: 0.8812\n",
      "Epoch 48/100\n",
      "47/47 [==============================] - 0s 421us/step - loss: 0.3902 - accuracy: 0.8645\n",
      "Epoch 49/100\n",
      "47/47 [==============================] - 0s 428us/step - loss: 0.4169 - accuracy: 0.8361\n",
      "Epoch 50/100\n",
      "47/47 [==============================] - 0s 434us/step - loss: 0.3604 - accuracy: 0.8783\n",
      "Epoch 51/100\n",
      "47/47 [==============================] - 0s 433us/step - loss: 0.4260 - accuracy: 0.8457\n",
      "Epoch 52/100\n",
      "47/47 [==============================] - 0s 520us/step - loss: 0.4176 - accuracy: 0.8520\n",
      "Epoch 53/100\n",
      "47/47 [==============================] - 0s 476us/step - loss: 0.4213 - accuracy: 0.8481\n",
      "Epoch 54/100\n",
      "47/47 [==============================] - 0s 452us/step - loss: 0.4200 - accuracy: 0.8348\n",
      "Epoch 55/100\n",
      "47/47 [==============================] - 0s 390us/step - loss: 0.4092 - accuracy: 0.8632\n",
      "Epoch 56/100\n",
      "47/47 [==============================] - 0s 412us/step - loss: 0.3982 - accuracy: 0.8476\n",
      "Epoch 57/100\n",
      "47/47 [==============================] - 0s 455us/step - loss: 0.4001 - accuracy: 0.8525\n",
      "Epoch 58/100\n",
      "47/47 [==============================] - 0s 460us/step - loss: 0.3528 - accuracy: 0.8703\n",
      "Epoch 59/100\n",
      "47/47 [==============================] - 0s 420us/step - loss: 0.4201 - accuracy: 0.8475\n",
      "Epoch 60/100\n",
      "47/47 [==============================] - 0s 429us/step - loss: 0.3578 - accuracy: 0.8774\n",
      "Epoch 61/100\n",
      "47/47 [==============================] - 0s 434us/step - loss: 0.3907 - accuracy: 0.8725\n",
      "Epoch 62/100\n",
      "47/47 [==============================] - 0s 434us/step - loss: 0.4215 - accuracy: 0.8389\n",
      "Epoch 63/100\n",
      "47/47 [==============================] - 0s 455us/step - loss: 0.3711 - accuracy: 0.8686\n",
      "Epoch 64/100\n",
      "47/47 [==============================] - 0s 434us/step - loss: 0.4243 - accuracy: 0.8525\n",
      "Epoch 65/100\n",
      "47/47 [==============================] - 0s 433us/step - loss: 0.3775 - accuracy: 0.8639\n",
      "Epoch 66/100\n",
      "47/47 [==============================] - 0s 434us/step - loss: 0.4256 - accuracy: 0.8517\n",
      "Epoch 67/100\n",
      "47/47 [==============================] - 0s 412us/step - loss: 0.3803 - accuracy: 0.8612\n",
      "Epoch 68/100\n",
      "47/47 [==============================] - ETA: 0s - loss: 0.3396 - accuracy: 0.90 - 0s 424us/step - loss: 0.4071 - accuracy: 0.8624\n",
      "Epoch 69/100\n",
      "47/47 [==============================] - 0s 434us/step - loss: 0.4336 - accuracy: 0.8197\n",
      "Epoch 70/100\n",
      "47/47 [==============================] - 0s 412us/step - loss: 0.4068 - accuracy: 0.8519\n",
      "Epoch 71/100\n",
      "47/47 [==============================] - 0s 427us/step - loss: 0.4412 - accuracy: 0.8194\n",
      "Epoch 72/100\n",
      "47/47 [==============================] - 0s 433us/step - loss: 0.3777 - accuracy: 0.8554\n",
      "Epoch 73/100\n",
      "47/47 [==============================] - 0s 412us/step - loss: 0.4042 - accuracy: 0.8489\n",
      "Epoch 74/100\n",
      "47/47 [==============================] - 0s 458us/step - loss: 0.3783 - accuracy: 0.8595\n",
      "Epoch 75/100\n",
      "47/47 [==============================] - 0s 437us/step - loss: 0.3516 - accuracy: 0.8812\n",
      "Epoch 76/100\n",
      "47/47 [==============================] - 0s 444us/step - loss: 0.3733 - accuracy: 0.8629\n",
      "Epoch 77/100\n",
      "47/47 [==============================] - 0s 444us/step - loss: 0.4473 - accuracy: 0.8247\n",
      "Epoch 78/100\n",
      "47/47 [==============================] - 0s 459us/step - loss: 0.3992 - accuracy: 0.8696\n",
      "Epoch 79/100\n",
      "47/47 [==============================] - 0s 438us/step - loss: 0.4184 - accuracy: 0.8299\n",
      "Epoch 80/100\n",
      "47/47 [==============================] - 0s 455us/step - loss: 0.4250 - accuracy: 0.8335\n"
     ]
    },
    {
     "name": "stdout",
     "output_type": "stream",
     "text": [
      "Epoch 81/100\n",
      "47/47 [==============================] - 0s 471us/step - loss: 0.3712 - accuracy: 0.8793\n",
      "Epoch 82/100\n",
      "47/47 [==============================] - 0s 434us/step - loss: 0.4214 - accuracy: 0.8487\n",
      "Epoch 83/100\n",
      "47/47 [==============================] - 0s 417us/step - loss: 0.4450 - accuracy: 0.8381\n",
      "Epoch 84/100\n",
      "47/47 [==============================] - 0s 434us/step - loss: 0.3537 - accuracy: 0.8840\n",
      "Epoch 85/100\n",
      "47/47 [==============================] - 0s 411us/step - loss: 0.3822 - accuracy: 0.8617\n",
      "Epoch 86/100\n",
      "47/47 [==============================] - 0s 434us/step - loss: 0.3410 - accuracy: 0.8688\n",
      "Epoch 87/100\n",
      "47/47 [==============================] - 0s 412us/step - loss: 0.3933 - accuracy: 0.8567\n",
      "Epoch 88/100\n",
      "47/47 [==============================] - 0s 412us/step - loss: 0.3747 - accuracy: 0.8538\n",
      "Epoch 89/100\n",
      "47/47 [==============================] - 0s 434us/step - loss: 0.3942 - accuracy: 0.8320\n",
      "Epoch 90/100\n",
      "47/47 [==============================] - 0s 423us/step - loss: 0.3722 - accuracy: 0.8768\n",
      "Epoch 91/100\n",
      "47/47 [==============================] - 0s 433us/step - loss: 0.4208 - accuracy: 0.8516\n",
      "Epoch 92/100\n",
      "47/47 [==============================] - 0s 433us/step - loss: 0.4239 - accuracy: 0.8407\n",
      "Epoch 93/100\n",
      "47/47 [==============================] - 0s 433us/step - loss: 0.4079 - accuracy: 0.8362\n",
      "Epoch 94/100\n",
      "47/47 [==============================] - 0s 434us/step - loss: 0.3913 - accuracy: 0.8367\n",
      "Epoch 95/100\n",
      "47/47 [==============================] - 0s 434us/step - loss: 0.4023 - accuracy: 0.8584\n",
      "Epoch 96/100\n",
      "47/47 [==============================] - 0s 412us/step - loss: 0.4342 - accuracy: 0.8596\n",
      "Epoch 97/100\n",
      "47/47 [==============================] - 0s 412us/step - loss: 0.4469 - accuracy: 0.8137\n",
      "Epoch 98/100\n",
      "47/47 [==============================] - 0s 433us/step - loss: 0.3893 - accuracy: 0.8690\n",
      "Epoch 99/100\n",
      "47/47 [==============================] - 0s 412us/step - loss: 0.3737 - accuracy: 0.8620\n",
      "Epoch 100/100\n",
      "47/47 [==============================] - 0s 393us/step - loss: 0.3956 - accuracy: 0.8330\n"
     ]
    },
    {
     "data": {
      "text/plain": [
       "<tensorflow.python.keras.callbacks.History at 0x1bee43f8fa0>"
      ]
     },
     "execution_count": 11,
     "metadata": {},
     "output_type": "execute_result"
    }
   ],
   "source": [
    "# 딥러닝을 구동하는데 필요한 케라스 함수를 불러옵니다\n",
    "from tensorflow.keras.models import Sequential\n",
    "from tensorflow.keras.layers import Dense\n",
    "\n",
    "#필요한 라이브러릴를 불러옵니다.\n",
    "import numpy as np \n",
    "import tensorflow as tf\n",
    "\n",
    "#실행할 때마다 같은 결과를 출력하기 위해 설정하는 부분입니다.\n",
    "np.random.seed(3)\n",
    "tf.random.set_seed(3)\n",
    "\n",
    "#준비된 수술환자데이터를 불러들입니다.\n",
    "Data_set = np.loadtxt(\"data/ThoraricSurgery.csv\",delimiter=\",\")\n",
    "Data_set.shape\n",
    "\n",
    "# 환자의 기록과 수술 결과를 X와 Y로 구분하여 저장합니다.\n",
    "X = Data_set[:,0:17]\n",
    "Y = Data_set[:, 17]\n",
    "\n",
    "# 딥러닝 구조를 결정합니다(모델을 설정하고 실행하는 부분입니다.)\n",
    "model = Sequential() # -> 하나의 신경망을 만든것임\n",
    "model.add(Dense(30, input_dim=17, activation='relu')) # 30개의 신경망층 을 만들어라 relu는 처리함수\n",
    "model.add(Dense(1, activation='sigmoid'))# 역전파 어케 할꺼냐\n",
    "\n",
    "#딥러닝을 실행합니다\n",
    "model.compile(loss='binary_crossentropy', optimizer='adam', metrics=['accuracy'])\n",
    "model.fit(X,Y, epochs=100, batch_size=10 )"
   ]
  },
  {
   "cell_type": "markdown",
   "id": "e0dea5e2",
   "metadata": {},
   "source": [
    "## 신경망을 이용한 선형회귀 그래프 그려보기"
   ]
  },
  {
   "cell_type": "code",
   "execution_count": 74,
   "id": "5bf6a0c9",
   "metadata": {},
   "outputs": [
    {
     "name": "stdout",
     "output_type": "stream",
     "text": [
      "[3.95822259 3.87608526 3.91458257 4.24421159 4.18596845 3.82160724\n",
      " 3.81167253 4.02775894 4.22633792 4.23530375 3.33887717 4.38358176\n",
      " 4.32818891 4.56572609 4.63917203 4.49385251 4.35571194 4.50051137\n",
      " 4.56286555 4.73927304 4.51881771 4.49665531 4.61500693 4.45096037\n",
      " 4.58962476 4.41133742 4.33022241 4.37626006 4.34412492 4.21764702\n",
      " 4.72426648 4.72950168 4.37946069 4.26616611 4.73007825 4.67674605\n",
      " 4.76065589 5.12982627 4.78822816 4.67159188 4.43776025 5.50270578\n",
      " 4.50962612 5.53042943 5.48166365 4.66774274 5.0669821  4.68043701\n",
      " 4.6427241  4.98062582 4.76504309 4.6315681  5.26329927 4.95932223\n",
      " 5.45979536 4.97482304 5.18127497 4.77353761 5.13610396 5.31208941\n",
      " 5.62930662 5.29916212 5.18396321 5.18080215 4.72971098 5.56589371\n",
      " 5.40102347 5.57998108 4.8007764  5.65241373 5.6341834  5.42217575\n",
      " 5.15304638 5.95683597 5.79064568 5.28984644 5.08607644 5.56397764\n",
      " 5.43899537 5.68327525 5.19634158 5.64023707 5.70384607 5.79799839\n",
      " 5.14019592 5.8721654  6.05034378 5.9617533  5.78934458 5.9498031\n",
      " 5.92781747 6.44283877 5.75617947 5.84498209 5.8591266  5.96947532\n",
      " 5.40850772 5.78374064 5.80399541 6.46264094 5.88893119 6.60840025\n",
      " 6.60535784 5.96305053 6.07284056 6.97627636 5.2313297  5.87106935\n",
      " 5.74935203 5.63836855 5.80121354 6.08754445 6.88730978 6.46035203\n",
      " 6.15641723 6.31687687 6.00974618 6.66537986 6.25686232 6.91257324\n",
      " 6.31888861 6.08489355 6.09473828 6.82384258 6.71479163 6.83435548\n",
      " 6.90580503 6.55557278 6.95254941 6.79638822 6.78926566 6.534672\n",
      " 6.69749242 6.2026395  6.60601496 6.94336734 6.73247212 6.49155046\n",
      " 6.58347898 7.46502594 7.12003467 7.10143186 6.72736726 7.03114819\n",
      " 6.75635127 6.78198369 6.79469037 6.44286027 7.31330334 6.56284385\n",
      " 7.50067496 7.20936186 7.16056001 6.85851123 7.25843496 6.63195537\n",
      " 7.37483058 7.08939075 7.64621374 7.16359675 7.55822814 7.26830893\n",
      " 7.35147044 7.21627161 7.26369288 7.23194852 7.10202754 7.76589977\n",
      " 8.12155411 7.17924643 7.75859356 7.02349236 6.95306634 7.4563719\n",
      " 7.97495732 7.52729608 7.65771832 7.30789828 6.94102759 8.10948828\n",
      " 7.53282069 7.86291877 7.73390404 7.5936651  7.6515473  7.45313846\n",
      " 8.00040181 7.56512705 7.81225429 8.04728127 7.6512305  8.05556727\n",
      " 8.06989878 7.52032935 7.67389019 7.75356712 8.22030691 7.73038262\n",
      " 8.04923844 7.4384995 ]\n"
     ]
    },
    {
     "data": {
      "image/png": "[encoded data removed]",
      "text/plain": [
       "<Figure size 432x288 with 1 Axes>"
      ]
     },
     "metadata": {
      "needs_background": "light"
     },
     "output_type": "display_data"
    },
    {
     "name": "stdout",
     "output_type": "stream",
     "text": [
      "200/200 [==============================] - 0s 364us/step - loss: 0.0963 - mse: 0.0963\n",
      "msc [0.09629979729652405, 0.09629979729652405]\n"
     ]
    }
   ],
   "source": [
    "# 딥러닝을 구동하는데 필요한 케라스 함수를 불러옵니다\n",
    "from tensorflow.keras.models import Sequential # 신경망 만드는 함수\n",
    "from tensorflow.keras.layers import Dense\n",
    "\n",
    "#필요한 라이브러릴를 불러옵니다.\n",
    "import numpy as np \n",
    "import tensorflow as tf\n",
    "\n",
    "from matplotlib import pyplot as plt\n",
    "\n",
    "#실행할 때마다 같은 결과를 출력하기 위해 설정하는 부분입니다.\n",
    "X = data = np.linspace(1,2,200) # linespace 는 1차원 함수만드는 코드임 1에서 2사이의 200개의 수 순차순으로 만들어라 \n",
    "# print(X.shape)\n",
    "# print(X)\n",
    "Y = X*4 + np.random.randn(200) * 0.3 # x를 4배로 하고 편차 0.3정도의 가우시안 잡음 추가\n",
    "print(Y)\n",
    "\n",
    "\n",
    "# 딥러닝 구조를 결정합니다(모델을 설정하고 실행하는 부분입니다.)\n",
    "model = Sequential()\n",
    "model.add(Dense(1,input_dim=1, activation='linear')) #맨앞 숫자는 추력 뉴런의 수 input_dim 입력 뉴런의 수\n",
    "\n",
    "#딥러닝을 실행합니다\n",
    "model.compile(optimizer='sgd', loss='mse', metrics=['mse'])\n",
    "model.fit(X , Y , batch_size=1, epochs=30, verbose = 0) # 학습 수행 verbose 는 계산과정 보여줌\n",
    "\n",
    "predict = model.predict(X)\n",
    "\n",
    "plt.plot(data, predict, 'b', data, Y, 'k.')\n",
    "plt.show()\n",
    "\n",
    "# 오차제곱 수행해보자\n",
    "print('msc',model.evaluate(X, Y, batch_size=1))\n",
    "\n",
    "# 예측값이 뭔지 출력해보자"
   ]
  },
  {
   "cell_type": "markdown",
   "id": "ba317ebd",
   "metadata": {},
   "source": [
    "## 임의로 선형을 그어보기"
   ]
  },
  {
   "cell_type": "code",
   "execution_count": 85,
   "id": "0ae3064d",
   "metadata": {},
   "outputs": [
    {
     "name": "stdout",
     "output_type": "stream",
     "text": [
      "x의 평균값 :  5.0\n",
      "y의 평균값 :  90.5\n",
      "분모 :  20.0\n",
      "분자 :  46.0\n",
      "기울기 a = 2.3\n",
      "y 절편 b = 79.0\n"
     ]
    },
    {
     "data": {
      "text/plain": [
       "[<matplotlib.lines.Line2D at 0x13c2cb89c70>]"
      ]
     },
     "execution_count": 85,
     "metadata": {},
     "output_type": "execute_result"
    },
    {
     "data": {
      "image/png": "[encoded data removed]",
      "text/plain": [
       "<Figure size 432x288 with 1 Axes>"
      ]
     },
     "metadata": {
      "needs_background": "light"
     },
     "output_type": "display_data"
    }
   ],
   "source": [
    "import numpy as np\n",
    "\n",
    "# x값과 y값\n",
    "x = [2,4,6,8]\n",
    "y = [81,93,91,97]\n",
    "\n",
    "# x와 y의 평균값\n",
    "mx = np.mean(x)\n",
    "my = np.mean(y)\n",
    "\n",
    "print('x의 평균값 : ',mx)\n",
    "print('y의 평균값 : ',my)\n",
    "\n",
    "# 기울기 공식의 분모\n",
    "divisor = sum([(mx - i)**2 for i in x])\n",
    "\n",
    "# 기울기 공식의 분자\n",
    "def top(x, mx, y, my):\n",
    "    d = 0\n",
    "    for i in range(len(x)):\n",
    "        d += (x[i] - mx) * (y[i] - my)\n",
    "    return d\n",
    "\n",
    "dividend = top(x, mx, y, my)\n",
    "\n",
    "print('분모 : ', divisor)\n",
    "print('분자 : ', dividend)\n",
    "\n",
    "# 기울기와 y절편 구하기\n",
    "a = dividend / divisor\n",
    "b = my - (mx*a)\n",
    "\n",
    "# 출력으로 확인\n",
    "print(\"기울기 a =\", a)\n",
    "print(\"y 절편 b =\", b)\n",
    "\n",
    "#\n",
    "predict = []\n",
    "for i in x:\n",
    "    predict.append(a*i +b)\n",
    "    \n",
    "\n",
    "# 그래프 그리기\n",
    "plt.scatter(x,y, label = 'data')\n",
    "plt.plot(x, predict,c='r', label = 'linear_line')"
   ]
  },
  {
   "cell_type": "markdown",
   "id": "e88d005c",
   "metadata": {},
   "source": [
    "## MSE 찾아보기"
   ]
  },
  {
   "cell_type": "code",
   "execution_count": 67,
   "id": "bbe1f3ea",
   "metadata": {},
   "outputs": [
    {
     "name": "stdout",
     "output_type": "stream",
     "text": [
      "공부시간 = 2,실제점수 = 81, 예측점수 = 85\n",
      "공부시간 = 4,실제점수 = 93, 예측점수 = 91\n",
      "공부시간 = 6,실제점수 = 91, 예측점수 = 97\n",
      "공부시간 = 8,실제점수 = 97, 예측점수 = 103\n",
      "mse 최종값: 23.0\n"
     ]
    }
   ],
   "source": [
    "import numpy as np\n",
    "\n",
    "#가상의 기울기 a와 y절편 b\n",
    "fake_a_b = [3,79]\n",
    "\n",
    "# x 값과 y값\n",
    "data = [[2,81],[4,93],[6,91],[8,97]]\n",
    "x = [i[0] for i in data]\n",
    "y = [i[1] for i in data]\n",
    "\n",
    "# y = ax + b 에 a,b 값 대입하여 결과를 출력하는 함수\n",
    "def predict(x):\n",
    "    return fake_a_b[0]*x + fake_a_b[1]\n",
    "\n",
    "# MSE 함수\n",
    "def mse(y, y_hat):\n",
    "    return ((y - y_hat)**2).mean() # 평균제곱오차를 계산해주는 함수\n",
    "\n",
    "# MSE 함수를 각 y값에 대입하여 최종 값을 구하는 함수\n",
    "def mse_val(y, predict_result):\n",
    "    return mse(np.array(y), np.array(predict_result))\n",
    "\n",
    "# 예측값이 들어갈 빈 리스트\n",
    "predict_result = []\n",
    "\n",
    "# 모든 x값을 한 번씩 대입하여 predict_result 리스트 완성\n",
    "for i in range(len(x)):\n",
    "    predict_result.append(predict(x[i]))\n",
    "    print(f'공부시간 = {x[i]},실제점수 = {y[i]}, 예측점수 = {predict(x[i])}')\n",
    "    \n",
    "# 최종 mse 출력\n",
    "print('mse 최종값: ' + str(mse_val(predict_result,y)))"
   ]
  },
  {
   "cell_type": "markdown",
   "id": "0b67decf",
   "metadata": {},
   "source": [
    "## mae 찾아보기"
   ]
  },
  {
   "cell_type": "code",
   "execution_count": 92,
   "id": "972aad6b",
   "metadata": {},
   "outputs": [
    {
     "name": "stdout",
     "output_type": "stream",
     "text": [
      "공부시간 = 2,실제점수 = 81, 예측점수 = 85\n",
      "공부시간 = 4,실제점수 = 93, 예측점수 = 91\n",
      "공부시간 = 6,실제점수 = 91, 예측점수 = 97\n",
      "공부시간 = 8,실제점수 = 97, 예측점수 = 103\n",
      "mae 최종값: 23.0\n"
     ]
    }
   ],
   "source": [
    "import numpy as np\n",
    "\n",
    "#가상의 기울기 a와 y절편 b\n",
    "fake_a_b = [3,79]\n",
    "\n",
    "# x 값과 y값\n",
    "data = [[2,81],[4,93],[6,91],[8,97]]\n",
    "x = [i[0] for i in data]\n",
    "y = [i[1] for i in data]\n",
    "\n",
    "# y = ax + b 에 a,b 값 대입하여 결과를 출력하는 함수\n",
    "def predict(x):\n",
    "    return fake_a_b[0]*x + fake_a_b[1]\n",
    "\n",
    "# MSE 함수\n",
    "def mae(y, y_hat):\n",
    "    return (abs(y - y_hat)).mean() # 평균제곱오차를 계산해주는 함수\n",
    "\n",
    "# MSE 함수를 각 y값에 대입하여 최종 값을 구하는 함수\n",
    "def mae_val(y, predict_result):\n",
    "    return mse(np.array(y), np.array(predict_result))\n",
    "\n",
    "# 예측값이 들어갈 빈 리스트\n",
    "predict_result = []\n",
    "\n",
    "# 모든 x값을 한 번씩 대입하여 predict_result 리스트 완성\n",
    "for i in range(len(x)):\n",
    "    predict_result.append(predict(x[i]))\n",
    "    print(f'공부시간 = {x[i]},실제점수 = {y[i]}, 예측점수 = {predict(x[i])}')\n",
    "    \n",
    "# 최종 mse 출력\n",
    "print('mae 최종값: ' + str(mae_val(predict_result,y)))"
   ]
  },
  {
   "cell_type": "markdown",
   "id": "6050ec33",
   "metadata": {},
   "source": [
    "## 오차 수정하기 경사 하강법"
   ]
  },
  {
   "cell_type": "raw",
   "id": "4b3efafc",
   "metadata": {},
   "source": [
    "# y_pred = a * x_data + b # 오차 함수인 y = a*x + b\n",
    "# error = y_data  - y_pred # 실제값 - 예측값 즉 오차를 구하는 식\n",
    "\n",
    "#### 평균 제곱 오차를 a로 미분한 결과\n",
    "a_diff = -(2/ len(x_data)) * sum(x_data * (error))\n",
    "\n",
    "#### 평균 제곱 오차를b로 미분한 결과\n",
    "b_diff = -(2/ len(x_data)) * sum (y_data - y_pred)\n",
    "\n",
    "#### 여기에 학습률을 곱해 기존의 a값과 b값을 업데이트 해줌\n",
    "a = a - lr * a_diff #미분 결과에 학습률을 곱한후 기존의 a값에 업데이트\n",
    "b = b - lr * b_diff #위와같음"
   ]
  },
  {
   "cell_type": "code",
   "execution_count": 112,
   "id": "8a5177bd",
   "metadata": {},
   "outputs": [
    {
     "data": {
      "image/png": "[encoded data removed]",
      "text/plain": [
       "<Figure size 576x360 with 1 Axes>"
      ]
     },
     "metadata": {
      "needs_background": "light"
     },
     "output_type": "display_data"
    }
   ],
   "source": [
    "import numpy as np\n",
    "import pandas as pd\n",
    "import matplotlib.pyplot as plt\n",
    "\n",
    "# 공부 시간 x와 성적 y의 리스트를 만듭니다.\n",
    "data = [[2,81],[4,93],[6,91],[8,97]]\n",
    "x = [i[0] for i in data]\n",
    "y = [i[1] for i in data]\n",
    "\n",
    "#그래프로 나타내 봅시다\n",
    "plt.figure(figsize=(8,5))\n",
    "plt.scatter(x,y)\n",
    "plt.show()"
   ]
  },
  {
   "cell_type": "code",
   "execution_count": 113,
   "id": "ed5b51dd",
   "metadata": {},
   "outputs": [
    {
     "name": "stdout",
     "output_type": "stream",
     "text": [
      "epoch=0, 기울기=27.84, 절편=5.43\n",
      "epoch=100, 기울기=7.073858435872394, 절편=50.51166161138297\n",
      "epoch=200, 기울기=4.095999380762421, 절편=68.28224379060177\n",
      "epoch=300, 기울기=2.9756829100119027, 절편=74.96781336233505\n",
      "epoch=400, 기울기=2.5542024233262106, 절편=77.48302865233052\n",
      "epoch=500, 기울기=2.3956349066513707, 절편=78.42929177728175\n",
      "epoch=600, 기울기=2.3359793398132864, 절편=78.78529068727728\n",
      "epoch=700, 기울기=2.313535987420573, 절편=78.91922301600925\n",
      "epoch=800, 기울기=2.3050924490666174, 절편=78.96961044185792\n",
      "epoch=900, 기울기=2.3019158585694823, 절편=78.98856697541248\n",
      "epoch=1000, 기울기=2.3007207758016315, 절편=78.99569871827002\n",
      "epoch=1100, 기울기=2.300271167070735, 절편=78.99838179089187\n",
      "epoch=1200, 기울기=2.3001020172709508, 절편=78.9993912045567\n",
      "epoch=1300, 기울기=2.300038380484562, 절편=78.99977096168232\n",
      "epoch=1400, 기울기=2.3000144393354365, 절편=78.9999138322214\n",
      "epoch=1500, 기울기=2.3000054323026444, 절편=78.99996758234106\n",
      "epoch=1600, 기울기=2.300002043716771, 절편=78.99998780397235\n",
      "epoch=1700, 기울기=2.3000007688780433, 절편=78.99999541166466\n",
      "epoch=1800, 기울기=2.300000289263884, 절편=78.99999827379686\n",
      "epoch=1900, 기울기=2.3000001088255795, 절편=78.9999993505755\n",
      "epoch=2000, 기울기=2.3000000409418653, 절편=78.99999975567644\n",
      "epoch=2100, 기울기=2.300000015402966, 절편=78.99999990808166\n",
      "epoch=2200, 기울기=2.3000000057948387, 절편=78.99999996541888\n",
      "epoch=2300, 기울기=2.3000000021801132, 절편=78.99999998699\n",
      "epoch=2400, 기울기=2.3000000008201873, 절편=78.99999999510547\n",
      "epoch=2500, 기울기=2.3000000003085623, 절편=78.99999999815863\n",
      "epoch=2600, 기울기=2.300000000116084, 절편=78.99999999930725\n",
      "epoch=2700, 기울기=2.3000000000436582, 절편=78.99999999973946\n",
      "epoch=2800, 기울기=2.3000000000164302, 절편=78.99999999990196\n",
      "epoch=2900, 기울기=2.300000000006176, 절편=78.99999999996314\n",
      "epoch=3000, 기울기=2.300000000002328, 절편=78.99999999998612\n",
      "epoch=3100, 기울기=2.3000000000008787, 절편=78.99999999999477\n",
      "epoch=3200, 기울기=2.3000000000003262, 절편=78.99999999999805\n",
      "epoch=3300, 기울기=2.3000000000001046, 절편=78.99999999999935\n",
      "epoch=3400, 기울기=2.3000000000000913, 절편=78.99999999999946\n",
      "epoch=3500, 기울기=2.30000000000009, 절편=78.99999999999946\n",
      "epoch=3600, 기울기=2.3000000000000886, 절편=78.99999999999946\n",
      "epoch=3700, 기울기=2.3000000000000904, 절편=78.99999999999946\n",
      "epoch=3800, 기울기=2.300000000000089, 절편=78.99999999999946\n",
      "epoch=3900, 기울기=2.300000000000091, 절편=78.99999999999946\n",
      "epoch=4000, 기울기=2.3000000000000895, 절편=78.99999999999946\n"
     ]
    }
   ],
   "source": [
    "# 리스트로 되어 있는 x와 y값을 넘파이 배열로 바꾸어 줍니다.\n",
    "x_data = np.array(x)\n",
    "y_data = np.array(y)\n",
    "\n",
    "# 기울기 a와 절편 b의 값을 초기화 합니다.\n",
    "a = 0\n",
    "b = 0\n",
    "\n",
    "# 학습률을 정합니다.\n",
    "lr = 0.03\n",
    "\n",
    "# 몇 번 반복될지를 설정합니다.\n",
    "epochs = 4001\n",
    "\n",
    "# 경사 하강법을 시작합니다\n",
    "for i  in range(epochs):\n",
    "    y_hat = a * x_data + b # y를 구하는 식을 세웁니다\n",
    "    error = y_data - y_hat # 오차를 구하는 식입니다\n",
    "    a_diff = -(2/len(x_data)) * sum(x_data * (error)) # 오차함수를 a로 미분한 값\n",
    "    b_diff = -(2/len(x_data)) * sum(error) # 오차함수를 b로 미분한 값\n",
    "    a = a - lr * a_diff # 학습률을 곱해 기존의 a값을 업데이트합니다.\n",
    "    b = b - lr * b_diff # 학습률을 곱해 기존의 b값을 업데이트 합니다.\n",
    "    if i % 100 == 0:\n",
    "        print(f'epoch={i}, 기울기={a}, 절편={b}')"
   ]
  },
  {
   "cell_type": "code",
   "execution_count": 114,
   "id": "f3c05795",
   "metadata": {},
   "outputs": [
    {
     "data": {
      "image/png": "[encoded data removed]",
      "text/plain": [
       "<Figure size 432x288 with 1 Axes>"
      ]
     },
     "metadata": {
      "needs_background": "light"
     },
     "output_type": "display_data"
    },
    {
     "name": "stdout",
     "output_type": "stream",
     "text": [
      "2.3000000000000895 78.99999999999946\n"
     ]
    }
   ],
   "source": [
    "y_pred = a * x_data + b\n",
    "plt.scatter(x,y)\n",
    "plt.plot([min(x_data), max(x_data)], [min(y_pred),max(y_pred)],c='r')\n",
    "plt.show()\n",
    "print(a,b)"
   ]
  },
  {
   "cell_type": "markdown",
   "id": "406d66b8",
   "metadata": {},
   "source": [
    "## 2 경사하강법으로 회귀선 찾기"
   ]
  },
  {
   "cell_type": "code",
   "execution_count": 100,
   "id": "05b21455",
   "metadata": {
    "scrolled": true
   },
   "outputs": [
    {
     "data": {
      "text/plain": [
       "<matplotlib.collections.PathCollection at 0x13c30a28f70>"
      ]
     },
     "execution_count": 100,
     "metadata": {},
     "output_type": "execute_result"
    },
    {
     "data": {
      "image/png": "[encoded data removed]",
      "text/plain": [
       "<Figure size 432x288 with 1 Axes>"
      ]
     },
     "metadata": {
      "needs_background": "light"
     },
     "output_type": "display_data"
    }
   ],
   "source": [
    "import numpy as np\n",
    "import matplotlib.pyplot as plt\n",
    "%matplotlib inline\n",
    "\n",
    "np.random.seed(0)\n",
    "# y = 4*x + 6 식을 근사 (w1=4, w0=6). random 값은 Noise를 위해 만듦\n",
    "X = 2*np.random.rand(100,1)\n",
    "y = 6 + 4*X + np.random.rand(100,1)\n",
    "\n",
    "# X, y 데이터 셋 scatter plot 으로 시각화\n",
    "plt.scatter(X,y)"
   ]
  },
  {
   "cell_type": "code",
   "execution_count": 151,
   "id": "c8763e74",
   "metadata": {},
   "outputs": [],
   "source": [
    "# w1 과 w0를 업데이트할 w1_update, w2_update를 반환\n",
    "def get_weight_updates(w1, w0, X, y, learning_rate=0.01):\n",
    "    N = len(y)\n",
    "    # 먼저 w1_update, w0_update를 각각 w1, w0의 shape와 동일한 크기를 가진 0값으로 초기화\n",
    "    \n",
    "    w1_update = np.zeros_like(w1)\n",
    "    w0_update = np.zeros_like(w0)\n",
    "    # 예측 배열 계산하고 예측과 실제 값의 차이 계산\n",
    "    y_pred = np.dot(X, w1.T) + w0\n",
    "    diff = y - y_pred\n",
    "    \n",
    "    # w0_update 를 dot 행렬 연산으로 구하기 위해 모두 1값을 가진 행렬 생성\n",
    "    w0_factors = np.ones((N,1))\n",
    "    \n",
    "    # w1과 w0을 업데이트할 w1_update와 w2_update 계산\n",
    "    w1_update = -(2/N) * learning_rate*(np.dot(X.T, diff))\n",
    "    w0_update = -(2/N) * learning_rate*(np.dot(w0_factors.T, diff))\n",
    "    \n",
    "    return w1_update, w0_update"
   ]
  },
  {
   "cell_type": "code",
   "execution_count": 157,
   "id": "afd8dd84",
   "metadata": {},
   "outputs": [],
   "source": [
    "#입력 인자 iters로 주어진 횟수만큼 반복적으로 w1과 w0를 업데이트 적용함\n",
    "def gradient_descent_steps(X, y, iters=10000):\n",
    "    # w0와 w1을 모두 0으로 초기화.\n",
    "    w0 = np.zeros((1,1))\n",
    "    w1 = np.zeros((1,1))\n",
    "    \n",
    "    # 인자로 주어진 iters만큼 반복적으로 get_weight_updates() 호출하여 w1, w0 업데이트 수행\n",
    "    for ind in range(iters):\n",
    "        w1_update, w0_update = get_weight_updates(w1, w0, X, y, learning_rate=0.01)\n",
    "        w1 = w1 - w1_update\n",
    "        w0 = w0 - w0_update\n",
    "        \n",
    "    return w1, w0\n"
   ]
  },
  {
   "cell_type": "code",
   "execution_count": 161,
   "id": "64248cef",
   "metadata": {},
   "outputs": [],
   "source": [
    "# 예측 오차 비용을 계산을 수행하는 함수 생성 및 경사 하강법 수행\n",
    "def get_cost(y, y_pred):\n",
    "    N = len(y)\n",
    "    cost = np.sum(np.square(y-y_pred))/N\n",
    "    return cost\n",
    "\n"
   ]
  },
  {
   "cell_type": "code",
   "execution_count": 164,
   "id": "cb8a59f5",
   "metadata": {},
   "outputs": [
    {
     "name": "stdout",
     "output_type": "stream",
     "text": [
      "diff's shape is (100, 1)\n",
      "w1_update shape : (1, 1) w0_update shape : (1, 1)\n",
      "w1 : [[0.]] w0 : [[0.]]\n",
      "w1: 4.008 w0:6.452434\n",
      "Gradien Descent Total Cost: 0.0815\n"
     ]
    }
   ],
   "source": [
    "w0 = np.zeros((1,1))\n",
    "w1 = np.zeros((1,1))\n",
    "y_pred = np.dot(X, w1.T) + w0\n",
    "diff = y - y_pred\n",
    "print('diff\\'s shape is',diff.shape)\n",
    "w0_factors = np.ones((100,1))\n",
    "w1_update = -(2/100)*0.01*(np.dot(X.T, diff))\n",
    "w0_update = -(2/100)*0.01*(np.dot(w0_factors.T,diff))\n",
    "print('w1_update shape :',w1_update.shape ,'w0_update shape :', w0_update.shape)\n",
    "print('w1 :',w1,'w0 :', w0)\n",
    "\n",
    "w1, w0 = gradient_descent_steps(X, y, iters=1000)\n",
    "print(\"w1:{0: .3f} w0:{1:3f}\".format(w1[0,0], w0[0,0]))\n",
    "y_pred = w1[0,0] *X + w0\n",
    "print('Gradien Descent Total Cost: {0:.4f}'.format(get_cost(y, y_pred)))"
   ]
  },
  {
   "cell_type": "code",
   "execution_count": 6,
   "id": "09a4812c",
   "metadata": {},
   "outputs": [
    {
     "name": "stderr",
     "output_type": "stream",
     "text": [
      "warning: LF will be replaced by CRLF in Untitled.ipynb.\n",
      "The file will have its original line endings in your working directory\n"
     ]
    }
   ],
   "source": [
    "!git add ."
   ]
  },
  {
   "cell_type": "code",
   "execution_count": 5,
   "id": "9765225a",
   "metadata": {},
   "outputs": [],
   "source": [
    "!git config --global core.autocrlf true"
   ]
  },
  {
   "cell_type": "markdown",
   "id": "f8df46c9",
   "metadata": {},
   "source": [
    "## 로지스틱 회귀 실습"
   ]
  },
  {
   "cell_type": "markdown",
   "id": "a6c9d835",
   "metadata": {},
   "source": [
    "### 경사하강법을이용한 a와 b 계수를 찾아보자"
   ]
  },
  {
   "cell_type": "markdown",
   "id": "9af435fb",
   "metadata": {},
   "source": [
    "#### 데이터 세팅"
   ]
  },
  {
   "cell_type": "code",
   "execution_count": 1,
   "id": "3191838c",
   "metadata": {},
   "outputs": [],
   "source": [
    "data = [[2,0], [4,0],[6,0],[8,1],[10,1],[12,1],[14,1]]\n",
    "\n",
    "x_data = [i[0] for i in data] # 공부한 시간 데이터\n",
    "y_data = [i[1] for i in data] # 합격 여부"
   ]
  },
  {
   "cell_type": "markdown",
   "id": "3c46f3b9",
   "metadata": {},
   "source": [
    "##### 출력"
   ]
  },
  {
   "cell_type": "code",
   "execution_count": 7,
   "id": "0e91f611",
   "metadata": {},
   "outputs": [
    {
     "data": {
      "text/plain": [
       "(-0.1, 1.1)"
      ]
     },
     "execution_count": 7,
     "metadata": {},
     "output_type": "execute_result"
    },
    {
     "data": {
      "image/png": "[encoded data removed]",
      "text/plain": [
       "<Figure size 432x288 with 1 Axes>"
      ]
     },
     "metadata": {
      "needs_background": "light"
     },
     "output_type": "display_data"
    }
   ],
   "source": [
    "import matplotlib.pyplot as plt\n",
    "\n",
    "plt.scatter(x_data, y_data)\n",
    "plt.xlim(0,15) # x 범위 설정 (start, end)\n",
    "plt.ylim(-.1,1.1) # y 범위 설정 (start, end)"
   ]
  },
  {
   "cell_type": "markdown",
   "id": "eb4e515c",
   "metadata": {},
   "source": [
    "#### 기울기와 a절편 b의 값을 초기화하고 학습률을 정하자"
   ]
  },
  {
   "cell_type": "code",
   "execution_count": 8,
   "id": "0ddbce0d",
   "metadata": {},
   "outputs": [],
   "source": [
    "a = 0\n",
    "b = 0\n",
    "\n",
    "lr = 0.05 # 학습률"
   ]
  },
  {
   "cell_type": "markdown",
   "id": "25ff4646",
   "metadata": {},
   "source": [
    "####  시그모이드 함수 정의"
   ]
  },
  {
   "cell_type": "code",
   "execution_count": 9,
   "id": "e2e39e41",
   "metadata": {},
   "outputs": [],
   "source": [
    "def sigmoid(x): # sigmoid라는 이름의 함수 정의\n",
    "    return 1/(1 + np.e ** (-x))# 시그모이드 식의 형태 그대로 파이썬으로 옮김"
   ]
  },
  {
   "cell_type": "markdown",
   "id": "882065c5",
   "metadata": {},
   "source": [
    "#### 경사하강법을 이용한 a, b값 구하기"
   ]
  },
  {
   "cell_type": "code",
   "execution_count": 13,
   "id": "05b76914",
   "metadata": {},
   "outputs": [],
   "source": [
    "for i in range(2001):\n",
    "    for x_data, y_data in data:\n",
    "        # a에 대한 편미분, 앞서 정의한 sigmoid 함수 사용\n",
    "        a_diff = x_data*(sigmoid(a*x_data + b) - y_data)\n",
    "        # b에 대한 편미분 , 앞서 정의한 sigmoid 함수 사용\n",
    "        b_diff = sigmoid(a*x_data + b) - y_data\n",
    "        # a를 업데이트 하기 위해 a - diff 에 학습률 lr을 곱한 값을 a 에서 뺌\n",
    "        a = a - lr * a_diff\n",
    "        # b를 업데이트 하기 위해 b - diff 에 학습률 lr을 곱한 값을 b에서 뺌\n",
    "        b = b - lr * b_diff"
   ]
  },
  {
   "cell_type": "markdown",
   "id": "a38457b1",
   "metadata": {},
   "source": [
    "#### 다층 퍼셉트론으로 xor 문제 해결"
   ]
  },
  {
   "cell_type": "code",
   "execution_count": 15,
   "id": "ae15adbe",
   "metadata": {},
   "outputs": [
    {
     "name": "stdout",
     "output_type": "stream",
     "text": [
      "입력한 값 : (0, 0)출력 값: 0\n",
      "입력한 값 : (1, 0)출력 값: 1\n",
      "입력한 값 : (0, 1)출력 값: 1\n",
      "입력한 값 : (1, 1)출력 값: 0\n"
     ]
    }
   ],
   "source": [
    "import numpy as mp\n",
    "\n",
    "w11 = np.array([-2,-2])\n",
    "w12 = np.array([2, 2])\n",
    "w2 = np.array([1, 1])\n",
    "\n",
    "b1 = 3\n",
    "b2 = -1\n",
    "b3 = -1\n",
    "\n",
    "def MLP(x, w, b):\n",
    "    y = np.sum(w*x) + b\n",
    "    if y <= 0:\n",
    "        return 0\n",
    "    else:\n",
    "        return 1\n",
    "    \n",
    "# NAND 게이트\n",
    "def NAND(x1, x2):\n",
    "    return MLP(np.array([x1, x2]), w11, b1)\n",
    "\n",
    "# OR 게이트\n",
    "def OR(x1, x2):\n",
    "    return MLP(np.array([x1, x2]), w12, b2)\n",
    "\n",
    "# AND 게이트\n",
    "def AND(x1, x2):\n",
    "    return MLP(np.array([x1, x2]), w2, b3)\n",
    "\n",
    "# XOR 게이트\n",
    "def XOR(x1, x2):\n",
    "    return AND(NAND(x1, x2), OR(x1, x2))\n",
    "\n",
    "for x in [(0,0), (1, 0), (0, 1), (1, 1)]:\n",
    "    y = XOR(x[0], x[1])\n",
    "    print('입력한 값 : '+str(x)+'출력 값: '+ str(y))"
   ]
  },
  {
   "cell_type": "markdown",
   "id": "6567a7c7",
   "metadata": {},
   "source": [
    "#### 신경망에서 딥러닝으로"
   ]
  },
  {
   "cell_type": "code",
   "execution_count": 17,
   "id": "195749a2",
   "metadata": {},
   "outputs": [
    {
     "ename": "ValueError",
     "evalue": "operands could not be broadcast together with shapes (12,) (10,) ",
     "output_type": "error",
     "traceback": [
      "\u001b[1;31m---------------------------------------------------------------------------\u001b[0m",
      "\u001b[1;31mValueError\u001b[0m                                Traceback (most recent call last)",
      "\u001b[1;32m<ipython-input-17-b96e19599b85>\u001b[0m in \u001b[0;36m<module>\u001b[1;34m\u001b[0m\n\u001b[0;32m     13\u001b[0m     \u001b[1;32mreturn\u001b[0m \u001b[1;33m-\u001b[0m\u001b[0mnp\u001b[0m\u001b[1;33m.\u001b[0m\u001b[0msum\u001b[0m\u001b[1;33m(\u001b[0m\u001b[0mt\u001b[0m\u001b[1;33m*\u001b[0m\u001b[0mnp\u001b[0m\u001b[1;33m.\u001b[0m\u001b[0mlog\u001b[0m\u001b[1;33m(\u001b[0m\u001b[0my\u001b[0m\u001b[1;33m+\u001b[0m\u001b[0mdelta\u001b[0m\u001b[1;33m)\u001b[0m\u001b[1;33m)\u001b[0m\u001b[1;33m\u001b[0m\u001b[1;33m\u001b[0m\u001b[0m\n\u001b[0;32m     14\u001b[0m \u001b[1;33m\u001b[0m\u001b[0m\n\u001b[1;32m---> 15\u001b[1;33m \u001b[0mprint\u001b[0m\u001b[1;33m(\u001b[0m\u001b[0mMSE\u001b[0m\u001b[1;33m(\u001b[0m\u001b[0mt\u001b[0m\u001b[1;33m,\u001b[0m\u001b[0my\u001b[0m\u001b[1;33m)\u001b[0m\u001b[1;33m)\u001b[0m\u001b[1;33m\u001b[0m\u001b[1;33m\u001b[0m\u001b[0m\n\u001b[0m\u001b[0;32m     16\u001b[0m \u001b[0mprint\u001b[0m\u001b[1;33m(\u001b[0m\u001b[0mCEE\u001b[0m\u001b[1;33m(\u001b[0m\u001b[0mt\u001b[0m\u001b[1;33m,\u001b[0m \u001b[0myr\u001b[0m\u001b[1;33m)\u001b[0m\u001b[1;33m)\u001b[0m\u001b[1;33m\u001b[0m\u001b[1;33m\u001b[0m\u001b[0m\n\u001b[0;32m     17\u001b[0m \u001b[0mprint\u001b[0m\u001b[1;33m(\u001b[0m\u001b[0mCEE\u001b[0m\u001b[1;33m(\u001b[0m\u001b[0mt\u001b[0m\u001b[1;33m,\u001b[0m\u001b[0my\u001b[0m\u001b[1;33m)\u001b[0m\u001b[1;33m)\u001b[0m\u001b[1;33m\u001b[0m\u001b[1;33m\u001b[0m\u001b[0m\n",
      "\u001b[1;32m<ipython-input-17-b96e19599b85>\u001b[0m in \u001b[0;36mMSE\u001b[1;34m(y, t)\u001b[0m\n\u001b[0;32m      2\u001b[0m \u001b[1;33m\u001b[0m\u001b[0m\n\u001b[0;32m      3\u001b[0m \u001b[1;32mdef\u001b[0m \u001b[0mMSE\u001b[0m\u001b[1;33m(\u001b[0m\u001b[0my\u001b[0m \u001b[1;33m,\u001b[0m\u001b[0mt\u001b[0m\u001b[1;33m)\u001b[0m\u001b[1;33m:\u001b[0m\u001b[1;33m\u001b[0m\u001b[1;33m\u001b[0m\u001b[0m\n\u001b[1;32m----> 4\u001b[1;33m     \u001b[1;32mreturn\u001b[0m \u001b[1;36m0.5\u001b[0m\u001b[1;33m*\u001b[0m\u001b[0mnp\u001b[0m\u001b[1;33m.\u001b[0m\u001b[0msum\u001b[0m\u001b[1;33m(\u001b[0m\u001b[1;33m(\u001b[0m\u001b[0my\u001b[0m\u001b[1;33m-\u001b[0m\u001b[0mt\u001b[0m\u001b[1;33m)\u001b[0m\u001b[1;33m**\u001b[0m\u001b[1;36m2\u001b[0m\u001b[1;33m)\u001b[0m\u001b[1;33m\u001b[0m\u001b[1;33m\u001b[0m\u001b[0m\n\u001b[0m\u001b[0;32m      5\u001b[0m \u001b[1;33m\u001b[0m\u001b[0m\n\u001b[0;32m      6\u001b[0m \u001b[0mt\u001b[0m \u001b[1;33m=\u001b[0m \u001b[0mnp\u001b[0m\u001b[1;33m.\u001b[0m\u001b[0marray\u001b[0m\u001b[1;33m(\u001b[0m\u001b[1;33m[\u001b[0m\u001b[1;36m0\u001b[0m\u001b[1;33m,\u001b[0m\u001b[1;36m0\u001b[0m\u001b[1;33m,\u001b[0m\u001b[1;36m0\u001b[0m\u001b[1;33m,\u001b[0m\u001b[1;36m0\u001b[0m\u001b[1;33m,\u001b[0m\u001b[1;36m5\u001b[0m\u001b[1;33m,\u001b[0m\u001b[1;36m0\u001b[0m\u001b[1;33m,\u001b[0m\u001b[1;36m5\u001b[0m\u001b[1;33m,\u001b[0m\u001b[1;36m0\u001b[0m\u001b[1;33m,\u001b[0m\u001b[1;36m0\u001b[0m\u001b[1;33m,\u001b[0m\u001b[1;36m0\u001b[0m\u001b[1;33m,\u001b[0m\u001b[1;36m0\u001b[0m\u001b[1;33m,\u001b[0m\u001b[1;36m0\u001b[0m\u001b[1;33m]\u001b[0m\u001b[1;33m)\u001b[0m\u001b[1;33m\u001b[0m\u001b[1;33m\u001b[0m\u001b[0m\n",
      "\u001b[1;31mValueError\u001b[0m: operands could not be broadcast together with shapes (12,) (10,) "
     ]
    }
   ],
   "source": [
    "import numpy as np\n",
    "\n",
    "def MSE(y ,t):\n",
    "    return 0.5*np.sum((y-t)**2)\n",
    "\n",
    "t = np.array([0,0,0,0,5,0,5,0,0,0,0,0])\n",
    "yr = np.array([0,0,0,0,5,0,5,0,0,0,0,0])\n",
    "y = np.array([0.01,0.01,0.1,0.3,0.33,0.04,0.02,0.05,0.01,0.1])\n",
    "y_l = np.array([0.3,0.01,0.1,0.1,0.01,0.04,0.02,0.05,0.33,0.01,0.1])\n",
    "\n",
    "def CEE(y, t):\n",
    "    delta = le-10\n",
    "    return -np.sum(t*np.log(y+delta))\n",
    "\n",
    "print(MSE(t,y))\n",
    "print(CEE(t, yr))\n",
    "print(CEE(t,y))\n",
    "print(CEE(t,y_l))"
   ]
  },
  {
   "cell_type": "code",
   "execution_count": 48,
   "id": "77c73775",
   "metadata": {},
   "outputs": [
    {
     "name": "stdout",
     "output_type": "stream",
     "text": [
      "Epoch 1/100\n",
      "500/500 [==============================] - 1s 2ms/step - loss: 0.0988 - accuracy: 0.2418 - mse: 0.0988\n",
      "Epoch 2/100\n",
      "500/500 [==============================] - 1s 2ms/step - loss: 0.0840 - accuracy: 0.4841 - mse: 0.0840\n",
      "Epoch 3/100\n",
      "500/500 [==============================] - 1s 2ms/step - loss: 0.0773 - accuracy: 0.5822 - mse: 0.0773\n",
      "Epoch 4/100\n",
      "500/500 [==============================] - 1s 2ms/step - loss: 0.0698 - accuracy: 0.6514 - mse: 0.0698\n",
      "Epoch 5/100\n",
      "500/500 [==============================] - 1s 2ms/step - loss: 0.0628 - accuracy: 0.6999 - mse: 0.0628\n",
      "Epoch 6/100\n",
      "500/500 [==============================] - 1s 2ms/step - loss: 0.0570 - accuracy: 0.7316 - mse: 0.0570\n",
      "Epoch 7/100\n",
      "500/500 [==============================] - 1s 2ms/step - loss: 0.0523 - accuracy: 0.7567 - mse: 0.0523\n",
      "Epoch 8/100\n",
      "500/500 [==============================] - 1s 2ms/step - loss: 0.0486 - accuracy: 0.7778 - mse: 0.0486\n",
      "Epoch 9/100\n",
      "500/500 [==============================] - 1s 2ms/step - loss: 0.0456 - accuracy: 0.7947 - mse: 0.0456\n",
      "Epoch 10/100\n",
      "500/500 [==============================] - 1s 2ms/step - loss: 0.0431 - accuracy: 0.8084 - mse: 0.0431\n",
      "Epoch 11/100\n",
      "500/500 [==============================] - 1s 2ms/step - loss: 0.0409 - accuracy: 0.8174 - mse: 0.0409\n",
      "Epoch 12/100\n",
      "500/500 [==============================] - 1s 2ms/step - loss: 0.0393 - accuracy: 0.8276 - mse: 0.0393\n",
      "Epoch 13/100\n",
      "500/500 [==============================] - 1s 2ms/step - loss: 0.0378 - accuracy: 0.8305 - mse: 0.0378\n",
      "Epoch 14/100\n",
      "500/500 [==============================] - 1s 2ms/step - loss: 0.0362 - accuracy: 0.8396 - mse: 0.0362\n",
      "Epoch 15/100\n",
      "500/500 [==============================] - 1s 2ms/step - loss: 0.0352 - accuracy: 0.8446 - mse: 0.0352\n",
      "Epoch 16/100\n",
      "500/500 [==============================] - 1s 2ms/step - loss: 0.0340 - accuracy: 0.8486 - mse: 0.0340\n",
      "Epoch 17/100\n",
      "500/500 [==============================] - 1s 2ms/step - loss: 0.0330 - accuracy: 0.8518 - mse: 0.0330\n",
      "Epoch 18/100\n",
      "500/500 [==============================] - 1s 2ms/step - loss: 0.0323 - accuracy: 0.8545 - mse: 0.0323\n",
      "Epoch 19/100\n",
      "500/500 [==============================] - 1s 2ms/step - loss: 0.0312 - accuracy: 0.8579 - mse: 0.0312\n",
      "Epoch 20/100\n",
      "500/500 [==============================] - 1s 2ms/step - loss: 0.0307 - accuracy: 0.8587 - mse: 0.0307\n",
      "Epoch 21/100\n",
      "500/500 [==============================] - 1s 2ms/step - loss: 0.0301 - accuracy: 0.8606 - mse: 0.0301\n",
      "Epoch 22/100\n",
      "500/500 [==============================] - 1s 2ms/step - loss: 0.0297 - accuracy: 0.8598 - mse: 0.0297\n",
      "Epoch 23/100\n",
      "500/500 [==============================] - 1s 2ms/step - loss: 0.0287 - accuracy: 0.8683 - mse: 0.0287\n",
      "Epoch 24/100\n",
      "500/500 [==============================] - 1s 2ms/step - loss: 0.0285 - accuracy: 0.8659 - mse: 0.0285\n",
      "Epoch 25/100\n",
      "500/500 [==============================] - 1s 2ms/step - loss: 0.0280 - accuracy: 0.8675 - mse: 0.0280\n",
      "Epoch 26/100\n",
      "500/500 [==============================] - 1s 2ms/step - loss: 0.0275 - accuracy: 0.8705 - mse: 0.0275\n",
      "Epoch 27/100\n",
      "500/500 [==============================] - 1s 2ms/step - loss: 0.0269 - accuracy: 0.8704 - mse: 0.0269\n",
      "Epoch 28/100\n",
      "500/500 [==============================] - 1s 2ms/step - loss: 0.0268 - accuracy: 0.8720 - mse: 0.0268\n",
      "Epoch 29/100\n",
      "500/500 [==============================] - 1s 2ms/step - loss: 0.0266 - accuracy: 0.8708 - mse: 0.0266\n",
      "Epoch 30/100\n",
      "500/500 [==============================] - 1s 2ms/step - loss: 0.0262 - accuracy: 0.8726 - mse: 0.0262\n",
      "Epoch 31/100\n",
      "500/500 [==============================] - 1s 2ms/step - loss: 0.0257 - accuracy: 0.8749 - mse: 0.0257\n",
      "Epoch 32/100\n",
      "500/500 [==============================] - 1s 2ms/step - loss: 0.0257 - accuracy: 0.8732 - mse: 0.0257\n",
      "Epoch 33/100\n",
      "500/500 [==============================] - 1s 2ms/step - loss: 0.0251 - accuracy: 0.8775 - mse: 0.0251\n",
      "Epoch 34/100\n",
      "500/500 [==============================] - 1s 2ms/step - loss: 0.0247 - accuracy: 0.8791 - mse: 0.0247\n",
      "Epoch 35/100\n",
      "500/500 [==============================] - 1s 2ms/step - loss: 0.0245 - accuracy: 0.8809 - mse: 0.0245\n",
      "Epoch 36/100\n",
      "500/500 [==============================] - 1s 2ms/step - loss: 0.0244 - accuracy: 0.8797 - mse: 0.0244\n",
      "Epoch 37/100\n",
      "500/500 [==============================] - 1s 1ms/step - loss: 0.0244 - accuracy: 0.8801 - mse: 0.0244\n",
      "Epoch 38/100\n",
      "500/500 [==============================] - 1s 2ms/step - loss: 0.0242 - accuracy: 0.8796 - mse: 0.0242\n",
      "Epoch 39/100\n",
      "500/500 [==============================] - 1s 1ms/step - loss: 0.0240 - accuracy: 0.8785 - mse: 0.0240\n",
      "Epoch 40/100\n",
      "500/500 [==============================] - 1s 2ms/step - loss: 0.0239 - accuracy: 0.8808 - mse: 0.0239\n",
      "Epoch 41/100\n",
      "500/500 [==============================] - 1s 1ms/step - loss: 0.0232 - accuracy: 0.8843 - mse: 0.0232\n",
      "Epoch 42/100\n",
      "500/500 [==============================] - 1s 1ms/step - loss: 0.0233 - accuracy: 0.8834 - mse: 0.0233\n",
      "Epoch 43/100\n",
      "500/500 [==============================] - 1s 2ms/step - loss: 0.0233 - accuracy: 0.8817 - mse: 0.0233\n",
      "Epoch 44/100\n",
      "500/500 [==============================] - 1s 2ms/step - loss: 0.0231 - accuracy: 0.8829 - mse: 0.0231\n",
      "Epoch 45/100\n",
      "500/500 [==============================] - 1s 1ms/step - loss: 0.0230 - accuracy: 0.8824 - mse: 0.0230\n",
      "Epoch 46/100\n",
      "500/500 [==============================] - 1s 2ms/step - loss: 0.0228 - accuracy: 0.8828 - mse: 0.0228\n",
      "Epoch 47/100\n",
      "500/500 [==============================] - 1s 1ms/step - loss: 0.0227 - accuracy: 0.8844 - mse: 0.0227\n",
      "Epoch 48/100\n",
      "500/500 [==============================] - 1s 1ms/step - loss: 0.0225 - accuracy: 0.8844 - mse: 0.0225\n",
      "Epoch 49/100\n",
      "500/500 [==============================] - 1s 1ms/step - loss: 0.0225 - accuracy: 0.8844 - mse: 0.0225\n",
      "Epoch 50/100\n",
      "500/500 [==============================] - 1s 2ms/step - loss: 0.0221 - accuracy: 0.8886 - mse: 0.0221\n",
      "Epoch 51/100\n",
      "500/500 [==============================] - 1s 1ms/step - loss: 0.0221 - accuracy: 0.8859 - mse: 0.0221\n",
      "Epoch 52/100\n",
      "500/500 [==============================] - 1s 1ms/step - loss: 0.0220 - accuracy: 0.8869 - mse: 0.0220\n",
      "Epoch 53/100\n",
      "500/500 [==============================] - 1s 2ms/step - loss: 0.0220 - accuracy: 0.8870 - mse: 0.0220\n",
      "Epoch 54/100\n",
      "500/500 [==============================] - 1s 2ms/step - loss: 0.0216 - accuracy: 0.8894 - mse: 0.0216\n",
      "Epoch 55/100\n",
      "500/500 [==============================] - 1s 2ms/step - loss: 0.0215 - accuracy: 0.8897 - mse: 0.0215\n",
      "Epoch 56/100\n",
      "500/500 [==============================] - 1s 2ms/step - loss: 0.0214 - accuracy: 0.8912 - mse: 0.0214\n",
      "Epoch 57/100\n",
      "500/500 [==============================] - 1s 1ms/step - loss: 0.0214 - accuracy: 0.8901 - mse: 0.0214\n",
      "Epoch 58/100\n",
      "500/500 [==============================] - 1s 2ms/step - loss: 0.0216 - accuracy: 0.8876 - mse: 0.0216\n",
      "Epoch 59/100\n",
      "500/500 [==============================] - 1s 1ms/step - loss: 0.0213 - accuracy: 0.8910 - mse: 0.0213\n",
      "Epoch 60/100\n",
      "500/500 [==============================] - 1s 2ms/step - loss: 0.0211 - accuracy: 0.8905 - mse: 0.0211\n",
      "Epoch 61/100\n",
      "500/500 [==============================] - 1s 1ms/step - loss: 0.0211 - accuracy: 0.8903 - mse: 0.0211\n",
      "Epoch 62/100\n",
      "500/500 [==============================] - 1s 1ms/step - loss: 0.0212 - accuracy: 0.8888 - mse: 0.0212\n",
      "Epoch 63/100\n",
      "500/500 [==============================] - 1s 1ms/step - loss: 0.0210 - accuracy: 0.8904 - mse: 0.0210\n",
      "Epoch 64/100\n",
      "500/500 [==============================] - 1s 1ms/step - loss: 0.0206 - accuracy: 0.8936 - mse: 0.0206\n",
      "Epoch 65/100\n",
      "500/500 [==============================] - 1s 1ms/step - loss: 0.0207 - accuracy: 0.8914 - mse: 0.0207\n",
      "Epoch 66/100\n",
      "500/500 [==============================] - 1s 1ms/step - loss: 0.0205 - accuracy: 0.8948 - mse: 0.0205\n",
      "Epoch 67/100\n",
      "500/500 [==============================] - 1s 1ms/step - loss: 0.0207 - accuracy: 0.8926 - mse: 0.0207\n",
      "Epoch 68/100\n",
      "500/500 [==============================] - 1s 1ms/step - loss: 0.0204 - accuracy: 0.8942 - mse: 0.0204\n",
      "Epoch 69/100\n",
      "500/500 [==============================] - 1s 1ms/step - loss: 0.0203 - accuracy: 0.8951 - mse: 0.0203\n",
      "Epoch 70/100\n",
      "500/500 [==============================] - 1s 2ms/step - loss: 0.0204 - accuracy: 0.8935 - mse: 0.0204\n",
      "Epoch 71/100\n"
     ]
    },
    {
     "name": "stdout",
     "output_type": "stream",
     "text": [
      "500/500 [==============================] - 1s 2ms/step - loss: 0.0201 - accuracy: 0.8953 - mse: 0.0201\n",
      "Epoch 72/100\n",
      "500/500 [==============================] - 1s 1ms/step - loss: 0.0202 - accuracy: 0.8940 - mse: 0.0202\n",
      "Epoch 73/100\n",
      "500/500 [==============================] - 1s 1ms/step - loss: 0.0199 - accuracy: 0.8961 - mse: 0.0199\n",
      "Epoch 74/100\n",
      "500/500 [==============================] - 1s 1ms/step - loss: 0.0199 - accuracy: 0.8967 - mse: 0.0199\n",
      "Epoch 75/100\n",
      "500/500 [==============================] - 1s 1ms/step - loss: 0.0198 - accuracy: 0.8974 - mse: 0.0198\n",
      "Epoch 76/100\n",
      "500/500 [==============================] - 1s 1ms/step - loss: 0.0199 - accuracy: 0.8961 - mse: 0.0199\n",
      "Epoch 77/100\n",
      "500/500 [==============================] - 1s 1ms/step - loss: 0.0200 - accuracy: 0.8955 - mse: 0.0200\n",
      "Epoch 78/100\n",
      "500/500 [==============================] - 1s 1ms/step - loss: 0.0197 - accuracy: 0.8971 - mse: 0.0197\n",
      "Epoch 79/100\n",
      "500/500 [==============================] - 1s 2ms/step - loss: 0.0200 - accuracy: 0.8953 - mse: 0.0200\n",
      "Epoch 80/100\n",
      "500/500 [==============================] - 1s 2ms/step - loss: 0.0198 - accuracy: 0.8971 - mse: 0.0198\n",
      "Epoch 81/100\n",
      "500/500 [==============================] - 1s 1ms/step - loss: 0.0198 - accuracy: 0.8956 - mse: 0.0198\n",
      "Epoch 82/100\n",
      "500/500 [==============================] - 1s 1ms/step - loss: 0.0196 - accuracy: 0.8971 - mse: 0.0196\n",
      "Epoch 83/100\n",
      "500/500 [==============================] - 1s 1ms/step - loss: 0.0194 - accuracy: 0.8983 - mse: 0.0194\n",
      "Epoch 84/100\n",
      "500/500 [==============================] - 1s 2ms/step - loss: 0.0193 - accuracy: 0.8982 - mse: 0.0193\n",
      "Epoch 85/100\n",
      "500/500 [==============================] - 1s 1ms/step - loss: 0.0195 - accuracy: 0.8983 - mse: 0.0195\n",
      "Epoch 86/100\n",
      "500/500 [==============================] - 1s 2ms/step - loss: 0.0193 - accuracy: 0.8986 - mse: 0.0193\n",
      "Epoch 87/100\n",
      "500/500 [==============================] - 1s 2ms/step - loss: 0.0191 - accuracy: 0.9006 - mse: 0.0191\n",
      "Epoch 88/100\n",
      "500/500 [==============================] - 1s 1ms/step - loss: 0.0192 - accuracy: 0.8987 - mse: 0.0192\n",
      "Epoch 89/100\n",
      "500/500 [==============================] - 1s 2ms/step - loss: 0.0191 - accuracy: 0.8993 - mse: 0.0191\n",
      "Epoch 90/100\n",
      "500/500 [==============================] - 1s 1ms/step - loss: 0.0189 - accuracy: 0.9015 - mse: 0.0189\n",
      "Epoch 91/100\n",
      "500/500 [==============================] - 1s 2ms/step - loss: 0.0190 - accuracy: 0.9000 - mse: 0.0190\n",
      "Epoch 92/100\n",
      "500/500 [==============================] - 1s 1ms/step - loss: 0.0191 - accuracy: 0.8995 - mse: 0.0191\n",
      "Epoch 93/100\n",
      "500/500 [==============================] - 1s 1ms/step - loss: 0.0191 - accuracy: 0.8996 - mse: 0.0191\n",
      "Epoch 94/100\n",
      "500/500 [==============================] - 1s 1ms/step - loss: 0.0189 - accuracy: 0.9008 - mse: 0.0189\n",
      "Epoch 95/100\n",
      "500/500 [==============================] - 1s 1ms/step - loss: 0.0188 - accuracy: 0.9015 - mse: 0.0188\n",
      "Epoch 96/100\n",
      "500/500 [==============================] - 1s 1ms/step - loss: 0.0189 - accuracy: 0.9006 - mse: 0.0189\n",
      "Epoch 97/100\n",
      "500/500 [==============================] - 1s 1ms/step - loss: 0.0189 - accuracy: 0.8995 - mse: 0.0189\n",
      "Epoch 98/100\n",
      "500/500 [==============================] - 1s 1ms/step - loss: 0.0189 - accuracy: 0.9006 - mse: 0.0189\n",
      "Epoch 99/100\n",
      "500/500 [==============================] - 1s 1ms/step - loss: 0.0187 - accuracy: 0.9021 - mse: 0.0187\n",
      "Epoch 100/100\n",
      "500/500 [==============================] - 1s 2ms/step - loss: 0.0187 - accuracy: 0.9022 - mse: 0.0187\n"
     ]
    },
    {
     "data": {
      "text/plain": [
       "<tensorflow.python.keras.callbacks.History at 0x1bf01c5a7f0>"
      ]
     },
     "execution_count": 48,
     "metadata": {},
     "output_type": "execute_result"
    }
   ],
   "source": [
    "import tensorflow as tf\n",
    "import matplotlib.pyplot as plt\n",
    "\n",
    "\n",
    "batch_size = 120\n",
    "num_classes = 10\n",
    "epochs = 100\n",
    "\n",
    "(x_train, y_train) , (x_test, y_test) = tf.keras.datasets.mnist.load_data()\n",
    "\n",
    "\n",
    "x_train = x_train.reshape(60000, 784)\n",
    "x_test = x_test.reshape(10000, 784)\n",
    "\n",
    "# 데이터 전처리\n",
    "x_train = x_train.astype('float32')\n",
    "x_test = x_test.astype('float32')\n",
    "\n",
    "x_train/= 255\n",
    "x_test /= 255\n",
    "\n",
    "y_train = tf.keras.utils.to_categorical(y_train, num_classes)\n",
    "y_test = tf.keras.utils.to_categorical(y_test, num_classes)\n",
    "\n",
    "# 신경망 구축\n",
    "from tensorflow.keras.models import Sequential\n",
    "from tensorflow.keras.layers import Dense\n",
    "from tensorflow.keras.optimizers import SGD\n",
    "\n",
    "model = Sequential()\n",
    "model.add(Dense(512, activation='sigmoid',input_shape = (784,)))\n",
    "model.add(Dense(num_classes, activation='sigmoid'))\n",
    "\n",
    "sgd = SGD(learning_rate=0.11)\n",
    "\n",
    "\n",
    "model.compile(loss=\"mean_squared_error\", optimizer=sgd, metrics=['accuracy','mse'])\n",
    "\n",
    "model.fit(x_train, y_train, batch_size=batch_size, epochs=epochs)"
   ]
  },
  {
   "cell_type": "code",
   "execution_count": 49,
   "id": "fa5ff5c9",
   "metadata": {},
   "outputs": [
    {
     "name": "stdout",
     "output_type": "stream",
     "text": [
      "313/313 [==============================] - 0s 657us/step - loss: 0.0177 - accuracy: 0.9089 - mse: 0.0177\n",
      "[0.01770525984466076, 0.9089000225067139, 0.01770525984466076]\n"
     ]
    }
   ],
   "source": [
    "score = model.evaluate(x_test, y_test)\n",
    "print(score)"
   ]
  },
  {
   "cell_type": "code",
   "execution_count": null,
   "id": "a3b9580b",
   "metadata": {},
   "outputs": [],
   "source": []
  }
 ],
 "metadata": {
  "kernelspec": {
   "display_name": "Python 3",
   "language": "python",
   "name": "python3"
  },
  "language_info": {
   "codemirror_mode": {
    "name": "ipython",
    "version": 3
   },
   "file_extension": ".py",
   "mimetype": "text/x-python",
   "name": "python",
   "nbconvert_exporter": "python",
   "pygments_lexer": "ipython3",
   "version": "3.8.9"
  }
 },
 "nbformat": 4,
 "nbformat_minor": 5
}
